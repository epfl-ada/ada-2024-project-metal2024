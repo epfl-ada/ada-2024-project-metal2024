{
 "cells": [
  {
   "cell_type": "code",
   "execution_count": 2,
   "metadata": {},
   "outputs": [],
   "source": [
    "XML_FILE_EXAMPLE = '../MovieSummaries/morethan100MB/corenlp_plot_summaries/4227.xml.gz'"
   ]
  },
  {
   "cell_type": "code",
   "execution_count": 3,
   "metadata": {},
   "outputs": [],
   "source": [
    "import xml.etree.ElementTree as ET\n",
    "import gzip\n",
    "\n",
    "def extract_named_entities(xml_file):\n",
    "    with gzip.open(xml_file, 'rt', encoding='utf-8') as f:\n",
    "        tree = ET.parse(f)\n",
    "        root = tree.getroot()\n",
    "\n",
    "        entities = []\n",
    "        for sentence in root.iter('sentence'):\n",
    "            for token in sentence.iter('token'):\n",
    "                ner = token.find('NER').text\n",
    "                word = token.find('word').text\n",
    "                if ner != 'O':  # Skip non-entities\n",
    "                    entities.append((word, ner))\n",
    "        return entities\n",
    "\n",
    "entities = extract_named_entities(XML_FILE_EXAMPLE)\n"
   ]
  },
  {
   "cell_type": "code",
   "execution_count": 4,
   "metadata": {},
   "outputs": [
    {
     "data": {
      "text/plain": [
       "[('Redmond', 'PERSON'),\n",
       " ('Barry', 'PERSON'),\n",
       " ('Barry', 'PERSON'),\n",
       " ('Lyndon', 'PERSON'),\n",
       " ('An', 'PERSON'),\n",
       " ('1750s', 'DATE'),\n",
       " ('Ireland', 'LOCATION'),\n",
       " ('Redmond', 'PERSON'),\n",
       " ('Barry', 'PERSON'),\n",
       " ('Barry', 'PERSON'),\n",
       " ('Nora', 'PERSON'),\n",
       " ('Brady', 'PERSON'),\n",
       " ('Barry', 'PERSON'),\n",
       " ('English', 'MISC'),\n",
       " ('John', 'PERSON'),\n",
       " ('Quin', 'PERSON'),\n",
       " ('Nora', 'PERSON'),\n",
       " ('Barry', 'PERSON'),\n",
       " ('Quin', 'PERSON'),\n",
       " ('Barry', 'PERSON'),\n",
       " ('Dublin', 'LOCATION'),\n",
       " ('Feeney', 'PERSON'),\n",
       " ('Barry', 'PERSON'),\n",
       " ('British', 'MISC'),\n",
       " ('Grogan', 'PERSON'),\n",
       " ('Quin', 'PERSON'),\n",
       " ('Barry', 'PERSON'),\n",
       " ('Nora', 'PERSON'),\n",
       " ('Barry', 'PERSON'),\n",
       " ('Nora', 'PERSON'),\n",
       " ('Quin', 'PERSON'),\n",
       " ('Barry', 'PERSON'),\n",
       " ('France', 'LOCATION'),\n",
       " ('the', 'DURATION'),\n",
       " ('Seven', 'DURATION'),\n",
       " ('Years', 'DURATION'),\n",
       " (\"'\", 'MISC'),\n",
       " ('War', 'MISC'),\n",
       " ('Grogan', 'PERSON'),\n",
       " ('French', 'MISC'),\n",
       " ('Minden', 'LOCATION'),\n",
       " ('Barry', 'PERSON'),\n",
       " ('Holland', 'LOCATION'),\n",
       " ('Potzdorf', 'PERSON'),\n",
       " ('British', 'LOCATION'),\n",
       " ('Prussian', 'LOCATION'),\n",
       " ('Barry', 'PERSON'),\n",
       " ('second', 'ORDINAL'),\n",
       " ('Frederick', 'PERSON'),\n",
       " ('Potzdorf', 'PERSON'),\n",
       " ('1763', 'DATE'),\n",
       " ('Barry', 'PERSON'),\n",
       " ('Potzdorf', 'PERSON'),\n",
       " ('Prussian', 'ORGANIZATION'),\n",
       " ('Ministry', 'ORGANIZATION'),\n",
       " ('of', 'ORGANIZATION'),\n",
       " ('Police', 'ORGANIZATION'),\n",
       " ('Chevalier', 'PERSON'),\n",
       " ('de', 'PERSON'),\n",
       " ('Balibari', 'PERSON'),\n",
       " ('Patrick', 'PERSON'),\n",
       " ('Magee', 'PERSON'),\n",
       " ('Prussians', 'MISC'),\n",
       " ('Barry', 'PERSON'),\n",
       " ('Barry', 'PERSON'),\n",
       " ('Chevalier', 'PERSON'),\n",
       " ('Chevalier', 'PERSON'),\n",
       " ('Prince', 'ORGANIZATION'),\n",
       " ('of', 'ORGANIZATION'),\n",
       " ('T', 'ORGANIZATION'),\n",
       " ('Chevalier', 'PERSON'),\n",
       " ('Chevalier', 'PERSON'),\n",
       " ('Barry', 'PERSON'),\n",
       " ('Prussian', 'LOCATION'),\n",
       " ('Chevalier', 'PERSON'),\n",
       " ('Prussians', 'MISC'),\n",
       " ('Chevalier', 'PERSON'),\n",
       " ('Barry', 'PERSON'),\n",
       " ('Chevalier', 'PERSON'),\n",
       " ('the', 'TIME'),\n",
       " ('night', 'TIME'),\n",
       " ('morning', 'TIME'),\n",
       " ('Barry', 'PERSON'),\n",
       " ('Chevalier', 'PERSON'),\n",
       " ('Prussian', 'LOCATION'),\n",
       " ('Prussian', 'LOCATION'),\n",
       " ('the', 'DURATION'),\n",
       " ('next', 'DURATION'),\n",
       " ('few', 'DURATION'),\n",
       " ('years', 'DURATION'),\n",
       " ('Barry', 'PERSON'),\n",
       " ('Chevalier', 'PERSON'),\n",
       " ('Europe', 'LOCATION'),\n",
       " ('Barry', 'PERSON'),\n",
       " ('Barry', 'PERSON'),\n",
       " ('Belgium', 'LOCATION'),\n",
       " ('Countess', 'PERSON'),\n",
       " ('Lyndon', 'PERSON'),\n",
       " ('Charles', 'PERSON'),\n",
       " ('Lyndon', 'PERSON'),\n",
       " ('George', 'PERSON'),\n",
       " ('III', 'PERSON'),\n",
       " ('now', 'DATE')]"
      ]
     },
     "execution_count": 4,
     "metadata": {},
     "output_type": "execute_result"
    }
   ],
   "source": [
    "entities"
   ]
  },
  {
   "cell_type": "code",
   "execution_count": 5,
   "metadata": {},
   "outputs": [
    {
     "data": {
      "text/plain": [
       "{'DATE',\n",
       " 'DURATION',\n",
       " 'LOCATION',\n",
       " 'MISC',\n",
       " 'ORDINAL',\n",
       " 'ORGANIZATION',\n",
       " 'PERSON',\n",
       " 'TIME'}"
      ]
     },
     "execution_count": 5,
     "metadata": {},
     "output_type": "execute_result"
    }
   ],
   "source": [
    "all_tokens = set([entity[1] for entity in entities])\n",
    "all_tokens"
   ]
  },
  {
   "cell_type": "code",
   "execution_count": 6,
   "metadata": {},
   "outputs": [],
   "source": [
    "import pandas as pd\n",
    "df_entities = pd.DataFrame(entities, columns=[\"content\", \"token_type\"])\n",
    "df_entities = df_entities.groupby(\"token_type\").agg(list).reset_index()"
   ]
  },
  {
   "cell_type": "code",
   "execution_count": 7,
   "metadata": {},
   "outputs": [
    {
     "data": {
      "text/html": [
       "<div>\n",
       "<style scoped>\n",
       "    .dataframe tbody tr th:only-of-type {\n",
       "        vertical-align: middle;\n",
       "    }\n",
       "\n",
       "    .dataframe tbody tr th {\n",
       "        vertical-align: top;\n",
       "    }\n",
       "\n",
       "    .dataframe thead th {\n",
       "        text-align: right;\n",
       "    }\n",
       "</style>\n",
       "<table border=\"1\" class=\"dataframe\">\n",
       "  <thead>\n",
       "    <tr style=\"text-align: right;\">\n",
       "      <th></th>\n",
       "      <th>token_type</th>\n",
       "      <th>content</th>\n",
       "    </tr>\n",
       "  </thead>\n",
       "  <tbody>\n",
       "    <tr>\n",
       "      <th>0</th>\n",
       "      <td>DATE</td>\n",
       "      <td>[1750s, 1763, now]</td>\n",
       "    </tr>\n",
       "    <tr>\n",
       "      <th>1</th>\n",
       "      <td>DURATION</td>\n",
       "      <td>[the, Seven, Years, the, next, few, years]</td>\n",
       "    </tr>\n",
       "    <tr>\n",
       "      <th>2</th>\n",
       "      <td>LOCATION</td>\n",
       "      <td>[Ireland, Dublin, France, Minden, Holland, Bri...</td>\n",
       "    </tr>\n",
       "    <tr>\n",
       "      <th>3</th>\n",
       "      <td>MISC</td>\n",
       "      <td>[English, British, ', War, French, Prussians, ...</td>\n",
       "    </tr>\n",
       "    <tr>\n",
       "      <th>4</th>\n",
       "      <td>ORDINAL</td>\n",
       "      <td>[second]</td>\n",
       "    </tr>\n",
       "    <tr>\n",
       "      <th>5</th>\n",
       "      <td>ORGANIZATION</td>\n",
       "      <td>[Prussian, Ministry, of, Police, Prince, of, T]</td>\n",
       "    </tr>\n",
       "    <tr>\n",
       "      <th>6</th>\n",
       "      <td>PERSON</td>\n",
       "      <td>[Redmond, Barry, Barry, Lyndon, An, Redmond, B...</td>\n",
       "    </tr>\n",
       "    <tr>\n",
       "      <th>7</th>\n",
       "      <td>TIME</td>\n",
       "      <td>[the, night, morning]</td>\n",
       "    </tr>\n",
       "  </tbody>\n",
       "</table>\n",
       "</div>"
      ],
      "text/plain": [
       "     token_type                                            content\n",
       "0          DATE                                 [1750s, 1763, now]\n",
       "1      DURATION         [the, Seven, Years, the, next, few, years]\n",
       "2      LOCATION  [Ireland, Dublin, France, Minden, Holland, Bri...\n",
       "3          MISC  [English, British, ', War, French, Prussians, ...\n",
       "4       ORDINAL                                           [second]\n",
       "5  ORGANIZATION    [Prussian, Ministry, of, Police, Prince, of, T]\n",
       "6        PERSON  [Redmond, Barry, Barry, Lyndon, An, Redmond, B...\n",
       "7          TIME                              [the, night, morning]"
      ]
     },
     "execution_count": 7,
     "metadata": {},
     "output_type": "execute_result"
    }
   ],
   "source": [
    "df_entities #.to_dict(orient=\"split\")"
   ]
  },
  {
   "cell_type": "code",
   "execution_count": 8,
   "metadata": {},
   "outputs": [],
   "source": [
    "dict_ = {b:a for a , b in entities}"
   ]
  },
  {
   "cell_type": "code",
   "execution_count": 9,
   "metadata": {},
   "outputs": [
    {
     "data": {
      "text/plain": [
       "dict_items([('PERSON', 'III'), ('DATE', 'now'), ('LOCATION', 'Belgium'), ('MISC', 'Prussians'), ('DURATION', 'years'), ('ORDINAL', 'second'), ('ORGANIZATION', 'T'), ('TIME', 'morning')])"
      ]
     },
     "execution_count": 9,
     "metadata": {},
     "output_type": "execute_result"
    }
   ],
   "source": [
    "dict_.items()"
   ]
  },
  {
   "cell_type": "code",
   "execution_count": 10,
   "metadata": {},
   "outputs": [
    {
     "name": "stdout",
     "output_type": "stream",
     "text": [
      "{'PERSON': ['Redmond', 'Barry', 'Barry', 'Lyndon', 'An', 'Redmond', 'Barry', 'Barry', 'Nora', 'Brady', 'Barry', 'John', 'Quin', 'Nora', 'Barry', 'Quin', 'Barry', 'Feeney', 'Barry', 'Grogan', 'Quin', 'Barry', 'Nora', 'Barry', 'Nora', 'Quin', 'Barry', 'Grogan', 'Barry', 'Potzdorf', 'Barry', 'Frederick', 'Potzdorf', 'Barry', 'Potzdorf', 'Chevalier', 'de', 'Balibari', 'Patrick', 'Magee', 'Barry', 'Barry', 'Chevalier', 'Chevalier', 'Chevalier', 'Chevalier', 'Barry', 'Chevalier', 'Chevalier', 'Barry', 'Chevalier', 'Barry', 'Chevalier', 'Barry', 'Chevalier', 'Barry', 'Barry', 'Countess', 'Lyndon', 'Charles', 'Lyndon', 'George', 'III'], 'DATE': ['1750s', '1763', 'now'], 'LOCATION': ['Ireland', 'Dublin', 'France', 'Minden', 'Holland', 'British', 'Prussian', 'Prussian', 'Prussian', 'Prussian', 'Europe', 'Belgium'], 'MISC': ['English', 'British', \"'\", 'War', 'French', 'Prussians', 'Prussians'], 'DURATION': ['the', 'Seven', 'Years', 'the', 'next', 'few', 'years'], 'ORDINAL': ['second'], 'ORGANIZATION': ['Prussian', 'Ministry', 'of', 'Police', 'Prince', 'of', 'T'], 'TIME': ['the', 'night', 'morning']}\n"
     ]
    }
   ],
   "source": [
    "from collections import defaultdict\n",
    "\n",
    "entity_dict = defaultdict(list)\n",
    "\n",
    "# Populate the dictionary\n",
    "for name, entity_type in entities:\n",
    "    entity_dict[entity_type].append(name)\n",
    "\n",
    "# Convert to a regular dict if needed\n",
    "entity_dict = dict(entity_dict)\n",
    "\n",
    "print(entity_dict)"
   ]
  },
  {
   "cell_type": "code",
   "execution_count": 11,
   "metadata": {},
   "outputs": [
    {
     "data": {
      "text/html": [
       "<div>\n",
       "<style scoped>\n",
       "    .dataframe tbody tr th:only-of-type {\n",
       "        vertical-align: middle;\n",
       "    }\n",
       "\n",
       "    .dataframe tbody tr th {\n",
       "        vertical-align: top;\n",
       "    }\n",
       "\n",
       "    .dataframe thead th {\n",
       "        text-align: right;\n",
       "    }\n",
       "</style>\n",
       "<table border=\"1\" class=\"dataframe\">\n",
       "  <thead>\n",
       "    <tr style=\"text-align: right;\">\n",
       "      <th></th>\n",
       "      <th>0</th>\n",
       "      <th>1</th>\n",
       "      <th>2</th>\n",
       "      <th>3</th>\n",
       "      <th>4</th>\n",
       "      <th>5</th>\n",
       "      <th>6</th>\n",
       "      <th>7</th>\n",
       "      <th>8</th>\n",
       "      <th>9</th>\n",
       "      <th>...</th>\n",
       "      <th>53</th>\n",
       "      <th>54</th>\n",
       "      <th>55</th>\n",
       "      <th>56</th>\n",
       "      <th>57</th>\n",
       "      <th>58</th>\n",
       "      <th>59</th>\n",
       "      <th>60</th>\n",
       "      <th>61</th>\n",
       "      <th>62</th>\n",
       "    </tr>\n",
       "  </thead>\n",
       "  <tbody>\n",
       "    <tr>\n",
       "      <th>PERSON</th>\n",
       "      <td>Redmond</td>\n",
       "      <td>Barry</td>\n",
       "      <td>Barry</td>\n",
       "      <td>Lyndon</td>\n",
       "      <td>An</td>\n",
       "      <td>Redmond</td>\n",
       "      <td>Barry</td>\n",
       "      <td>Barry</td>\n",
       "      <td>Nora</td>\n",
       "      <td>Brady</td>\n",
       "      <td>...</td>\n",
       "      <td>Barry</td>\n",
       "      <td>Chevalier</td>\n",
       "      <td>Barry</td>\n",
       "      <td>Barry</td>\n",
       "      <td>Countess</td>\n",
       "      <td>Lyndon</td>\n",
       "      <td>Charles</td>\n",
       "      <td>Lyndon</td>\n",
       "      <td>George</td>\n",
       "      <td>III</td>\n",
       "    </tr>\n",
       "    <tr>\n",
       "      <th>DATE</th>\n",
       "      <td>1750s</td>\n",
       "      <td>1763</td>\n",
       "      <td>now</td>\n",
       "      <td>None</td>\n",
       "      <td>None</td>\n",
       "      <td>None</td>\n",
       "      <td>None</td>\n",
       "      <td>None</td>\n",
       "      <td>None</td>\n",
       "      <td>None</td>\n",
       "      <td>...</td>\n",
       "      <td>None</td>\n",
       "      <td>None</td>\n",
       "      <td>None</td>\n",
       "      <td>None</td>\n",
       "      <td>None</td>\n",
       "      <td>None</td>\n",
       "      <td>None</td>\n",
       "      <td>None</td>\n",
       "      <td>None</td>\n",
       "      <td>None</td>\n",
       "    </tr>\n",
       "    <tr>\n",
       "      <th>LOCATION</th>\n",
       "      <td>Ireland</td>\n",
       "      <td>Dublin</td>\n",
       "      <td>France</td>\n",
       "      <td>Minden</td>\n",
       "      <td>Holland</td>\n",
       "      <td>British</td>\n",
       "      <td>Prussian</td>\n",
       "      <td>Prussian</td>\n",
       "      <td>Prussian</td>\n",
       "      <td>Prussian</td>\n",
       "      <td>...</td>\n",
       "      <td>None</td>\n",
       "      <td>None</td>\n",
       "      <td>None</td>\n",
       "      <td>None</td>\n",
       "      <td>None</td>\n",
       "      <td>None</td>\n",
       "      <td>None</td>\n",
       "      <td>None</td>\n",
       "      <td>None</td>\n",
       "      <td>None</td>\n",
       "    </tr>\n",
       "    <tr>\n",
       "      <th>MISC</th>\n",
       "      <td>English</td>\n",
       "      <td>British</td>\n",
       "      <td>'</td>\n",
       "      <td>War</td>\n",
       "      <td>French</td>\n",
       "      <td>Prussians</td>\n",
       "      <td>Prussians</td>\n",
       "      <td>None</td>\n",
       "      <td>None</td>\n",
       "      <td>None</td>\n",
       "      <td>...</td>\n",
       "      <td>None</td>\n",
       "      <td>None</td>\n",
       "      <td>None</td>\n",
       "      <td>None</td>\n",
       "      <td>None</td>\n",
       "      <td>None</td>\n",
       "      <td>None</td>\n",
       "      <td>None</td>\n",
       "      <td>None</td>\n",
       "      <td>None</td>\n",
       "    </tr>\n",
       "    <tr>\n",
       "      <th>DURATION</th>\n",
       "      <td>the</td>\n",
       "      <td>Seven</td>\n",
       "      <td>Years</td>\n",
       "      <td>the</td>\n",
       "      <td>next</td>\n",
       "      <td>few</td>\n",
       "      <td>years</td>\n",
       "      <td>None</td>\n",
       "      <td>None</td>\n",
       "      <td>None</td>\n",
       "      <td>...</td>\n",
       "      <td>None</td>\n",
       "      <td>None</td>\n",
       "      <td>None</td>\n",
       "      <td>None</td>\n",
       "      <td>None</td>\n",
       "      <td>None</td>\n",
       "      <td>None</td>\n",
       "      <td>None</td>\n",
       "      <td>None</td>\n",
       "      <td>None</td>\n",
       "    </tr>\n",
       "    <tr>\n",
       "      <th>ORDINAL</th>\n",
       "      <td>second</td>\n",
       "      <td>None</td>\n",
       "      <td>None</td>\n",
       "      <td>None</td>\n",
       "      <td>None</td>\n",
       "      <td>None</td>\n",
       "      <td>None</td>\n",
       "      <td>None</td>\n",
       "      <td>None</td>\n",
       "      <td>None</td>\n",
       "      <td>...</td>\n",
       "      <td>None</td>\n",
       "      <td>None</td>\n",
       "      <td>None</td>\n",
       "      <td>None</td>\n",
       "      <td>None</td>\n",
       "      <td>None</td>\n",
       "      <td>None</td>\n",
       "      <td>None</td>\n",
       "      <td>None</td>\n",
       "      <td>None</td>\n",
       "    </tr>\n",
       "    <tr>\n",
       "      <th>ORGANIZATION</th>\n",
       "      <td>Prussian</td>\n",
       "      <td>Ministry</td>\n",
       "      <td>of</td>\n",
       "      <td>Police</td>\n",
       "      <td>Prince</td>\n",
       "      <td>of</td>\n",
       "      <td>T</td>\n",
       "      <td>None</td>\n",
       "      <td>None</td>\n",
       "      <td>None</td>\n",
       "      <td>...</td>\n",
       "      <td>None</td>\n",
       "      <td>None</td>\n",
       "      <td>None</td>\n",
       "      <td>None</td>\n",
       "      <td>None</td>\n",
       "      <td>None</td>\n",
       "      <td>None</td>\n",
       "      <td>None</td>\n",
       "      <td>None</td>\n",
       "      <td>None</td>\n",
       "    </tr>\n",
       "    <tr>\n",
       "      <th>TIME</th>\n",
       "      <td>the</td>\n",
       "      <td>night</td>\n",
       "      <td>morning</td>\n",
       "      <td>None</td>\n",
       "      <td>None</td>\n",
       "      <td>None</td>\n",
       "      <td>None</td>\n",
       "      <td>None</td>\n",
       "      <td>None</td>\n",
       "      <td>None</td>\n",
       "      <td>...</td>\n",
       "      <td>None</td>\n",
       "      <td>None</td>\n",
       "      <td>None</td>\n",
       "      <td>None</td>\n",
       "      <td>None</td>\n",
       "      <td>None</td>\n",
       "      <td>None</td>\n",
       "      <td>None</td>\n",
       "      <td>None</td>\n",
       "      <td>None</td>\n",
       "    </tr>\n",
       "  </tbody>\n",
       "</table>\n",
       "<p>8 rows × 63 columns</p>\n",
       "</div>"
      ],
      "text/plain": [
       "                    0         1        2       3        4          5   \\\n",
       "PERSON         Redmond     Barry    Barry  Lyndon       An    Redmond   \n",
       "DATE             1750s      1763      now    None     None       None   \n",
       "LOCATION       Ireland    Dublin   France  Minden  Holland    British   \n",
       "MISC           English   British        '     War   French  Prussians   \n",
       "DURATION           the     Seven    Years     the     next        few   \n",
       "ORDINAL         second      None     None    None     None       None   \n",
       "ORGANIZATION  Prussian  Ministry       of  Police   Prince         of   \n",
       "TIME               the     night  morning    None     None       None   \n",
       "\n",
       "                     6         7         8         9   ...     53         54  \\\n",
       "PERSON            Barry     Barry      Nora     Brady  ...  Barry  Chevalier   \n",
       "DATE               None      None      None      None  ...   None       None   \n",
       "LOCATION       Prussian  Prussian  Prussian  Prussian  ...   None       None   \n",
       "MISC          Prussians      None      None      None  ...   None       None   \n",
       "DURATION          years      None      None      None  ...   None       None   \n",
       "ORDINAL            None      None      None      None  ...   None       None   \n",
       "ORGANIZATION          T      None      None      None  ...   None       None   \n",
       "TIME               None      None      None      None  ...   None       None   \n",
       "\n",
       "                 55     56        57      58       59      60      61    62  \n",
       "PERSON        Barry  Barry  Countess  Lyndon  Charles  Lyndon  George   III  \n",
       "DATE           None   None      None    None     None    None    None  None  \n",
       "LOCATION       None   None      None    None     None    None    None  None  \n",
       "MISC           None   None      None    None     None    None    None  None  \n",
       "DURATION       None   None      None    None     None    None    None  None  \n",
       "ORDINAL        None   None      None    None     None    None    None  None  \n",
       "ORGANIZATION   None   None      None    None     None    None    None  None  \n",
       "TIME           None   None      None    None     None    None    None  None  \n",
       "\n",
       "[8 rows x 63 columns]"
      ]
     },
     "execution_count": 11,
     "metadata": {},
     "output_type": "execute_result"
    }
   ],
   "source": [
    "pd.DataFrame.from_dict(entity_dict, orient=\"index\")"
   ]
  },
  {
   "cell_type": "code",
   "execution_count": 12,
   "metadata": {},
   "outputs": [
    {
     "data": {
      "text/html": [
       "<div>\n",
       "<style scoped>\n",
       "    .dataframe tbody tr th:only-of-type {\n",
       "        vertical-align: middle;\n",
       "    }\n",
       "\n",
       "    .dataframe tbody tr th {\n",
       "        vertical-align: top;\n",
       "    }\n",
       "\n",
       "    .dataframe thead th {\n",
       "        text-align: right;\n",
       "    }\n",
       "</style>\n",
       "<table border=\"1\" class=\"dataframe\">\n",
       "  <thead>\n",
       "    <tr style=\"text-align: right;\">\n",
       "      <th></th>\n",
       "      <th>PERSON</th>\n",
       "      <th>DATE</th>\n",
       "      <th>LOCATION</th>\n",
       "      <th>MISC</th>\n",
       "      <th>DURATION</th>\n",
       "      <th>ORDINAL</th>\n",
       "      <th>ORGANIZATION</th>\n",
       "      <th>TIME</th>\n",
       "    </tr>\n",
       "  </thead>\n",
       "  <tbody>\n",
       "    <tr>\n",
       "      <th>ID_12</th>\n",
       "      <td>[Redmond, Barry, Barry, Lyndon, An, Redmond, B...</td>\n",
       "      <td>[1750s, 1763, now]</td>\n",
       "      <td>[Ireland, Dublin, France, Minden, Holland, Bri...</td>\n",
       "      <td>[English, British, ', War, French, Prussians, ...</td>\n",
       "      <td>[the, Seven, Years, the, next, few, years]</td>\n",
       "      <td>[second]</td>\n",
       "      <td>[Prussian, Ministry, of, Police, Prince, of, T]</td>\n",
       "      <td>[the, night, morning]</td>\n",
       "    </tr>\n",
       "    <tr>\n",
       "      <th>ID_13</th>\n",
       "      <td>[Redmond, Barry, Barry, Lyndon, An, Redmond, B...</td>\n",
       "      <td>[1750s, 1763, now]</td>\n",
       "      <td>[Ireland, Dublin, France, Minden, Holland, Bri...</td>\n",
       "      <td>[English, British, ', War, French, Prussians, ...</td>\n",
       "      <td>[the, Seven, Years, the, next, few, years]</td>\n",
       "      <td>[second]</td>\n",
       "      <td>[Prussian, Ministry, of, Police, Prince, of, T]</td>\n",
       "      <td>[the, night, morning]</td>\n",
       "    </tr>\n",
       "  </tbody>\n",
       "</table>\n",
       "</div>"
      ],
      "text/plain": [
       "                                                  PERSON                DATE  \\\n",
       "ID_12  [Redmond, Barry, Barry, Lyndon, An, Redmond, B...  [1750s, 1763, now]   \n",
       "ID_13  [Redmond, Barry, Barry, Lyndon, An, Redmond, B...  [1750s, 1763, now]   \n",
       "\n",
       "                                                LOCATION  \\\n",
       "ID_12  [Ireland, Dublin, France, Minden, Holland, Bri...   \n",
       "ID_13  [Ireland, Dublin, France, Minden, Holland, Bri...   \n",
       "\n",
       "                                                    MISC  \\\n",
       "ID_12  [English, British, ', War, French, Prussians, ...   \n",
       "ID_13  [English, British, ', War, French, Prussians, ...   \n",
       "\n",
       "                                         DURATION   ORDINAL  \\\n",
       "ID_12  [the, Seven, Years, the, next, few, years]  [second]   \n",
       "ID_13  [the, Seven, Years, the, next, few, years]  [second]   \n",
       "\n",
       "                                          ORGANIZATION                   TIME  \n",
       "ID_12  [Prussian, Ministry, of, Police, Prince, of, T]  [the, night, morning]  \n",
       "ID_13  [Prussian, Ministry, of, Police, Prince, of, T]  [the, night, morning]  "
      ]
     },
     "execution_count": 12,
     "metadata": {},
     "output_type": "execute_result"
    }
   ],
   "source": [
    "row = { \"ID_12\" : entity_dict, \"ID_13\": entity_dict}\n",
    "\n",
    "pd.DataFrame.from_dict(row, orient=\"index\")"
   ]
  },
  {
   "cell_type": "code",
   "execution_count": 15,
   "metadata": {},
   "outputs": [
    {
     "data": {
      "text/html": [
       "<div>\n",
       "<style scoped>\n",
       "    .dataframe tbody tr th:only-of-type {\n",
       "        vertical-align: middle;\n",
       "    }\n",
       "\n",
       "    .dataframe tbody tr th {\n",
       "        vertical-align: top;\n",
       "    }\n",
       "\n",
       "    .dataframe thead th {\n",
       "        text-align: right;\n",
       "    }\n",
       "</style>\n",
       "<table border=\"1\" class=\"dataframe\">\n",
       "  <thead>\n",
       "    <tr style=\"text-align: right;\">\n",
       "      <th></th>\n",
       "      <th>PERSON</th>\n",
       "      <th>DATE</th>\n",
       "      <th>LOCATION</th>\n",
       "      <th>MISC</th>\n",
       "      <th>DURATION</th>\n",
       "      <th>ORDINAL</th>\n",
       "      <th>ORGANIZATION</th>\n",
       "      <th>TIME</th>\n",
       "    </tr>\n",
       "  </thead>\n",
       "  <tbody>\n",
       "    <tr>\n",
       "      <th>0</th>\n",
       "      <td>[Redmond, Barry, Barry, Lyndon, An, Redmond, B...</td>\n",
       "      <td>[1750s, 1763, now]</td>\n",
       "      <td>[Ireland, Dublin, France, Minden, Holland, Bri...</td>\n",
       "      <td>[English, British, ', War, French, Prussians, ...</td>\n",
       "      <td>[the, Seven, Years, the, next, few, years]</td>\n",
       "      <td>[second]</td>\n",
       "      <td>[Prussian, Ministry, of, Police, Prince, of, T]</td>\n",
       "      <td>[the, night, morning]</td>\n",
       "    </tr>\n",
       "    <tr>\n",
       "      <th>1</th>\n",
       "      <td>[Redmond, Barry, Barry, Lyndon, An, Redmond, B...</td>\n",
       "      <td>[1750s, 1763, now]</td>\n",
       "      <td>[Ireland, Dublin, France, Minden, Holland, Bri...</td>\n",
       "      <td>[English, British, ', War, French, Prussians, ...</td>\n",
       "      <td>[the, Seven, Years, the, next, few, years]</td>\n",
       "      <td>[second]</td>\n",
       "      <td>[Prussian, Ministry, of, Police, Prince, of, T]</td>\n",
       "      <td>[the, night, morning]</td>\n",
       "    </tr>\n",
       "  </tbody>\n",
       "</table>\n",
       "</div>"
      ],
      "text/plain": [
       "                                              PERSON                DATE  \\\n",
       "0  [Redmond, Barry, Barry, Lyndon, An, Redmond, B...  [1750s, 1763, now]   \n",
       "1  [Redmond, Barry, Barry, Lyndon, An, Redmond, B...  [1750s, 1763, now]   \n",
       "\n",
       "                                            LOCATION  \\\n",
       "0  [Ireland, Dublin, France, Minden, Holland, Bri...   \n",
       "1  [Ireland, Dublin, France, Minden, Holland, Bri...   \n",
       "\n",
       "                                                MISC  \\\n",
       "0  [English, British, ', War, French, Prussians, ...   \n",
       "1  [English, British, ', War, French, Prussians, ...   \n",
       "\n",
       "                                     DURATION   ORDINAL  \\\n",
       "0  [the, Seven, Years, the, next, few, years]  [second]   \n",
       "1  [the, Seven, Years, the, next, few, years]  [second]   \n",
       "\n",
       "                                      ORGANIZATION                   TIME  \n",
       "0  [Prussian, Ministry, of, Police, Prince, of, T]  [the, night, morning]  \n",
       "1  [Prussian, Ministry, of, Police, Prince, of, T]  [the, night, morning]  "
      ]
     },
     "execution_count": 15,
     "metadata": {},
     "output_type": "execute_result"
    }
   ],
   "source": [
    "row2 = [entity_dict, entity_dict]\n",
    "\n",
    "pd.DataFrame(row2)"
   ]
  },
  {
   "cell_type": "code",
   "execution_count": 13,
   "metadata": {},
   "outputs": [
    {
     "name": "stdout",
     "output_type": "stream",
     "text": [
      "[]\n"
     ]
    }
   ],
   "source": [
    "import xml.etree.ElementTree as ET\n",
    "import gzip\n",
    "\n",
    "def extract_coreferences(xml_file):\n",
    "    with gzip.open(xml_file, 'rt', encoding='utf-8') as f:\n",
    "        tree = ET.parse(f)\n",
    "        root = tree.getroot()\n",
    "\n",
    "        corefs = []\n",
    "        for coref in root.iter('coreference'):\n",
    "            chain = []\n",
    "            for mention in coref.iter('mention'):\n",
    "                text_element = mention.find('text')\n",
    "                if text_element is not None:  # Check if 'text' element exists\n",
    "                    chain.append(text_element.text)\n",
    "            if chain:  # Add chain only if it has valid mentions\n",
    "                corefs.append(chain)\n",
    "        return corefs\n",
    "\n",
    "corefs = extract_coreferences(XML_FILE_EXAMPLE)\n",
    "print(corefs)\n"
   ]
  },
  {
   "cell_type": "code",
   "execution_count": 14,
   "metadata": {},
   "outputs": [
    {
     "data": {
      "text/plain": [
       "[]"
      ]
     },
     "execution_count": 14,
     "metadata": {},
     "output_type": "execute_result"
    }
   ],
   "source": [
    "corefs"
   ]
  },
  {
   "cell_type": "code",
   "execution_count": 4,
   "metadata": {},
   "outputs": [
    {
     "data": {
      "text/plain": [
       "('4227', '.xml')"
      ]
     },
     "execution_count": 4,
     "metadata": {},
     "output_type": "execute_result"
    }
   ],
   "source": [
    "import os\n",
    "os.path.splitext(os.path.splitext(os.path.basename(XML_FILE_EXAMPLE))[0])"
   ]
  },
  {
   "cell_type": "code",
   "execution_count": 1,
   "metadata": {},
   "outputs": [
    {
     "data": {
      "text/html": [
       "<div>\n",
       "<style scoped>\n",
       "    .dataframe tbody tr th:only-of-type {\n",
       "        vertical-align: middle;\n",
       "    }\n",
       "\n",
       "    .dataframe tbody tr th {\n",
       "        vertical-align: top;\n",
       "    }\n",
       "\n",
       "    .dataframe thead th {\n",
       "        text-align: right;\n",
       "    }\n",
       "</style>\n",
       "<table border=\"1\" class=\"dataframe\">\n",
       "  <thead>\n",
       "    <tr style=\"text-align: right;\">\n",
       "      <th></th>\n",
       "      <th>col1</th>\n",
       "      <th>col2</th>\n",
       "    </tr>\n",
       "  </thead>\n",
       "  <tbody>\n",
       "    <tr>\n",
       "      <th>0</th>\n",
       "      <td>1</td>\n",
       "      <td>a</td>\n",
       "    </tr>\n",
       "    <tr>\n",
       "      <th>1</th>\n",
       "      <td>2</td>\n",
       "      <td>b</td>\n",
       "    </tr>\n",
       "    <tr>\n",
       "      <th>2</th>\n",
       "      <td>3</td>\n",
       "      <td>c</td>\n",
       "    </tr>\n",
       "  </tbody>\n",
       "</table>\n",
       "</div>"
      ],
      "text/plain": [
       "   col1 col2\n",
       "0     1    a\n",
       "1     2    b\n",
       "2     3    c"
      ]
     },
     "execution_count": 1,
     "metadata": {},
     "output_type": "execute_result"
    }
   ],
   "source": [
    "import pandas as pd\n",
    "test = pd.DataFrame(\n",
    "    {\"col1\": [1, 2, 3], \"col2\": [\"a\", \"b\", \"c\"]}\n",
    ")\n",
    "test"
   ]
  },
  {
   "cell_type": "code",
   "execution_count": 2,
   "metadata": {},
   "outputs": [
    {
     "data": {
      "text/html": [
       "<div>\n",
       "<style scoped>\n",
       "    .dataframe tbody tr th:only-of-type {\n",
       "        vertical-align: middle;\n",
       "    }\n",
       "\n",
       "    .dataframe tbody tr th {\n",
       "        vertical-align: top;\n",
       "    }\n",
       "\n",
       "    .dataframe thead th {\n",
       "        text-align: right;\n",
       "    }\n",
       "</style>\n",
       "<table border=\"1\" class=\"dataframe\">\n",
       "  <thead>\n",
       "    <tr style=\"text-align: right;\">\n",
       "      <th></th>\n",
       "      <th>col1</th>\n",
       "      <th>col2</th>\n",
       "    </tr>\n",
       "  </thead>\n",
       "  <tbody>\n",
       "    <tr>\n",
       "      <th>1</th>\n",
       "      <td>2</td>\n",
       "      <td>b</td>\n",
       "    </tr>\n",
       "    <tr>\n",
       "      <th>2</th>\n",
       "      <td>3</td>\n",
       "      <td>c</td>\n",
       "    </tr>\n",
       "  </tbody>\n",
       "</table>\n",
       "</div>"
      ],
      "text/plain": [
       "   col1 col2\n",
       "1     2    b\n",
       "2     3    c"
      ]
     },
     "execution_count": 2,
     "metadata": {},
     "output_type": "execute_result"
    }
   ],
   "source": [
    "test.loc[[1, 2], [\"col1\", \"col2\"]]"
   ]
  },
  {
   "cell_type": "code",
   "execution_count": 3,
   "metadata": {},
   "outputs": [
    {
     "data": {
      "text/plain": [
       "2"
      ]
     },
     "execution_count": 3,
     "metadata": {},
     "output_type": "execute_result"
    }
   ],
   "source": [
    "test.loc[1, \"col1\"]"
   ]
  },
  {
   "cell_type": "code",
   "execution_count": 4,
   "metadata": {},
   "outputs": [],
   "source": [
    "test2 = test.set_index(\"col1\")"
   ]
  },
  {
   "cell_type": "code",
   "execution_count": 19,
   "metadata": {},
   "outputs": [
    {
     "data": {
      "text/plain": [
       "col1      \n",
       "1     col2    a\n",
       "2     col2    b\n",
       "dtype: object"
      ]
     },
     "execution_count": 19,
     "metadata": {},
     "output_type": "execute_result"
    }
   ],
   "source": [
    "test2.stack().head(2)"
   ]
  },
  {
   "cell_type": "code",
   "execution_count": 15,
   "metadata": {},
   "outputs": [],
   "source": [
    "test2.squeeze().get(9)"
   ]
  },
  {
   "cell_type": "code",
   "execution_count": null,
   "metadata": {},
   "outputs": [],
   "source": []
  }
 ],
 "metadata": {
  "kernelspec": {
   "display_name": "Python 3",
   "language": "python",
   "name": "python3"
  },
  "language_info": {
   "codemirror_mode": {
    "name": "ipython",
    "version": 3
   },
   "file_extension": ".py",
   "mimetype": "text/x-python",
   "name": "python",
   "nbconvert_exporter": "python",
   "pygments_lexer": "ipython3",
   "version": "3.10.4"
  }
 },
 "nbformat": 4,
 "nbformat_minor": 2
}
