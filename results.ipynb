{
 "cells": [
  {
   "cell_type": "code",
   "execution_count": 201,
   "metadata": {},
   "outputs": [],
   "source": [
    "import numpy as np\n",
    "import pandas as pd\n",
    "import seaborn as sns\n",
    "\n",
    "from collections import Counter\n",
    "\n",
    "# plots\n",
    "from matplotlib import pyplot as plt\n",
    "import plotly.graph_objects as go"
   ]
  },
  {
   "cell_type": "markdown",
   "metadata": {},
   "source": [
    "## Genres"
   ]
  },
  {
   "cell_type": "markdown",
   "metadata": {},
   "source": [
    "### Load data"
   ]
  },
  {
   "cell_type": "code",
   "execution_count": 202,
   "metadata": {},
   "outputs": [],
   "source": [
    "# Load data\n",
    "processed_movies_df = pd.read_csv(\"data/processed_movies.csv\")\n",
    "movies_df = processed_movies_df[['Movie name', 'Movie release date', 'Movie genres']]"
   ]
  },
  {
   "cell_type": "markdown",
   "metadata": {},
   "source": [
    "#### Add a \"Periods\" column"
   ]
  },
  {
   "cell_type": "code",
   "execution_count": 203,
   "metadata": {},
   "outputs": [],
   "source": [
    "periods_map = {\n",
    "    \"The Belle Époque (1900-1914)\": {\"start_year\": 1900, \"end_year\": 1913},\n",
    "    \"World War I (1914-1918)\": {\"start_year\": 1914, \"end_year\": 1919},\n",
    "    \"The Roaring Twenties (1920-1929)\": {\"start_year\": 1920, \"end_year\": 1928},\n",
    "    \"The Great Depression (1929-1939)\": {\"start_year\": 1930, \"end_year\": 1939},\n",
    "    \"World War II (1939-1945)\": {\"start_year\": 1940, \"end_year\": 1946},\n",
    "    \"Early Cold War (1947-1960)\": {\"start_year\": 1947, \"end_year\": 1960},\n",
    "    \"The Civil Rights Movement (1960-1970)\": {\"start_year\": 1961, \"end_year\": 1970},\n",
    "    \"Late Cold War (1971-1989)\": {\"start_year\": 1971, \"end_year\": 1989},\n",
    "    \"End of the Cold War (1990-1991)\": {\"start_year\": 1990, \"end_year\": 1991},\n",
    "    \"Post-Cold War and the New World Order (1992-2001)\": {\"start_year\": 1992, \"end_year\": 2000},\n",
    "    \"War on Terrorism (2001-present)\": {\"start_year\": 2001, \"end_year\": 2024},\n",
    "}\n",
    "\n",
    "def map_year_to_periods(year, periods):\n",
    "    matching_periods = []\n",
    "    for period, years in periods.items():\n",
    "        if years['start_year'] <= year <= years['end_year']:\n",
    "            matching_periods.append(period)\n",
    "    if matching_periods:\n",
    "        return matching_periods\n",
    "    else:\n",
    "        return [\"Year not in any defined period\"]\n",
    "    \n",
    "# Sort the periods based on their start year\n",
    "sorted_periods = sorted(periods_map.items(), key=lambda x: x[1]['start_year'])\n",
    "\n",
    "# Create a mapping from period name to its position in the timeline\n",
    "period_order_map_dict = {period[0]: idx for idx, period in enumerate(sorted_periods)}"
   ]
  },
  {
   "cell_type": "code",
   "execution_count": 204,
   "metadata": {},
   "outputs": [
    {
     "data": {
      "text/plain": [
       "0                    [War on Terrorism (2001-present)]\n",
       "1    [Post-Cold War and the New World Order (1992-2...\n",
       "2                       [The Belle Époque (1900-1914)]\n",
       "3                   [The Great Depression (1929-1939)]\n",
       "4                   [The Great Depression (1929-1939)]\n",
       "Name: Periods, dtype: object"
      ]
     },
     "execution_count": 204,
     "metadata": {},
     "output_type": "execute_result"
    }
   ],
   "source": [
    "movies_df_copy = movies_df.copy()\n",
    "movies_df_copy.loc[:, 'Periods'] = movies_df_copy['Movie release date'].apply(map_year_to_periods, periods=periods_map)\n",
    "\n",
    "movies_df_copy['Periods'].head(5)"
   ]
  },
  {
   "cell_type": "markdown",
   "metadata": {},
   "source": [
    "#### Process the \"Movie genres\" column\n",
    "\n",
    "- casefold\n",
    "- transform the string into a list of strings (1 string = 1 genre)\n"
   ]
  },
  {
   "cell_type": "code",
   "execution_count": 205,
   "metadata": {},
   "outputs": [
    {
     "data": {
      "text/plain": [
       "0    [thriller, science fiction, horror, adventure,...\n",
       "1     [mystery, biographical film, drama, crime drama]\n",
       "2    [short film, silent film, indie, black-and-whi...\n",
       "3                   [musical, comedy, black-and-white]\n",
       "4                             [drama, black-and-white]\n",
       "Name: Movie genres, dtype: object"
      ]
     },
     "execution_count": 205,
     "metadata": {},
     "output_type": "execute_result"
    }
   ],
   "source": [
    "# Casefolding all the strings of column \"Movie genres\" the Data Frame\n",
    "movies_df_copy['Movie genres'] = movies_df_copy['Movie genres'].apply(lambda x: x.casefold() if isinstance(x, str) else x)\n",
    "\n",
    "# Transform string into a list of strings (word = genre)\n",
    "def clean_genres(x):\n",
    "    # If the value is a string (which contains the genres), clean it\n",
    "    if isinstance(x, str):\n",
    "        str_to_list = [genre.strip(\"'\") for genre in x.strip(\"[]\").split(\", \")]\n",
    "        #str_to_list = [genre for genre in str_to_list if genre not in unwanted_genres]\n",
    "        return str_to_list if str_to_list else None\n",
    "    # If it's already a list, return it as is\n",
    "    elif isinstance(x, list):\n",
    "        return x\n",
    "    else:\n",
    "        genres = []\n",
    "    # Remove the row if the list is empty\n",
    "    return genres if genres else None\n",
    "\n",
    "\n",
    "# Clean the genres\n",
    "movies_df_copy['Movie genres'] = movies_df_copy['Movie genres'].apply(clean_genres)\n",
    "movies_df_copy['Movie genres'].head(5)"
   ]
  },
  {
   "cell_type": "markdown",
   "metadata": {},
   "source": [
    "#### Print the frequency of each genre\n",
    "\n",
    "This helps identify the most common genres, providing insight for deciding how to group them later."
   ]
  },
  {
   "cell_type": "code",
   "execution_count": 206,
   "metadata": {},
   "outputs": [
    {
     "name": "stdout",
     "output_type": "stream",
     "text": [
      "{'drama': 12995, 'comedy': 9472, 'black-and-white': 6018, 'indie': 5413, 'thriller': 4851, 'short film': 4688, 'action': 4446, 'romance film': 4439, 'crime fiction': 3571, 'silent film': 3240, 'action/adventure': 3077, 'adventure': 2986, 'horror': 2965, 'documentary': 2702, 'family film': 2626, 'science fiction': 1885, 'western': 1824, 'mystery': 1816, 'romantic comedy': 1791, 'musical': 1678, 'animation': 1632, 'crime thriller': 1459, 'fantasy': 1422, 'romantic drama': 1407, 'war film': 1198, 'film adaptation': 1131, 'comedy-drama': 1066, 'period piece': 1037, 'biography': 959, 'comedy film': 940, 'psychological thriller': 931, 'sports': 806, 'teen': 789, 'television movie': 779, 'parody': 754, '\"children\\'s/family\"': 733, 'black comedy': 667, 'family drama': 633, 'biographical film': 608, 'cult': 605, 'slasher': 598, 'suspense': 597, 'lgbt': 597, 'coming of age': 588, 'music': 573, 'film noir': 541, 'slapstick': 529, 'culture & society': 509, 'melodrama': 463, 'history': 454, 'supernatural': 442, 'biopic [feature]': 429, 'satire': 426, 'b-movie': 418, 'political drama': 391, 'action thrillers': 388, '\"children\\'s\"': 353, 'costume drama': 343, 'crime drama': 342, 'world cinema': 325, 'political cinema': 316, 'buddy film': 303, 'detective': 298, 'spy': 297, 'martial arts film': 296, 'ensemble film': 294, 'docudrama': 286, 'gangster film': 284, 'creature film': 274, 'screwball comedy': 265, 'detective fiction': 250, 'superhero movie': 236, 'social issues': 227, 'disaster': 224, 'road movie': 219, 'japanese movies': 218, '\"children\\'s fantasy\"': 212, 'family-oriented adventure': 211, 'sex comedy': 202, 'historical fiction': 197, 'crime comedy': 197, 'courtroom drama': 196, 'gay themed': 196, 'musical comedy': 191, 'zombie film': 182, 'horror comedy': 180, 'pre-code': 175, 'fantasy comedy': 172, 'domestic comedy': 168, 'comedy of manners': 167, 'computer animation': 165, 'epic': 161, 'animal picture': 158, 'political thriller': 153, 'gay': 150, 'gay interest': 150, 'concert film': 149, 'comedy of errors': 148, 'monster movie': 146, 'rockumentary': 144, 'fantasy adventure': 141, 'propaganda film': 140, 'musical drama': 139, 'erotic thriller': 138, 'natural horror films': 138, 'pornographic movie': 136, 'christian film': 129, 'heist': 127, 'sci-fi horror': 115, 'adventure comedy': 108, 'superhero': 108, 'mockumentary': 105, 'americana': 105, 'adult': 105, 'experimental film': 104, 'marriage drama': 103, 'action comedy': 102, 'doomsday film': 99, 'blaxploitation': 96, 'swashbuckler films': 96, 'prison': 95, 'chinese movies': 89, 'alien film': 89, 'stop motion': 88, 'chase movie': 88, 'animated cartoon': 88, 'new hollywood': 87, '': 85, 'holiday film': 85, 'film': 85, 'christmas movie': 82, 'combat films': 82, 'sexploitation': 79, 'workplace comedy': 79, 'erotica': 76, 'remake': 76, 'stand-up comedy': 76, 'avant-garde': 75, 'absurdism': 75, 'dance': 74, 'childhood drama': 73, 'hip hop movies': 72, 'time travel': 71, 'monster': 71, 'comedy thriller': 70, 'boxing': 70, 'media satire': 69, 'feminist film': 65, 'comedy western': 64, 'law & crime': 64, 'dystopia': 64, 'revisionist western': 64, 'jungle film': 64, 'social problem film': 63, 'caper story': 62, 'auto racing': 61, 'film & television history': 61, 'b-western': 60, 'tragedy': 59, 'gender issues': 58, 'slice of life story': 58, 'neo-noir': 57, 'whodunit': 56, 'anime': 56, 'haunted house film': 55, 'gay pornography': 55, 'airplanes and airports': 55, 'gross-out film': 53, 'gross out': 53, 'costume adventure': 53, 'political satire': 53, 'medical fiction': 52, 'animated musical': 51, 'surrealism': 50, 'addiction drama': 50, 'historical epic': 45, 'punk rock': 45, 'stoner film': 45, 'historical drama': 44, 'nature': 44, 'religious film': 42, 'illnesses & disabilities': 42, 'gothic film': 41, 'travel': 41, 'romantic fantasy': 40, 'fairy tale': 39, 'erotic drama': 38, 'roadshow theatrical release': 38, 'sword and sorcery': 36, 'escape film': 35, 'animals': 35, 'interpersonal relationships': 34, 'inspirational drama': 31, 'sword and sorcery films': 31, 'juvenile delinquency film': 30, 'anti-war': 30, 'hybrid western': 30, 'glamorized spy film': 30, 'anti-war film': 29, 'sci-fi adventure': 28, 'tragicomedy': 28, 'apocalyptic and post-apocalyptic fiction': 27, 'softcore porn': 26, 'heavenly comedy': 26, 'environmental science': 26, 'media studies': 26, 'film à clef': 25, 'extreme sports': 25, 'backstage musical': 25, 'costume horror': 25, 'fan film': 24, 'educational': 24, 'indian western': 24, 'existentialism': 23, 'master criminal films': 23, 'filipino movies': 23, 'northern': 22, 'graphic & applied arts': 22, 'steampunk': 21, 'art film': 19, 'biker film': 19, 'beach film': 19, 'future noir': 18, 'movie serial': 18, 'heaven-can-wait fantasies': 18, 'crime': 18, 'splatter film': 18, 'exploitation': 17, 'outlaw biker film': 17, 'epic western': 16, 'mythological fantasy': 16, 'albino bias': 16, 'cavalry film': 15, 'road-horror': 15, 'comedy horror': 14, 'hagiography': 14, 'natural disaster': 13, 'business': 13, 'british empire film': 13, 'world history': 13, 'horse racing': 12, 'instrumental music': 12, 'language & literature': 12, 'space western': 11, 'prison film': 11, 'inventions & innovations': 11, 'family & personal relationships': 11, 'cold war': 11, 'mumblecore': 10, 'baseball': 10, 'buddy cop': 10, 'fantasy drama': 10, 'essay film': 10, 'dogme 95': 9, 'hardcore pornography': 9, 'anthropology': 9, 'sword and sandal': 9, 'foreign legion': 9, 'women in prison films': 9, 'spaghetti western': 9, 'news': 9, 'health & fitness': 9, 'legal drama': 8, '\"children\\'s entertainment\"': 8, 'archives and records': 8, 'psycho-biddy': 8, 'acid western': 8, 'reboot': 8, 'journalism': 7, 'mondo film': 7, 'archaeology': 6, 'demonic child': 6, 'pornography': 6, 'jukebox musical': 6, 'education': 6, 'science fiction western': 6, 'anthology': 6, 'wuxia': 5, 'space opera': 5, 'libraries and librarians': 5, 'early black cinema': 5, 'roadshow/carny': 5, 'alien invasion': 5, 'finance & investing': 5, 'computers': 5, 'bloopers & candid camera': 5, 'courtroom comedy': 5, 'female buddy film': 5, 'bollywood': 5, 'school story': 5, 'outlaw': 5, 'singing cowboy': 5, 'plague': 4, 'filmed play': 4, 'sponsored film': 4, 'werewolf fiction': 4, 'movies about gladiators': 4, 'sci-fi thriller': 4, 'operetta': 4, 'race movie': 4, 'gulf war': 4, 'feature film': 4, 'therimin music': 4, 'nuclear warfare': 3, 'z movie': 3, 'psychological horror': 3, 'cyberpunk': 3, '\"children\\'s issues\"': 3, 'sci fi pictures original films': 3, 'kafkaesque': 3, 'vampire movies': 3, 'goat gland': 3, 'fictional film': 3, 'point of view shot': 3, 'samurai cinema': 3, 'giallo': 3, 'expressionism': 2, 'camp': 2, 'private military company': 2, 'coming-of-age film': 2, 'humour': 2, 'beach party film': 2, 'parkour in popular culture': 2, 'patriotic film': 2, 'ealing comedies': 2, 'revisionist fairy tale': 2, 'star vehicle': 1, 'conspiracy fiction': 1, 'prison escape': 1, 'live action': 1, 'historical documentaries': 1, 'breakdance': 1, 'war effort': 1, 'clay animation': 1, 'chick flick': 1, 'political documetary': 1, 'ninja movie': 1, 'statutory rape': 1, 'british new wave': 1, 'supermarionation': 1, 'period horror': 1, 'the netherlands in world war ii': 1}\n"
     ]
    }
   ],
   "source": [
    "# This cell is just useful to rank the occurences of the genres\n",
    "unique_genres = [genre for sublist in movies_df_copy['Movie genres'] for genre in sublist]\n",
    "\n",
    "themes_counts_years = Counter(unique_genres)\n",
    "\n",
    "# Sort the Counter dictionary by value in descending order\n",
    "sorted_genre_counts = dict(sorted(themes_counts_years.items(), key=lambda item: item[1], reverse=True))\n",
    "\n",
    "print(sorted_genre_counts)"
   ]
  },
  {
   "cell_type": "markdown",
   "metadata": {},
   "source": [
    "### Add a \"Themes\" column\n",
    "\n",
    "- creation of 13 themes: Action/Adventure/Thriller, Comedy, Drama/Mystery, Romance, Horror/Crime, Science Fiction/Fantasy, Animation/Family, Historical/Biographical/Documentary, Short/Silent, Black-and-White, Independent/Experimental/LGBT, Musical, and Other.\n",
    "- genres are mapped to one or several themes among the 13."
   ]
  },
  {
   "cell_type": "code",
   "execution_count": 207,
   "metadata": {},
   "outputs": [
    {
     "data": {
      "text/plain": [
       "0    {Horror/Crime, Action/Adventure/Thriller, Othe...\n",
       "1    {Drama/Mystery, Horror/Crime, Historical/Biogr...\n",
       "2    {Black-and-White, Independent/Experimental/LGB...\n",
       "3                   {Black-and-White, Comedy, Musical}\n",
       "4                     {Drama/Mystery, Black-and-White}\n",
       "Name: Themes, dtype: object"
      ]
     },
     "execution_count": 207,
     "metadata": {},
     "output_type": "execute_result"
    }
   ],
   "source": [
    "# Clearer to put it this way: theme and its corresponding genres\n",
    "theme_mapping = {\n",
    "    'Action/Adventure/Thriller': ['action', 'thriller', 'adventure', 'fantasy adventure', 'action comedy', 'action thrillers', 'spy', 'martial arts film', 'epic', 'road movie', 'action/adventure', 'adventure comedy', 'war film', 'military drama', 'combat film', 'anti-war film', 'political thriller', 'war film', 'military drama', 'combat film', 'western'],\n",
    "    'Comedy': ['comedy', 'romantic comedy', 'black comedy', 'slapstick', 'comedy-drama', 'comedy film', 'adventure comedy', 'screwball comedy', 'fantasy comedy', 'domestic comedy', 'comedy of manners', 'sex comedy', 'comedy of errors'],\n",
    "    'Drama/Mystery': ['drama', 'family drama', 'melodrama', 'crime drama', 'political drama', 'comedy-drama', 'marriage drama', 'courtroom drama', 'historical fiction', 'political cinema', 'social issues', 'crime comedy', 'mystery', 'detective', 'detective fiction'],\n",
    "    'Romance': ['romance film', 'romantic comedy', 'romantic drama', 'romantic fantasy'],\n",
    "    'Horror/Crime': ['crime fiction', 'crime thriller', 'gangster film', 'detective', 'detective fiction', 'crime drama', 'b-movie', 'heist', 'horror', 'slasher', 'psychological thriller', 'zombie film', 'horror comedy', 'monster movie', 'natural horror films', 'suspense'],\n",
    "    'Science Fiction/Fantasy': ['science fiction', 'fantasy', 'superhero movie', 'sci-fi horror', 'superhero', 'fantasy comedy'],\n",
    "    'Animation/Family': ['animation', 'animated cartoon', 'computer animation', 'animated musical', 'family', 'teen', '\"children\\'s/family\"', '\"children\\'s\"', 'family-oriented adventure', \"children\\'s fantasy\"],\n",
    "    'Historical/Biographical/Documentary': ['documentary', 'docudrama', 'rockumentary', 'concert film', 'mockumentary', 'period piece', 'historical drama', 'biography', 'history', 'biographical film', 'historical fiction'],\n",
    "    'Short/Silent': ['short film', 'silent film'],\n",
    "    'Black-and-White': ['black-and-white'], \n",
    "    'Independent/Experimental/LGBT': ['indie', 'experimental film', 'lgbt', 'gay', 'gay themed', 'gay interest'],\n",
    "    'Musical': ['musical', 'musical drama', 'musical comedy'],\n",
    "    'Other': []\n",
    "}\n",
    "\n",
    "# Inverting the theme_mapping to map genres to themes\n",
    "genre_to_theme_mapping = {\n",
    "    genre: theme\n",
    "    for theme, genres in theme_mapping.items()\n",
    "    for genre in genres\n",
    "}\n",
    "\n",
    "# Function to map genres to themes\n",
    "def map_genres_to_themes(genres, mapping):\n",
    "    if isinstance(genres, list):\n",
    "        themes = set()\n",
    "        for genre in genres:\n",
    "            if genre in mapping:\n",
    "                themes.add(mapping[genre])\n",
    "            else:\n",
    "                themes.add('Other')\n",
    "        return themes\n",
    "    elif isinstance(genres, str):\n",
    "        if genres in mapping:\n",
    "            return {mapping[genres]}\n",
    "        else:\n",
    "            return {'Other'}\n",
    "    return None\n",
    "\n",
    "movies_df_copy['Themes'] = movies_df_copy['Movie genres'].apply(lambda genres: map_genres_to_themes(genres, genre_to_theme_mapping))\n",
    "movies_df_copy['Themes'].head(5)"
   ]
  },
  {
   "cell_type": "markdown",
   "metadata": {},
   "source": [
    "### Plots"
   ]
  },
  {
   "cell_type": "code",
   "execution_count": 208,
   "metadata": {},
   "outputs": [],
   "source": [
    "# Prepare the data for the plots\n",
    "movies_df_copy_exploded = movies_df_copy.explode('Themes')\n",
    "\n",
    "themes = list(theme_mapping.keys())"
   ]
  },
  {
   "cell_type": "code",
   "execution_count": 209,
   "metadata": {},
   "outputs": [],
   "source": [
    "# Define a color palette for the themes so they are assigned the same color for all plots\n",
    "custom_colors = [\n",
    "    \"#e41a1c\",  # Red\n",
    "    \"#377eb8\",  # Blue\n",
    "    \"#4daf4a\",  # Green\n",
    "    \"#ff7f00\",  # Orange\n",
    "    \"#984ea3\",  # Purple\n",
    "    \"#ffff33\",  # Yellow\n",
    "    \"#a65628\",  # Brown\n",
    "    \"#000000\",  # Black\n",
    "    \"#999999\",  # Gray\n",
    "    \"pink\",  # \n",
    "    \"#b3b3cc\",  # Soft gray-blue\n",
    "    \"#c2c2f0\",  # Lavender\n",
    "    \"blue\",\n",
    "    \"#00ced1\",  # Dark Turquoise\n",
    "    \"#20b2aa\",  # Light Sea Green\n",
    "]\n",
    "\n",
    "# Map themes to distinct colors\n",
    "theme_colors = {theme: color for theme, color in zip(themes, custom_colors)}"
   ]
  },
  {
   "cell_type": "markdown",
   "metadata": {},
   "source": [
    "#### Themes according to Years"
   ]
  },
  {
   "cell_type": "code",
   "execution_count": 210,
   "metadata": {},
   "outputs": [],
   "source": [
    "themes_years_counts = (\n",
    "    movies_df_copy_exploded\n",
    "    .groupby(['Themes', 'Movie release date'])\n",
    "    .size()\n",
    "    .reset_index(name='count')\n",
    ")\n",
    "\n",
    "# Pivot the table so that each theme has its own column\n",
    "theme_years_counts_pivot = themes_years_counts.pivot(index='Movie release date', columns='Themes', values='count')\n",
    "theme_years_counts_pivot = theme_years_counts_pivot.fillna(0)\n",
    "\n",
    "# Normalize the counts\n",
    "normalized_theme_years_counts = theme_years_counts_pivot.div(theme_years_counts_pivot.sum(axis=1), axis=0)"
   ]
  },
  {
   "cell_type": "markdown",
   "metadata": {},
   "source": [
    "#### Number of movies over the years"
   ]
  },
  {
   "cell_type": "code",
   "execution_count": 211,
   "metadata": {},
   "outputs": [
    {
     "data": {
      "application/vnd.plotly.v1+json": {
       "config": {
        "plotlyServerURL": "https://plot.ly"
       },
       "data": [
        {
         "hovertemplate": "Year: %{x}<br>Number of Movies: %{y}<br>",
         "line": {
          "color": "#e41a1c"
         },
         "mode": "lines",
         "name": "Action/Adventure/Thriller",
         "type": "scatter",
         "x": [
          1900,
          1901,
          1902,
          1903,
          1905,
          1906,
          1907,
          1908,
          1909,
          1910,
          1911,
          1912,
          1913,
          1914,
          1915,
          1916,
          1917,
          1918,
          1919,
          1920,
          1921,
          1922,
          1923,
          1924,
          1925,
          1926,
          1927,
          1928,
          1929,
          1930,
          1931,
          1932,
          1933,
          1934,
          1935,
          1936,
          1937,
          1938,
          1939,
          1940,
          1941,
          1942,
          1943,
          1944,
          1945,
          1946,
          1947,
          1948,
          1949,
          1950,
          1951,
          1952,
          1953,
          1954,
          1955,
          1956,
          1957,
          1958,
          1959,
          1960,
          1961,
          1962,
          1963,
          1964,
          1965,
          1966,
          1967,
          1968,
          1969,
          1970,
          1971,
          1972,
          1973,
          1974,
          1975,
          1976,
          1977,
          1978,
          1979,
          1980,
          1981,
          1982,
          1983,
          1984,
          1985,
          1986,
          1987,
          1988,
          1989,
          1990,
          1991,
          1992,
          1993,
          1994,
          1995,
          1996,
          1997,
          1998,
          1999,
          2000,
          2001,
          2002,
          2003,
          2004,
          2005,
          2006,
          2007,
          2008,
          2009,
          2010,
          2011,
          2012,
          2013,
          2014,
          2015,
          2016
         ],
         "y": [
          0,
          0,
          0,
          2,
          0,
          0,
          0,
          1,
          3,
          5,
          11,
          14,
          28,
          29,
          29,
          20,
          38,
          30,
          48,
          71,
          41,
          29,
          38,
          28,
          35,
          36,
          38,
          31,
          29,
          50,
          48,
          66,
          65,
          74,
          92,
          105,
          101,
          84,
          108,
          117,
          103,
          138,
          121,
          116,
          119,
          79,
          80,
          92,
          94,
          105,
          110,
          104,
          111,
          101,
          94,
          101,
          79,
          87,
          77,
          47,
          53,
          56,
          48,
          54,
          68,
          75,
          72,
          74,
          73,
          71,
          85,
          89,
          96,
          112,
          83,
          88,
          73,
          81,
          71,
          92,
          79,
          86,
          77,
          97,
          135,
          133,
          158,
          141,
          148,
          183,
          149,
          145,
          177,
          193,
          184,
          187,
          196,
          218,
          212,
          212,
          211,
          236,
          231,
          250,
          275,
          316,
          336,
          345,
          319,
          267,
          210,
          144,
          60,
          1,
          2,
          2
         ]
        },
        {
         "hovertemplate": "Year: %{x}<br>Number of Movies: %{y}<br>",
         "line": {
          "color": "#377eb8"
         },
         "mode": "lines",
         "name": "Comedy",
         "type": "scatter",
         "x": [
          1900,
          1901,
          1902,
          1903,
          1905,
          1906,
          1907,
          1908,
          1909,
          1910,
          1911,
          1912,
          1913,
          1914,
          1915,
          1916,
          1917,
          1918,
          1919,
          1920,
          1921,
          1922,
          1923,
          1924,
          1925,
          1926,
          1927,
          1928,
          1929,
          1930,
          1931,
          1932,
          1933,
          1934,
          1935,
          1936,
          1937,
          1938,
          1939,
          1940,
          1941,
          1942,
          1943,
          1944,
          1945,
          1946,
          1947,
          1948,
          1949,
          1950,
          1951,
          1952,
          1953,
          1954,
          1955,
          1956,
          1957,
          1958,
          1959,
          1960,
          1961,
          1962,
          1963,
          1964,
          1965,
          1966,
          1967,
          1968,
          1969,
          1970,
          1971,
          1972,
          1973,
          1974,
          1975,
          1976,
          1977,
          1978,
          1979,
          1980,
          1981,
          1982,
          1983,
          1984,
          1985,
          1986,
          1987,
          1988,
          1989,
          1990,
          1991,
          1992,
          1993,
          1994,
          1995,
          1996,
          1997,
          1998,
          1999,
          2000,
          2001,
          2002,
          2003,
          2004,
          2005,
          2006,
          2007,
          2008,
          2009,
          2010,
          2011,
          2012,
          2013,
          2014,
          2015,
          2016
         ],
         "y": [
          2,
          4,
          0,
          0,
          0,
          1,
          0,
          3,
          7,
          7,
          8,
          14,
          62,
          136,
          123,
          131,
          71,
          85,
          77,
          33,
          35,
          32,
          49,
          43,
          71,
          50,
          74,
          59,
          75,
          80,
          95,
          90,
          109,
          117,
          117,
          115,
          122,
          105,
          88,
          109,
          121,
          111,
          86,
          84,
          74,
          80,
          70,
          82,
          73,
          79,
          71,
          81,
          81,
          54,
          61,
          57,
          70,
          42,
          40,
          38,
          44,
          53,
          53,
          55,
          51,
          57,
          65,
          68,
          52,
          55,
          59,
          41,
          37,
          56,
          47,
          61,
          46,
          63,
          64,
          90,
          66,
          76,
          70,
          101,
          99,
          111,
          140,
          150,
          147,
          117,
          132,
          120,
          120,
          151,
          137,
          159,
          182,
          188,
          206,
          206,
          203,
          230,
          236,
          218,
          263,
          316,
          285,
          285,
          270,
          203,
          176,
          114,
          19,
          1,
          0,
          0
         ]
        },
        {
         "hovertemplate": "Year: %{x}<br>Number of Movies: %{y}<br>",
         "line": {
          "color": "#4daf4a"
         },
         "mode": "lines",
         "name": "Drama/Mystery",
         "type": "scatter",
         "x": [
          1900,
          1901,
          1902,
          1903,
          1905,
          1906,
          1907,
          1908,
          1909,
          1910,
          1911,
          1912,
          1913,
          1914,
          1915,
          1916,
          1917,
          1918,
          1919,
          1920,
          1921,
          1922,
          1923,
          1924,
          1925,
          1926,
          1927,
          1928,
          1929,
          1930,
          1931,
          1932,
          1933,
          1934,
          1935,
          1936,
          1937,
          1938,
          1939,
          1940,
          1941,
          1942,
          1943,
          1944,
          1945,
          1946,
          1947,
          1948,
          1949,
          1950,
          1951,
          1952,
          1953,
          1954,
          1955,
          1956,
          1957,
          1958,
          1959,
          1960,
          1961,
          1962,
          1963,
          1964,
          1965,
          1966,
          1967,
          1968,
          1969,
          1970,
          1971,
          1972,
          1973,
          1974,
          1975,
          1976,
          1977,
          1978,
          1979,
          1980,
          1981,
          1982,
          1983,
          1984,
          1985,
          1986,
          1987,
          1988,
          1989,
          1990,
          1991,
          1992,
          1993,
          1994,
          1995,
          1996,
          1997,
          1998,
          1999,
          2000,
          2001,
          2002,
          2003,
          2004,
          2005,
          2006,
          2007,
          2008,
          2009,
          2010,
          2011,
          2012,
          2013,
          2014,
          2015,
          2016
         ],
         "y": [
          0,
          1,
          0,
          0,
          0,
          1,
          0,
          7,
          21,
          20,
          51,
          61,
          94,
          116,
          138,
          103,
          63,
          53,
          53,
          53,
          50,
          58,
          57,
          71,
          73,
          55,
          71,
          80,
          99,
          69,
          127,
          152,
          127,
          159,
          120,
          122,
          117,
          112,
          144,
          137,
          118,
          128,
          88,
          103,
          111,
          109,
          108,
          114,
          115,
          97,
          100,
          102,
          110,
          80,
          96,
          114,
          118,
          92,
          87,
          83,
          79,
          88,
          69,
          60,
          72,
          67,
          78,
          91,
          106,
          110,
          112,
          114,
          126,
          118,
          101,
          116,
          97,
          104,
          101,
          110,
          117,
          115,
          114,
          140,
          133,
          139,
          155,
          168,
          171,
          176,
          181,
          181,
          200,
          223,
          231,
          244,
          265,
          264,
          296,
          280,
          308,
          306,
          319,
          335,
          366,
          474,
          494,
          402,
          415,
          324,
          260,
          165,
          32,
          2,
          0,
          0
         ]
        },
        {
         "hovertemplate": "Year: %{x}<br>Number of Movies: %{y}<br>",
         "line": {
          "color": "#ff7f00"
         },
         "mode": "lines",
         "name": "Romance",
         "type": "scatter",
         "x": [
          1900,
          1901,
          1902,
          1903,
          1905,
          1906,
          1907,
          1908,
          1909,
          1910,
          1911,
          1912,
          1913,
          1914,
          1915,
          1916,
          1917,
          1918,
          1919,
          1920,
          1921,
          1922,
          1923,
          1924,
          1925,
          1926,
          1927,
          1928,
          1929,
          1930,
          1931,
          1932,
          1933,
          1934,
          1935,
          1936,
          1937,
          1938,
          1939,
          1940,
          1941,
          1942,
          1943,
          1944,
          1945,
          1946,
          1947,
          1948,
          1949,
          1950,
          1951,
          1952,
          1953,
          1954,
          1955,
          1956,
          1957,
          1958,
          1959,
          1960,
          1961,
          1962,
          1963,
          1964,
          1965,
          1966,
          1967,
          1968,
          1969,
          1970,
          1971,
          1972,
          1973,
          1974,
          1975,
          1976,
          1977,
          1978,
          1979,
          1980,
          1981,
          1982,
          1983,
          1984,
          1985,
          1986,
          1987,
          1988,
          1989,
          1990,
          1991,
          1992,
          1993,
          1994,
          1995,
          1996,
          1997,
          1998,
          1999,
          2000,
          2001,
          2002,
          2003,
          2004,
          2005,
          2006,
          2007,
          2008,
          2009,
          2010,
          2011,
          2012,
          2013,
          2014,
          2015,
          2016
         ],
         "y": [
          0,
          0,
          0,
          0,
          0,
          0,
          0,
          1,
          2,
          0,
          5,
          8,
          9,
          8,
          11,
          10,
          10,
          4,
          14,
          8,
          14,
          18,
          16,
          19,
          25,
          31,
          29,
          24,
          44,
          51,
          60,
          61,
          53,
          80,
          68,
          65,
          63,
          64,
          49,
          57,
          65,
          63,
          30,
          49,
          28,
          35,
          41,
          42,
          42,
          33,
          46,
          44,
          49,
          27,
          29,
          34,
          48,
          39,
          28,
          28,
          30,
          25,
          35,
          24,
          28,
          16,
          28,
          21,
          27,
          23,
          24,
          18,
          20,
          19,
          15,
          19,
          21,
          26,
          23,
          35,
          25,
          33,
          32,
          56,
          48,
          48,
          51,
          54,
          49,
          53,
          61,
          43,
          53,
          69,
          67,
          73,
          92,
          90,
          114,
          100,
          114,
          121,
          103,
          99,
          122,
          150,
          143,
          141,
          128,
          116,
          75,
          35,
          2,
          0,
          0,
          1
         ]
        },
        {
         "hovertemplate": "Year: %{x}<br>Number of Movies: %{y}<br>",
         "line": {
          "color": "#984ea3"
         },
         "mode": "lines",
         "name": "Horror/Crime",
         "type": "scatter",
         "x": [
          1900,
          1901,
          1902,
          1903,
          1905,
          1906,
          1907,
          1908,
          1909,
          1910,
          1911,
          1912,
          1913,
          1914,
          1915,
          1916,
          1917,
          1918,
          1919,
          1920,
          1921,
          1922,
          1923,
          1924,
          1925,
          1926,
          1927,
          1928,
          1929,
          1930,
          1931,
          1932,
          1933,
          1934,
          1935,
          1936,
          1937,
          1938,
          1939,
          1940,
          1941,
          1942,
          1943,
          1944,
          1945,
          1946,
          1947,
          1948,
          1949,
          1950,
          1951,
          1952,
          1953,
          1954,
          1955,
          1956,
          1957,
          1958,
          1959,
          1960,
          1961,
          1962,
          1963,
          1964,
          1965,
          1966,
          1967,
          1968,
          1969,
          1970,
          1971,
          1972,
          1973,
          1974,
          1975,
          1976,
          1977,
          1978,
          1979,
          1980,
          1981,
          1982,
          1983,
          1984,
          1985,
          1986,
          1987,
          1988,
          1989,
          1990,
          1991,
          1992,
          1993,
          1994,
          1995,
          1996,
          1997,
          1998,
          1999,
          2000,
          2001,
          2002,
          2003,
          2004,
          2005,
          2006,
          2007,
          2008,
          2009,
          2010,
          2011,
          2012,
          2013,
          2014,
          2015,
          2016
         ],
         "y": [
          0,
          0,
          0,
          0,
          0,
          1,
          0,
          2,
          1,
          1,
          0,
          3,
          2,
          3,
          8,
          8,
          3,
          1,
          4,
          6,
          4,
          6,
          4,
          5,
          12,
          8,
          10,
          23,
          14,
          15,
          34,
          55,
          45,
          48,
          46,
          50,
          57,
          33,
          67,
          50,
          61,
          52,
          33,
          52,
          51,
          61,
          54,
          51,
          44,
          53,
          42,
          27,
          35,
          41,
          50,
          48,
          56,
          46,
          43,
          29,
          29,
          24,
          30,
          32,
          24,
          27,
          35,
          47,
          39,
          40,
          50,
          78,
          88,
          84,
          56,
          71,
          60,
          59,
          51,
          66,
          76,
          76,
          65,
          74,
          77,
          95,
          118,
          143,
          124,
          133,
          113,
          121,
          130,
          133,
          126,
          137,
          138,
          152,
          153,
          166,
          159,
          199,
          177,
          190,
          227,
          280,
          316,
          269,
          266,
          187,
          122,
          78,
          24,
          0,
          1,
          1
         ]
        },
        {
         "hovertemplate": "Year: %{x}<br>Number of Movies: %{y}<br>",
         "line": {
          "color": "#ffff33"
         },
         "mode": "lines",
         "name": "Science Fiction/Fantasy",
         "type": "scatter",
         "x": [
          1900,
          1901,
          1902,
          1903,
          1905,
          1906,
          1907,
          1908,
          1909,
          1910,
          1911,
          1912,
          1913,
          1914,
          1915,
          1916,
          1917,
          1918,
          1919,
          1920,
          1921,
          1922,
          1923,
          1924,
          1925,
          1926,
          1927,
          1928,
          1929,
          1930,
          1931,
          1932,
          1933,
          1934,
          1935,
          1936,
          1937,
          1938,
          1939,
          1940,
          1941,
          1942,
          1943,
          1944,
          1945,
          1946,
          1947,
          1948,
          1949,
          1950,
          1951,
          1952,
          1953,
          1954,
          1955,
          1956,
          1957,
          1958,
          1959,
          1960,
          1961,
          1962,
          1963,
          1964,
          1965,
          1966,
          1967,
          1968,
          1969,
          1970,
          1971,
          1972,
          1973,
          1974,
          1975,
          1976,
          1977,
          1978,
          1979,
          1980,
          1981,
          1982,
          1983,
          1984,
          1985,
          1986,
          1987,
          1988,
          1989,
          1990,
          1991,
          1992,
          1993,
          1994,
          1995,
          1996,
          1997,
          1998,
          1999,
          2000,
          2001,
          2002,
          2003,
          2004,
          2005,
          2006,
          2007,
          2008,
          2009,
          2010,
          2011,
          2012,
          2013,
          2014,
          2015,
          2016
         ],
         "y": [
          0,
          0,
          0,
          0,
          1,
          0,
          0,
          1,
          2,
          2,
          0,
          1,
          1,
          5,
          2,
          4,
          1,
          1,
          0,
          4,
          1,
          1,
          3,
          4,
          7,
          1,
          0,
          1,
          1,
          4,
          7,
          2,
          7,
          7,
          5,
          7,
          10,
          5,
          10,
          15,
          14,
          9,
          14,
          13,
          8,
          5,
          11,
          10,
          11,
          14,
          18,
          12,
          22,
          18,
          12,
          20,
          34,
          32,
          27,
          13,
          16,
          15,
          10,
          20,
          19,
          21,
          15,
          15,
          12,
          23,
          17,
          20,
          20,
          25,
          15,
          17,
          24,
          28,
          19,
          38,
          24,
          46,
          37,
          38,
          57,
          52,
          50,
          57,
          61,
          62,
          55,
          38,
          59,
          70,
          72,
          68,
          64,
          86,
          73,
          78,
          90,
          91,
          72,
          96,
          108,
          116,
          128,
          119,
          117,
          91,
          83,
          49,
          30,
          2,
          2,
          1
         ]
        },
        {
         "hovertemplate": "Year: %{x}<br>Number of Movies: %{y}<br>",
         "line": {
          "color": "#a65628"
         },
         "mode": "lines",
         "name": "Animation/Family",
         "type": "scatter",
         "x": [
          1900,
          1901,
          1902,
          1903,
          1905,
          1906,
          1907,
          1908,
          1909,
          1910,
          1911,
          1912,
          1913,
          1914,
          1915,
          1916,
          1917,
          1918,
          1919,
          1920,
          1921,
          1922,
          1923,
          1924,
          1925,
          1926,
          1927,
          1928,
          1929,
          1930,
          1931,
          1932,
          1933,
          1934,
          1935,
          1936,
          1937,
          1938,
          1939,
          1940,
          1941,
          1942,
          1943,
          1944,
          1945,
          1946,
          1947,
          1948,
          1949,
          1950,
          1951,
          1952,
          1953,
          1954,
          1955,
          1956,
          1957,
          1958,
          1959,
          1960,
          1961,
          1962,
          1963,
          1964,
          1965,
          1966,
          1967,
          1968,
          1969,
          1970,
          1971,
          1972,
          1973,
          1974,
          1975,
          1976,
          1977,
          1978,
          1979,
          1980,
          1981,
          1982,
          1983,
          1984,
          1985,
          1986,
          1987,
          1988,
          1989,
          1990,
          1991,
          1992,
          1993,
          1994,
          1995,
          1996,
          1997,
          1998,
          1999,
          2000,
          2001,
          2002,
          2003,
          2004,
          2005,
          2006,
          2007,
          2008,
          2009,
          2010,
          2011,
          2012,
          2013,
          2014,
          2015,
          2016
         ],
         "y": [
          0,
          0,
          1,
          0,
          1,
          1,
          0,
          0,
          0,
          0,
          0,
          1,
          0,
          3,
          1,
          0,
          0,
          0,
          0,
          1,
          1,
          2,
          3,
          6,
          3,
          2,
          4,
          3,
          8,
          16,
          11,
          18,
          28,
          21,
          29,
          28,
          29,
          32,
          23,
          9,
          22,
          26,
          28,
          22,
          14,
          25,
          23,
          21,
          26,
          25,
          21,
          29,
          29,
          27,
          36,
          24,
          29,
          18,
          19,
          14,
          18,
          18,
          14,
          15,
          22,
          24,
          15,
          18,
          8,
          4,
          12,
          9,
          10,
          11,
          12,
          16,
          16,
          20,
          20,
          28,
          16,
          31,
          23,
          22,
          46,
          44,
          51,
          53,
          33,
          29,
          33,
          34,
          30,
          48,
          55,
          41,
          58,
          66,
          75,
          92,
          87,
          91,
          89,
          98,
          110,
          130,
          112,
          111,
          101,
          66,
          42,
          26,
          11,
          0,
          0,
          0
         ]
        },
        {
         "hovertemplate": "Year: %{x}<br>Number of Movies: %{y}<br>",
         "line": {
          "color": "#000000"
         },
         "mode": "lines",
         "name": "Historical/Biographical/Documentary",
         "type": "scatter",
         "x": [
          1900,
          1901,
          1902,
          1903,
          1905,
          1906,
          1907,
          1908,
          1909,
          1910,
          1911,
          1912,
          1913,
          1914,
          1915,
          1916,
          1917,
          1918,
          1919,
          1920,
          1921,
          1922,
          1923,
          1924,
          1925,
          1926,
          1927,
          1928,
          1929,
          1930,
          1931,
          1932,
          1933,
          1934,
          1935,
          1936,
          1937,
          1938,
          1939,
          1940,
          1941,
          1942,
          1943,
          1944,
          1945,
          1946,
          1947,
          1948,
          1949,
          1950,
          1951,
          1952,
          1953,
          1954,
          1955,
          1956,
          1957,
          1958,
          1959,
          1960,
          1961,
          1962,
          1963,
          1964,
          1965,
          1966,
          1967,
          1968,
          1969,
          1970,
          1971,
          1972,
          1973,
          1974,
          1975,
          1976,
          1977,
          1978,
          1979,
          1980,
          1981,
          1982,
          1983,
          1984,
          1985,
          1986,
          1987,
          1988,
          1989,
          1990,
          1991,
          1992,
          1993,
          1994,
          1995,
          1996,
          1997,
          1998,
          1999,
          2000,
          2001,
          2002,
          2003,
          2004,
          2005,
          2006,
          2007,
          2008,
          2009,
          2010,
          2011,
          2012,
          2013,
          2014,
          2015,
          2016
         ],
         "y": [
          1,
          5,
          0,
          0,
          0,
          0,
          0,
          0,
          1,
          2,
          1,
          2,
          2,
          4,
          4,
          3,
          2,
          2,
          1,
          1,
          3,
          2,
          1,
          5,
          3,
          3,
          7,
          5,
          4,
          6,
          4,
          7,
          4,
          12,
          12,
          16,
          13,
          12,
          17,
          22,
          22,
          25,
          36,
          20,
          39,
          16,
          14,
          15,
          15,
          14,
          22,
          29,
          30,
          16,
          29,
          27,
          26,
          19,
          15,
          16,
          14,
          24,
          20,
          10,
          28,
          23,
          20,
          26,
          25,
          29,
          31,
          35,
          35,
          41,
          42,
          39,
          31,
          30,
          37,
          37,
          46,
          44,
          39,
          42,
          53,
          41,
          53,
          56,
          51,
          54,
          69,
          74,
          59,
          81,
          93,
          84,
          85,
          86,
          109,
          113,
          133,
          155,
          170,
          215,
          229,
          321,
          284,
          275,
          213,
          163,
          115,
          55,
          9,
          0,
          0,
          0
         ]
        },
        {
         "hovertemplate": "Year: %{x}<br>Number of Movies: %{y}<br>",
         "line": {
          "color": "#999999"
         },
         "mode": "lines",
         "name": "Short/Silent",
         "type": "scatter",
         "x": [
          1900,
          1901,
          1902,
          1903,
          1905,
          1906,
          1907,
          1908,
          1909,
          1910,
          1911,
          1912,
          1913,
          1914,
          1915,
          1916,
          1917,
          1918,
          1919,
          1920,
          1921,
          1922,
          1923,
          1924,
          1925,
          1926,
          1927,
          1928,
          1929,
          1930,
          1931,
          1932,
          1933,
          1934,
          1935,
          1936,
          1937,
          1938,
          1939,
          1940,
          1941,
          1942,
          1943,
          1944,
          1945,
          1946,
          1947,
          1948,
          1949,
          1950,
          1951,
          1952,
          1953,
          1954,
          1955,
          1956,
          1957,
          1958,
          1959,
          1960,
          1961,
          1962,
          1963,
          1964,
          1965,
          1966,
          1967,
          1968,
          1969,
          1970,
          1971,
          1972,
          1973,
          1974,
          1975,
          1976,
          1977,
          1978,
          1979,
          1980,
          1981,
          1982,
          1983,
          1984,
          1985,
          1986,
          1987,
          1988,
          1989,
          1990,
          1991,
          1992,
          1993,
          1994,
          1995,
          1996,
          1997,
          1998,
          1999,
          2000,
          2001,
          2002,
          2003,
          2004,
          2005,
          2006,
          2007,
          2008,
          2009,
          2010,
          2011,
          2012,
          2013,
          2014,
          2015,
          2016
         ],
         "y": [
          10,
          11,
          2,
          3,
          2,
          2,
          2,
          22,
          33,
          33,
          69,
          93,
          200,
          297,
          326,
          267,
          180,
          172,
          182,
          155,
          129,
          123,
          157,
          156,
          176,
          147,
          157,
          140,
          98,
          47,
          63,
          60,
          66,
          58,
          62,
          66,
          63,
          64,
          46,
          36,
          54,
          71,
          75,
          40,
          50,
          42,
          34,
          41,
          34,
          32,
          33,
          39,
          40,
          39,
          42,
          45,
          39,
          25,
          20,
          16,
          22,
          19,
          23,
          17,
          27,
          30,
          22,
          25,
          15,
          11,
          17,
          15,
          10,
          16,
          21,
          15,
          14,
          12,
          14,
          17,
          15,
          18,
          7,
          12,
          15,
          15,
          21,
          15,
          22,
          19,
          22,
          22,
          12,
          21,
          27,
          26,
          22,
          29,
          28,
          27,
          49,
          48,
          63,
          70,
          76,
          79,
          72,
          50,
          65,
          33,
          26,
          19,
          0,
          0,
          0,
          0
         ]
        },
        {
         "hovertemplate": "Year: %{x}<br>Number of Movies: %{y}<br>",
         "line": {
          "color": "pink"
         },
         "mode": "lines",
         "name": "Black-and-White",
         "type": "scatter",
         "x": [
          1900,
          1901,
          1902,
          1903,
          1905,
          1906,
          1907,
          1908,
          1909,
          1910,
          1911,
          1912,
          1913,
          1914,
          1915,
          1916,
          1917,
          1918,
          1919,
          1920,
          1921,
          1922,
          1923,
          1924,
          1925,
          1926,
          1927,
          1928,
          1929,
          1930,
          1931,
          1932,
          1933,
          1934,
          1935,
          1936,
          1937,
          1938,
          1939,
          1940,
          1941,
          1942,
          1943,
          1944,
          1945,
          1946,
          1947,
          1948,
          1949,
          1950,
          1951,
          1952,
          1953,
          1954,
          1955,
          1956,
          1957,
          1958,
          1959,
          1960,
          1961,
          1962,
          1963,
          1964,
          1965,
          1966,
          1967,
          1968,
          1969,
          1970,
          1971,
          1972,
          1973,
          1974,
          1975,
          1976,
          1977,
          1978,
          1979,
          1980,
          1981,
          1982,
          1983,
          1984,
          1985,
          1986,
          1987,
          1988,
          1989,
          1990,
          1991,
          1992,
          1993,
          1994,
          1995,
          1996,
          1997,
          1998,
          1999,
          2000,
          2001,
          2002,
          2003,
          2004,
          2005,
          2006,
          2007,
          2008,
          2009,
          2010,
          2011,
          2012,
          2013,
          2014,
          2015,
          2016
         ],
         "y": [
          6,
          4,
          1,
          2,
          0,
          1,
          1,
          14,
          28,
          23,
          57,
          78,
          173,
          251,
          288,
          212,
          161,
          156,
          155,
          127,
          108,
          95,
          115,
          110,
          118,
          101,
          105,
          100,
          124,
          99,
          156,
          168,
          153,
          148,
          153,
          157,
          162,
          135,
          158,
          147,
          155,
          150,
          132,
          105,
          75,
          82,
          91,
          78,
          90,
          70,
          77,
          67,
          47,
          38,
          31,
          45,
          42,
          40,
          32,
          16,
          17,
          22,
          20,
          27,
          17,
          5,
          5,
          2,
          2,
          2,
          1,
          3,
          1,
          3,
          0,
          3,
          2,
          0,
          1,
          2,
          1,
          1,
          4,
          1,
          1,
          3,
          0,
          0,
          3,
          0,
          3,
          6,
          3,
          5,
          4,
          4,
          2,
          6,
          2,
          2,
          3,
          2,
          3,
          2,
          4,
          2,
          0,
          1,
          1,
          0,
          0,
          1,
          0,
          0,
          0,
          0
         ]
        },
        {
         "hovertemplate": "Year: %{x}<br>Number of Movies: %{y}<br>",
         "line": {
          "color": "#b3b3cc"
         },
         "mode": "lines",
         "name": "Independent/Experimental/LGBT",
         "type": "scatter",
         "x": [
          1900,
          1901,
          1902,
          1903,
          1905,
          1906,
          1907,
          1908,
          1909,
          1910,
          1911,
          1912,
          1913,
          1914,
          1915,
          1916,
          1917,
          1918,
          1919,
          1920,
          1921,
          1922,
          1923,
          1924,
          1925,
          1926,
          1927,
          1928,
          1929,
          1930,
          1931,
          1932,
          1933,
          1934,
          1935,
          1936,
          1937,
          1938,
          1939,
          1940,
          1941,
          1942,
          1943,
          1944,
          1945,
          1946,
          1947,
          1948,
          1949,
          1950,
          1951,
          1952,
          1953,
          1954,
          1955,
          1956,
          1957,
          1958,
          1959,
          1960,
          1961,
          1962,
          1963,
          1964,
          1965,
          1966,
          1967,
          1968,
          1969,
          1970,
          1971,
          1972,
          1973,
          1974,
          1975,
          1976,
          1977,
          1978,
          1979,
          1980,
          1981,
          1982,
          1983,
          1984,
          1985,
          1986,
          1987,
          1988,
          1989,
          1990,
          1991,
          1992,
          1993,
          1994,
          1995,
          1996,
          1997,
          1998,
          1999,
          2000,
          2001,
          2002,
          2003,
          2004,
          2005,
          2006,
          2007,
          2008,
          2009,
          2010,
          2011,
          2012,
          2013,
          2014,
          2015,
          2016
         ],
         "y": [
          6,
          7,
          1,
          2,
          0,
          1,
          1,
          11,
          25,
          17,
          28,
          53,
          159,
          224,
          216,
          181,
          107,
          116,
          125,
          94,
          74,
          64,
          90,
          66,
          72,
          66,
          69,
          47,
          23,
          7,
          3,
          3,
          1,
          2,
          6,
          3,
          0,
          0,
          0,
          0,
          2,
          0,
          2,
          3,
          0,
          0,
          3,
          3,
          2,
          5,
          1,
          0,
          2,
          2,
          2,
          5,
          3,
          4,
          6,
          7,
          7,
          12,
          10,
          17,
          11,
          10,
          14,
          16,
          19,
          16,
          23,
          18,
          22,
          27,
          24,
          23,
          23,
          26,
          19,
          32,
          29,
          40,
          31,
          46,
          54,
          48,
          56,
          57,
          84,
          51,
          67,
          57,
          59,
          64,
          82,
          79,
          130,
          123,
          110,
          132,
          132,
          140,
          143,
          166,
          217,
          294,
          297,
          263,
          204,
          136,
          49,
          8,
          0,
          0,
          0,
          0
         ]
        },
        {
         "hovertemplate": "Year: %{x}<br>Number of Movies: %{y}<br>",
         "line": {
          "color": "#c2c2f0"
         },
         "mode": "lines",
         "name": "Musical",
         "type": "scatter",
         "x": [
          1900,
          1901,
          1902,
          1903,
          1905,
          1906,
          1907,
          1908,
          1909,
          1910,
          1911,
          1912,
          1913,
          1914,
          1915,
          1916,
          1917,
          1918,
          1919,
          1920,
          1921,
          1922,
          1923,
          1924,
          1925,
          1926,
          1927,
          1928,
          1929,
          1930,
          1931,
          1932,
          1933,
          1934,
          1935,
          1936,
          1937,
          1938,
          1939,
          1940,
          1941,
          1942,
          1943,
          1944,
          1945,
          1946,
          1947,
          1948,
          1949,
          1950,
          1951,
          1952,
          1953,
          1954,
          1955,
          1956,
          1957,
          1958,
          1959,
          1960,
          1961,
          1962,
          1963,
          1964,
          1965,
          1966,
          1967,
          1968,
          1969,
          1970,
          1971,
          1972,
          1973,
          1974,
          1975,
          1976,
          1977,
          1978,
          1979,
          1980,
          1981,
          1982,
          1983,
          1984,
          1985,
          1986,
          1987,
          1988,
          1989,
          1990,
          1991,
          1992,
          1993,
          1994,
          1995,
          1996,
          1997,
          1998,
          1999,
          2000,
          2001,
          2002,
          2003,
          2004,
          2005,
          2006,
          2007,
          2008,
          2009,
          2010,
          2011,
          2012,
          2013,
          2014,
          2015,
          2016
         ],
         "y": [
          0,
          0,
          0,
          0,
          0,
          0,
          0,
          0,
          0,
          0,
          0,
          1,
          0,
          0,
          0,
          0,
          0,
          0,
          0,
          0,
          0,
          0,
          2,
          0,
          0,
          0,
          1,
          4,
          44,
          60,
          23,
          14,
          29,
          42,
          41,
          42,
          46,
          38,
          28,
          27,
          34,
          33,
          42,
          45,
          29,
          30,
          30,
          28,
          20,
          25,
          20,
          27,
          36,
          18,
          30,
          28,
          21,
          13,
          10,
          9,
          12,
          14,
          7,
          16,
          14,
          13,
          17,
          11,
          12,
          10,
          13,
          11,
          6,
          11,
          6,
          11,
          5,
          18,
          10,
          18,
          8,
          10,
          9,
          12,
          11,
          16,
          16,
          15,
          10,
          11,
          12,
          18,
          8,
          8,
          12,
          17,
          8,
          14,
          15,
          17,
          20,
          13,
          20,
          38,
          24,
          29,
          34,
          32,
          25,
          23,
          15,
          11,
          2,
          0,
          0,
          0
         ]
        },
        {
         "hovertemplate": "Year: %{x}<br>Number of Movies: %{y}<br>",
         "line": {
          "color": "blue"
         },
         "mode": "lines",
         "name": "Other",
         "type": "scatter",
         "x": [
          1900,
          1901,
          1902,
          1903,
          1905,
          1906,
          1907,
          1908,
          1909,
          1910,
          1911,
          1912,
          1913,
          1914,
          1915,
          1916,
          1917,
          1918,
          1919,
          1920,
          1921,
          1922,
          1923,
          1924,
          1925,
          1926,
          1927,
          1928,
          1929,
          1930,
          1931,
          1932,
          1933,
          1934,
          1935,
          1936,
          1937,
          1938,
          1939,
          1940,
          1941,
          1942,
          1943,
          1944,
          1945,
          1946,
          1947,
          1948,
          1949,
          1950,
          1951,
          1952,
          1953,
          1954,
          1955,
          1956,
          1957,
          1958,
          1959,
          1960,
          1961,
          1962,
          1963,
          1964,
          1965,
          1966,
          1967,
          1968,
          1969,
          1970,
          1971,
          1972,
          1973,
          1974,
          1975,
          1976,
          1977,
          1978,
          1979,
          1980,
          1981,
          1982,
          1983,
          1984,
          1985,
          1986,
          1987,
          1988,
          1989,
          1990,
          1991,
          1992,
          1993,
          1994,
          1995,
          1996,
          1997,
          1998,
          1999,
          2000,
          2001,
          2002,
          2003,
          2004,
          2005,
          2006,
          2007,
          2008,
          2009,
          2010,
          2011,
          2012,
          2013,
          2014,
          2015,
          2016
         ],
         "y": [
          0,
          0,
          0,
          0,
          1,
          0,
          0,
          1,
          1,
          1,
          1,
          3,
          3,
          4,
          9,
          7,
          1,
          2,
          6,
          8,
          8,
          10,
          19,
          15,
          19,
          14,
          22,
          22,
          41,
          54,
          65,
          88,
          81,
          95,
          76,
          83,
          68,
          80,
          90,
          76,
          78,
          117,
          109,
          106,
          111,
          97,
          110,
          99,
          109,
          104,
          101,
          102,
          104,
          88,
          113,
          83,
          117,
          75,
          72,
          66,
          59,
          74,
          63,
          71,
          80,
          84,
          82,
          82,
          77,
          90,
          99,
          109,
          105,
          118,
          94,
          114,
          106,
          121,
          113,
          130,
          112,
          122,
          120,
          134,
          176,
          167,
          179,
          193,
          164,
          188,
          194,
          172,
          198,
          240,
          231,
          250,
          253,
          298,
          292,
          310,
          343,
          361,
          382,
          388,
          476,
          575,
          515,
          488,
          396,
          278,
          142,
          54,
          14,
          0,
          0,
          0
         ]
        }
       ],
       "layout": {
        "barmode": "stack",
        "height": 500,
        "legend": {
         "title": {
          "text": "Themes"
         }
        },
        "template": {
         "data": {
          "bar": [
           {
            "error_x": {
             "color": "#2a3f5f"
            },
            "error_y": {
             "color": "#2a3f5f"
            },
            "marker": {
             "line": {
              "color": "#E5ECF6",
              "width": 0.5
             },
             "pattern": {
              "fillmode": "overlay",
              "size": 10,
              "solidity": 0.2
             }
            },
            "type": "bar"
           }
          ],
          "barpolar": [
           {
            "marker": {
             "line": {
              "color": "#E5ECF6",
              "width": 0.5
             },
             "pattern": {
              "fillmode": "overlay",
              "size": 10,
              "solidity": 0.2
             }
            },
            "type": "barpolar"
           }
          ],
          "carpet": [
           {
            "aaxis": {
             "endlinecolor": "#2a3f5f",
             "gridcolor": "white",
             "linecolor": "white",
             "minorgridcolor": "white",
             "startlinecolor": "#2a3f5f"
            },
            "baxis": {
             "endlinecolor": "#2a3f5f",
             "gridcolor": "white",
             "linecolor": "white",
             "minorgridcolor": "white",
             "startlinecolor": "#2a3f5f"
            },
            "type": "carpet"
           }
          ],
          "choropleth": [
           {
            "colorbar": {
             "outlinewidth": 0,
             "ticks": ""
            },
            "type": "choropleth"
           }
          ],
          "contour": [
           {
            "colorbar": {
             "outlinewidth": 0,
             "ticks": ""
            },
            "colorscale": [
             [
              0,
              "#0d0887"
             ],
             [
              0.1111111111111111,
              "#46039f"
             ],
             [
              0.2222222222222222,
              "#7201a8"
             ],
             [
              0.3333333333333333,
              "#9c179e"
             ],
             [
              0.4444444444444444,
              "#bd3786"
             ],
             [
              0.5555555555555556,
              "#d8576b"
             ],
             [
              0.6666666666666666,
              "#ed7953"
             ],
             [
              0.7777777777777778,
              "#fb9f3a"
             ],
             [
              0.8888888888888888,
              "#fdca26"
             ],
             [
              1,
              "#f0f921"
             ]
            ],
            "type": "contour"
           }
          ],
          "contourcarpet": [
           {
            "colorbar": {
             "outlinewidth": 0,
             "ticks": ""
            },
            "type": "contourcarpet"
           }
          ],
          "heatmap": [
           {
            "colorbar": {
             "outlinewidth": 0,
             "ticks": ""
            },
            "colorscale": [
             [
              0,
              "#0d0887"
             ],
             [
              0.1111111111111111,
              "#46039f"
             ],
             [
              0.2222222222222222,
              "#7201a8"
             ],
             [
              0.3333333333333333,
              "#9c179e"
             ],
             [
              0.4444444444444444,
              "#bd3786"
             ],
             [
              0.5555555555555556,
              "#d8576b"
             ],
             [
              0.6666666666666666,
              "#ed7953"
             ],
             [
              0.7777777777777778,
              "#fb9f3a"
             ],
             [
              0.8888888888888888,
              "#fdca26"
             ],
             [
              1,
              "#f0f921"
             ]
            ],
            "type": "heatmap"
           }
          ],
          "heatmapgl": [
           {
            "colorbar": {
             "outlinewidth": 0,
             "ticks": ""
            },
            "colorscale": [
             [
              0,
              "#0d0887"
             ],
             [
              0.1111111111111111,
              "#46039f"
             ],
             [
              0.2222222222222222,
              "#7201a8"
             ],
             [
              0.3333333333333333,
              "#9c179e"
             ],
             [
              0.4444444444444444,
              "#bd3786"
             ],
             [
              0.5555555555555556,
              "#d8576b"
             ],
             [
              0.6666666666666666,
              "#ed7953"
             ],
             [
              0.7777777777777778,
              "#fb9f3a"
             ],
             [
              0.8888888888888888,
              "#fdca26"
             ],
             [
              1,
              "#f0f921"
             ]
            ],
            "type": "heatmapgl"
           }
          ],
          "histogram": [
           {
            "marker": {
             "pattern": {
              "fillmode": "overlay",
              "size": 10,
              "solidity": 0.2
             }
            },
            "type": "histogram"
           }
          ],
          "histogram2d": [
           {
            "colorbar": {
             "outlinewidth": 0,
             "ticks": ""
            },
            "colorscale": [
             [
              0,
              "#0d0887"
             ],
             [
              0.1111111111111111,
              "#46039f"
             ],
             [
              0.2222222222222222,
              "#7201a8"
             ],
             [
              0.3333333333333333,
              "#9c179e"
             ],
             [
              0.4444444444444444,
              "#bd3786"
             ],
             [
              0.5555555555555556,
              "#d8576b"
             ],
             [
              0.6666666666666666,
              "#ed7953"
             ],
             [
              0.7777777777777778,
              "#fb9f3a"
             ],
             [
              0.8888888888888888,
              "#fdca26"
             ],
             [
              1,
              "#f0f921"
             ]
            ],
            "type": "histogram2d"
           }
          ],
          "histogram2dcontour": [
           {
            "colorbar": {
             "outlinewidth": 0,
             "ticks": ""
            },
            "colorscale": [
             [
              0,
              "#0d0887"
             ],
             [
              0.1111111111111111,
              "#46039f"
             ],
             [
              0.2222222222222222,
              "#7201a8"
             ],
             [
              0.3333333333333333,
              "#9c179e"
             ],
             [
              0.4444444444444444,
              "#bd3786"
             ],
             [
              0.5555555555555556,
              "#d8576b"
             ],
             [
              0.6666666666666666,
              "#ed7953"
             ],
             [
              0.7777777777777778,
              "#fb9f3a"
             ],
             [
              0.8888888888888888,
              "#fdca26"
             ],
             [
              1,
              "#f0f921"
             ]
            ],
            "type": "histogram2dcontour"
           }
          ],
          "mesh3d": [
           {
            "colorbar": {
             "outlinewidth": 0,
             "ticks": ""
            },
            "type": "mesh3d"
           }
          ],
          "parcoords": [
           {
            "line": {
             "colorbar": {
              "outlinewidth": 0,
              "ticks": ""
             }
            },
            "type": "parcoords"
           }
          ],
          "pie": [
           {
            "automargin": true,
            "type": "pie"
           }
          ],
          "scatter": [
           {
            "fillpattern": {
             "fillmode": "overlay",
             "size": 10,
             "solidity": 0.2
            },
            "type": "scatter"
           }
          ],
          "scatter3d": [
           {
            "line": {
             "colorbar": {
              "outlinewidth": 0,
              "ticks": ""
             }
            },
            "marker": {
             "colorbar": {
              "outlinewidth": 0,
              "ticks": ""
             }
            },
            "type": "scatter3d"
           }
          ],
          "scattercarpet": [
           {
            "marker": {
             "colorbar": {
              "outlinewidth": 0,
              "ticks": ""
             }
            },
            "type": "scattercarpet"
           }
          ],
          "scattergeo": [
           {
            "marker": {
             "colorbar": {
              "outlinewidth": 0,
              "ticks": ""
             }
            },
            "type": "scattergeo"
           }
          ],
          "scattergl": [
           {
            "marker": {
             "colorbar": {
              "outlinewidth": 0,
              "ticks": ""
             }
            },
            "type": "scattergl"
           }
          ],
          "scattermapbox": [
           {
            "marker": {
             "colorbar": {
              "outlinewidth": 0,
              "ticks": ""
             }
            },
            "type": "scattermapbox"
           }
          ],
          "scatterpolar": [
           {
            "marker": {
             "colorbar": {
              "outlinewidth": 0,
              "ticks": ""
             }
            },
            "type": "scatterpolar"
           }
          ],
          "scatterpolargl": [
           {
            "marker": {
             "colorbar": {
              "outlinewidth": 0,
              "ticks": ""
             }
            },
            "type": "scatterpolargl"
           }
          ],
          "scatterternary": [
           {
            "marker": {
             "colorbar": {
              "outlinewidth": 0,
              "ticks": ""
             }
            },
            "type": "scatterternary"
           }
          ],
          "surface": [
           {
            "colorbar": {
             "outlinewidth": 0,
             "ticks": ""
            },
            "colorscale": [
             [
              0,
              "#0d0887"
             ],
             [
              0.1111111111111111,
              "#46039f"
             ],
             [
              0.2222222222222222,
              "#7201a8"
             ],
             [
              0.3333333333333333,
              "#9c179e"
             ],
             [
              0.4444444444444444,
              "#bd3786"
             ],
             [
              0.5555555555555556,
              "#d8576b"
             ],
             [
              0.6666666666666666,
              "#ed7953"
             ],
             [
              0.7777777777777778,
              "#fb9f3a"
             ],
             [
              0.8888888888888888,
              "#fdca26"
             ],
             [
              1,
              "#f0f921"
             ]
            ],
            "type": "surface"
           }
          ],
          "table": [
           {
            "cells": {
             "fill": {
              "color": "#EBF0F8"
             },
             "line": {
              "color": "white"
             }
            },
            "header": {
             "fill": {
              "color": "#C8D4E3"
             },
             "line": {
              "color": "white"
             }
            },
            "type": "table"
           }
          ]
         },
         "layout": {
          "annotationdefaults": {
           "arrowcolor": "#2a3f5f",
           "arrowhead": 0,
           "arrowwidth": 1
          },
          "autotypenumbers": "strict",
          "coloraxis": {
           "colorbar": {
            "outlinewidth": 0,
            "ticks": ""
           }
          },
          "colorscale": {
           "diverging": [
            [
             0,
             "#8e0152"
            ],
            [
             0.1,
             "#c51b7d"
            ],
            [
             0.2,
             "#de77ae"
            ],
            [
             0.3,
             "#f1b6da"
            ],
            [
             0.4,
             "#fde0ef"
            ],
            [
             0.5,
             "#f7f7f7"
            ],
            [
             0.6,
             "#e6f5d0"
            ],
            [
             0.7,
             "#b8e186"
            ],
            [
             0.8,
             "#7fbc41"
            ],
            [
             0.9,
             "#4d9221"
            ],
            [
             1,
             "#276419"
            ]
           ],
           "sequential": [
            [
             0,
             "#0d0887"
            ],
            [
             0.1111111111111111,
             "#46039f"
            ],
            [
             0.2222222222222222,
             "#7201a8"
            ],
            [
             0.3333333333333333,
             "#9c179e"
            ],
            [
             0.4444444444444444,
             "#bd3786"
            ],
            [
             0.5555555555555556,
             "#d8576b"
            ],
            [
             0.6666666666666666,
             "#ed7953"
            ],
            [
             0.7777777777777778,
             "#fb9f3a"
            ],
            [
             0.8888888888888888,
             "#fdca26"
            ],
            [
             1,
             "#f0f921"
            ]
           ],
           "sequentialminus": [
            [
             0,
             "#0d0887"
            ],
            [
             0.1111111111111111,
             "#46039f"
            ],
            [
             0.2222222222222222,
             "#7201a8"
            ],
            [
             0.3333333333333333,
             "#9c179e"
            ],
            [
             0.4444444444444444,
             "#bd3786"
            ],
            [
             0.5555555555555556,
             "#d8576b"
            ],
            [
             0.6666666666666666,
             "#ed7953"
            ],
            [
             0.7777777777777778,
             "#fb9f3a"
            ],
            [
             0.8888888888888888,
             "#fdca26"
            ],
            [
             1,
             "#f0f921"
            ]
           ]
          },
          "colorway": [
           "#636efa",
           "#EF553B",
           "#00cc96",
           "#ab63fa",
           "#FFA15A",
           "#19d3f3",
           "#FF6692",
           "#B6E880",
           "#FF97FF",
           "#FECB52"
          ],
          "font": {
           "color": "#2a3f5f"
          },
          "geo": {
           "bgcolor": "white",
           "lakecolor": "white",
           "landcolor": "#E5ECF6",
           "showlakes": true,
           "showland": true,
           "subunitcolor": "white"
          },
          "hoverlabel": {
           "align": "left"
          },
          "hovermode": "closest",
          "mapbox": {
           "style": "light"
          },
          "paper_bgcolor": "white",
          "plot_bgcolor": "#E5ECF6",
          "polar": {
           "angularaxis": {
            "gridcolor": "white",
            "linecolor": "white",
            "ticks": ""
           },
           "bgcolor": "#E5ECF6",
           "radialaxis": {
            "gridcolor": "white",
            "linecolor": "white",
            "ticks": ""
           }
          },
          "scene": {
           "xaxis": {
            "backgroundcolor": "#E5ECF6",
            "gridcolor": "white",
            "gridwidth": 2,
            "linecolor": "white",
            "showbackground": true,
            "ticks": "",
            "zerolinecolor": "white"
           },
           "yaxis": {
            "backgroundcolor": "#E5ECF6",
            "gridcolor": "white",
            "gridwidth": 2,
            "linecolor": "white",
            "showbackground": true,
            "ticks": "",
            "zerolinecolor": "white"
           },
           "zaxis": {
            "backgroundcolor": "#E5ECF6",
            "gridcolor": "white",
            "gridwidth": 2,
            "linecolor": "white",
            "showbackground": true,
            "ticks": "",
            "zerolinecolor": "white"
           }
          },
          "shapedefaults": {
           "line": {
            "color": "#2a3f5f"
           }
          },
          "ternary": {
           "aaxis": {
            "gridcolor": "white",
            "linecolor": "white",
            "ticks": ""
           },
           "baxis": {
            "gridcolor": "white",
            "linecolor": "white",
            "ticks": ""
           },
           "bgcolor": "#E5ECF6",
           "caxis": {
            "gridcolor": "white",
            "linecolor": "white",
            "ticks": ""
           }
          },
          "title": {
           "x": 0.05
          },
          "xaxis": {
           "automargin": true,
           "gridcolor": "white",
           "linecolor": "white",
           "ticks": "",
           "title": {
            "standoff": 15
           },
           "zerolinecolor": "white",
           "zerolinewidth": 2
          },
          "yaxis": {
           "automargin": true,
           "gridcolor": "white",
           "linecolor": "white",
           "ticks": "",
           "title": {
            "standoff": 15
           },
           "zerolinecolor": "white",
           "zerolinewidth": 2
          }
         }
        },
        "title": {
         "text": "Evolution of Movie Themes Over the Years",
         "x": 0.5,
         "xanchor": "right"
        },
        "updatemenus": [
         {
          "buttons": [
           {
            "args": [],
            "label": "Select Theme"
           },
           {
            "args": [
             {
              "visible": [
               true,
               false,
               false,
               false,
               false,
               false,
               false,
               false,
               false,
               false,
               false,
               false,
               false
              ]
             },
             {
              "title": "Evolution of Action/Adventure/Thriller Movies Over the Years"
             }
            ],
            "label": "Action/Adventure/Thriller",
            "method": "update"
           },
           {
            "args": [
             {
              "visible": [
               false,
               true,
               false,
               false,
               false,
               false,
               false,
               false,
               false,
               false,
               false,
               false,
               false
              ]
             },
             {
              "title": "Evolution of Comedy Movies Over the Years"
             }
            ],
            "label": "Comedy",
            "method": "update"
           },
           {
            "args": [
             {
              "visible": [
               false,
               false,
               true,
               false,
               false,
               false,
               false,
               false,
               false,
               false,
               false,
               false,
               false
              ]
             },
             {
              "title": "Evolution of Drama/Mystery Movies Over the Years"
             }
            ],
            "label": "Drama/Mystery",
            "method": "update"
           },
           {
            "args": [
             {
              "visible": [
               false,
               false,
               false,
               true,
               false,
               false,
               false,
               false,
               false,
               false,
               false,
               false,
               false
              ]
             },
             {
              "title": "Evolution of Romance Movies Over the Years"
             }
            ],
            "label": "Romance",
            "method": "update"
           },
           {
            "args": [
             {
              "visible": [
               false,
               false,
               false,
               false,
               true,
               false,
               false,
               false,
               false,
               false,
               false,
               false,
               false
              ]
             },
             {
              "title": "Evolution of Horror/Crime Movies Over the Years"
             }
            ],
            "label": "Horror/Crime",
            "method": "update"
           },
           {
            "args": [
             {
              "visible": [
               false,
               false,
               false,
               false,
               false,
               true,
               false,
               false,
               false,
               false,
               false,
               false,
               false
              ]
             },
             {
              "title": "Evolution of Science Fiction/Fantasy Movies Over the Years"
             }
            ],
            "label": "Science Fiction/Fantasy",
            "method": "update"
           },
           {
            "args": [
             {
              "visible": [
               false,
               false,
               false,
               false,
               false,
               false,
               true,
               false,
               false,
               false,
               false,
               false,
               false
              ]
             },
             {
              "title": "Evolution of Animation/Family Movies Over the Years"
             }
            ],
            "label": "Animation/Family",
            "method": "update"
           },
           {
            "args": [
             {
              "visible": [
               false,
               false,
               false,
               false,
               false,
               false,
               false,
               true,
               false,
               false,
               false,
               false,
               false
              ]
             },
             {
              "title": "Evolution of Historical/Biographical/Documentary Movies Over the Years"
             }
            ],
            "label": "Historical/Biographical/Documentary",
            "method": "update"
           },
           {
            "args": [
             {
              "visible": [
               false,
               false,
               false,
               false,
               false,
               false,
               false,
               false,
               true,
               false,
               false,
               false,
               false
              ]
             },
             {
              "title": "Evolution of Short/Silent Movies Over the Years"
             }
            ],
            "label": "Short/Silent",
            "method": "update"
           },
           {
            "args": [
             {
              "visible": [
               false,
               false,
               false,
               false,
               false,
               false,
               false,
               false,
               false,
               true,
               false,
               false,
               false
              ]
             },
             {
              "title": "Evolution of Black-and-White Movies Over the Years"
             }
            ],
            "label": "Black-and-White",
            "method": "update"
           },
           {
            "args": [
             {
              "visible": [
               false,
               false,
               false,
               false,
               false,
               false,
               false,
               false,
               false,
               false,
               true,
               false,
               false
              ]
             },
             {
              "title": "Evolution of Independent/Experimental/LGBT Movies Over the Years"
             }
            ],
            "label": "Independent/Experimental/LGBT",
            "method": "update"
           },
           {
            "args": [
             {
              "visible": [
               false,
               false,
               false,
               false,
               false,
               false,
               false,
               false,
               false,
               false,
               false,
               true,
               false
              ]
             },
             {
              "title": "Evolution of Musical Movies Over the Years"
             }
            ],
            "label": "Musical",
            "method": "update"
           },
           {
            "args": [
             {
              "visible": [
               false,
               false,
               false,
               false,
               false,
               false,
               false,
               false,
               false,
               false,
               false,
               false,
               true
              ]
             },
             {
              "title": "Evolution of Other Movies Over the Years"
             }
            ],
            "label": "Other",
            "method": "update"
           }
          ],
          "type": "dropdown",
          "x": 1.214,
          "xanchor": "center",
          "y": 1.11,
          "yanchor": "top"
         },
         {
          "buttons": [
           {
            "args": [
             {
              "visible": [
               true,
               true,
               true,
               true,
               true,
               true,
               true,
               true,
               true,
               true,
               true,
               true,
               true
              ]
             },
             {
              "title": "Evolution of Movie Themes Over the Years"
             }
            ],
            "label": "Show All",
            "method": "update"
           }
          ],
          "type": "buttons",
          "x": 1.005,
          "xanchor": "left",
          "y": 1.17,
          "yanchor": "middle"
         }
        ],
        "width": 1000,
        "xaxis": {
         "title": {
          "text": "Release Year"
         }
        },
        "yaxis": {
         "title": {
          "text": "Number of Movies"
         }
        }
       }
      }
     },
     "metadata": {},
     "output_type": "display_data"
    }
   ],
   "source": [
    "# Create an empty figure\n",
    "fig = go.Figure()\n",
    "\n",
    "# Add each theme as a trace\n",
    "for theme in themes:\n",
    "    if theme in theme_years_counts_pivot.columns:\n",
    "        fig.add_trace(go.Scatter(\n",
    "            x=theme_years_counts_pivot.index,  # x-axis is the release year\n",
    "            y=theme_years_counts_pivot[theme],  # y-axis is the number of movies for each theme\n",
    "            mode='lines',  # Use lines for the plot\n",
    "            name=theme,  # Set the theme name for the legend\n",
    "            line=dict(color=theme_colors.get(theme, 'gray')),  # Use color mapping for each theme\n",
    "            hovertemplate='Year: %{x}<br>Number of Movies: %{y}<br>'  # Custom hover text\n",
    "        ))\n",
    "\n",
    "# Add buttons for hide/show functionality\n",
    "visibility = [[True if i == idx else False for i in range(len(themes))]\n",
    "              for idx in range(len(themes))]\n",
    "\n",
    "# Define \"Select Theme\" button\n",
    "select_theme_button = dict(\n",
    "    label=\"Select Theme\",  # Displayed as a label in the dropdown\n",
    "    method=None,  # Non-interactive option\n",
    "    args=[]  # No action associated with this\n",
    ")\n",
    "\n",
    "theme_buttons = [\n",
    "    dict(\n",
    "        label=theme,\n",
    "        method=\"update\",\n",
    "        args=[\n",
    "            {\"visible\": vis},  # Update visibility\n",
    "            {\"title\": f\"Evolution of {theme} Movies Over the Years\"}  # Update title\n",
    "        ]\n",
    "    )\n",
    "    for theme, vis in zip(themes, visibility)\n",
    "]\n",
    "\n",
    "\n",
    "# Combine \"Select Theme\" and theme-specific buttons\n",
    "buttons = [select_theme_button] + theme_buttons\n",
    "\n",
    "# Dropdown menu for individual themes\n",
    "dropdown_menu = dict(\n",
    "    type=\"dropdown\",\n",
    "    buttons=buttons,\n",
    "    x=1.214,\n",
    "    xanchor=\"center\",\n",
    "    y=1.11,\n",
    "    yanchor=\"top\",\n",
    ")\n",
    "\n",
    "# Button for \"Show All\" placed on the side\n",
    "side_button = dict(\n",
    "    type=\"buttons\",\n",
    "    buttons=[\n",
    "        dict(\n",
    "            label=\"Show All\",\n",
    "            method=\"update\",\n",
    "            args=[\n",
    "                {\"visible\": [True] * len(themes)},\n",
    "                {\"title\": \"Evolution of Movie Themes Over the Years\"}\n",
    "            ]\n",
    "        )\n",
    "    ],\n",
    "    x=1.005,  # Adjust position to place on the side\n",
    "    xanchor=\"left\",\n",
    "    y=1.17,\n",
    "    yanchor=\"middle\",\n",
    ")\n",
    "\n",
    "# Update layout\n",
    "fig.update_layout(\n",
    "    updatemenus=[dropdown_menu, side_button],\n",
    "    title={\n",
    "        'text': 'Evolution of Movie Themes Over the Years',\n",
    "        'x': 0.5,  # Center the title\n",
    "        'xanchor': 'right'\n",
    "    },\n",
    "    title_x=0.5,\n",
    "    barmode='stack',\n",
    "    xaxis_title='Release Year',\n",
    "    yaxis_title='Number of Movies',\n",
    "    legend_title=\"Themes\",\n",
    "    height=500,\n",
    "    width=1000,\n",
    ")\n",
    "\n",
    "# Show the interactive plot\n",
    "fig.show()\n",
    "fig.write_html('/Users/lilly-flore/Desktop/line_theme_year.html')"
   ]
  },
  {
   "cell_type": "markdown",
   "metadata": {},
   "source": [
    "#### Focus on the top firt and last 3 Themes from 1900 to nowadays\n",
    "\n",
    "Identify the top 3 popular themes from the first and last 10 years of data and generates interactive plots showing the trends of these themes over time, with associated genres displayed on hover."
   ]
  },
  {
   "cell_type": "code",
   "execution_count": 212,
   "metadata": {},
   "outputs": [
    {
     "data": {
      "application/vnd.plotly.v1+json": {
       "config": {
        "plotlyServerURL": "https://plot.ly"
       },
       "data": [
        {
         "hovertemplate": "<b>Genres:</b> short film, silent film<br><b>Year:</b> %{x}<br><b>Number of Movies:</b> %{y}<br>",
         "line": {
          "color": "#999999"
         },
         "mode": "lines",
         "name": "Short/Silent",
         "type": "scatter",
         "x": [
          1900,
          1901,
          1902,
          1903,
          1905,
          1906,
          1907,
          1908,
          1909,
          1910,
          1911,
          1912,
          1913,
          1914,
          1915,
          1916,
          1917,
          1918,
          1919,
          1920,
          1921,
          1922,
          1923,
          1924,
          1925,
          1926,
          1927,
          1928,
          1929,
          1930,
          1931,
          1932,
          1933,
          1934,
          1935,
          1936,
          1937,
          1938,
          1939,
          1940,
          1941,
          1942,
          1943,
          1944,
          1945,
          1946,
          1947,
          1948,
          1949,
          1950,
          1951,
          1952,
          1953,
          1954,
          1955,
          1956,
          1957,
          1958,
          1959,
          1960,
          1961,
          1962,
          1963,
          1964,
          1965,
          1966,
          1967,
          1968,
          1969,
          1970,
          1971,
          1972,
          1973,
          1974,
          1975,
          1976,
          1977,
          1978,
          1979,
          1980,
          1981,
          1982,
          1983,
          1984,
          1985,
          1986,
          1987,
          1988,
          1989,
          1990,
          1991,
          1992,
          1993,
          1994,
          1995,
          1996,
          1997,
          1998,
          1999,
          2000,
          2001,
          2002,
          2003,
          2004,
          2005,
          2006,
          2007,
          2008,
          2009,
          2010,
          2011,
          2012,
          2013,
          2014,
          2015,
          2016
         ],
         "y": [
          10,
          11,
          2,
          3,
          2,
          2,
          2,
          22,
          33,
          33,
          69,
          93,
          200,
          297,
          326,
          267,
          180,
          172,
          182,
          155,
          129,
          123,
          157,
          156,
          176,
          147,
          157,
          140,
          98,
          47,
          63,
          60,
          66,
          58,
          62,
          66,
          63,
          64,
          46,
          36,
          54,
          71,
          75,
          40,
          50,
          42,
          34,
          41,
          34,
          32,
          33,
          39,
          40,
          39,
          42,
          45,
          39,
          25,
          20,
          16,
          22,
          19,
          23,
          17,
          27,
          30,
          22,
          25,
          15,
          11,
          17,
          15,
          10,
          16,
          21,
          15,
          14,
          12,
          14,
          17,
          15,
          18,
          7,
          12,
          15,
          15,
          21,
          15,
          22,
          19,
          22,
          22,
          12,
          21,
          27,
          26,
          22,
          29,
          28,
          27,
          49,
          48,
          63,
          70,
          76,
          79,
          72,
          50,
          65,
          33,
          26,
          19,
          0,
          0,
          0,
          0
         ]
        },
        {
         "hovertemplate": "<b>Genres:</b> black-and-white<br><b>Year:</b> %{x}<br><b>Number of Movies:</b> %{y}<br>",
         "line": {
          "color": "pink"
         },
         "mode": "lines",
         "name": "Black-and-White",
         "type": "scatter",
         "x": [
          1900,
          1901,
          1902,
          1903,
          1905,
          1906,
          1907,
          1908,
          1909,
          1910,
          1911,
          1912,
          1913,
          1914,
          1915,
          1916,
          1917,
          1918,
          1919,
          1920,
          1921,
          1922,
          1923,
          1924,
          1925,
          1926,
          1927,
          1928,
          1929,
          1930,
          1931,
          1932,
          1933,
          1934,
          1935,
          1936,
          1937,
          1938,
          1939,
          1940,
          1941,
          1942,
          1943,
          1944,
          1945,
          1946,
          1947,
          1948,
          1949,
          1950,
          1951,
          1952,
          1953,
          1954,
          1955,
          1956,
          1957,
          1958,
          1959,
          1960,
          1961,
          1962,
          1963,
          1964,
          1965,
          1966,
          1967,
          1968,
          1969,
          1970,
          1971,
          1972,
          1973,
          1974,
          1975,
          1976,
          1977,
          1978,
          1979,
          1980,
          1981,
          1982,
          1983,
          1984,
          1985,
          1986,
          1987,
          1988,
          1989,
          1990,
          1991,
          1992,
          1993,
          1994,
          1995,
          1996,
          1997,
          1998,
          1999,
          2000,
          2001,
          2002,
          2003,
          2004,
          2005,
          2006,
          2007,
          2008,
          2009,
          2010,
          2011,
          2012,
          2013,
          2014,
          2015,
          2016
         ],
         "y": [
          6,
          4,
          1,
          2,
          0,
          1,
          1,
          14,
          28,
          23,
          57,
          78,
          173,
          251,
          288,
          212,
          161,
          156,
          155,
          127,
          108,
          95,
          115,
          110,
          118,
          101,
          105,
          100,
          124,
          99,
          156,
          168,
          153,
          148,
          153,
          157,
          162,
          135,
          158,
          147,
          155,
          150,
          132,
          105,
          75,
          82,
          91,
          78,
          90,
          70,
          77,
          67,
          47,
          38,
          31,
          45,
          42,
          40,
          32,
          16,
          17,
          22,
          20,
          27,
          17,
          5,
          5,
          2,
          2,
          2,
          1,
          3,
          1,
          3,
          0,
          3,
          2,
          0,
          1,
          2,
          1,
          1,
          4,
          1,
          1,
          3,
          0,
          0,
          3,
          0,
          3,
          6,
          3,
          5,
          4,
          4,
          2,
          6,
          2,
          2,
          3,
          2,
          3,
          2,
          4,
          2,
          0,
          1,
          1,
          0,
          0,
          1,
          0,
          0,
          0,
          0
         ]
        },
        {
         "hovertemplate": "<b>Genres:</b> indie, experimental film, lgbt, gay, gay themed, ...<br><b>Year:</b> %{x}<br><b>Number of Movies:</b> %{y}<br>",
         "line": {
          "color": "#b3b3cc"
         },
         "mode": "lines",
         "name": "Independent/Experimental/LGBT",
         "type": "scatter",
         "x": [
          1900,
          1901,
          1902,
          1903,
          1905,
          1906,
          1907,
          1908,
          1909,
          1910,
          1911,
          1912,
          1913,
          1914,
          1915,
          1916,
          1917,
          1918,
          1919,
          1920,
          1921,
          1922,
          1923,
          1924,
          1925,
          1926,
          1927,
          1928,
          1929,
          1930,
          1931,
          1932,
          1933,
          1934,
          1935,
          1936,
          1937,
          1938,
          1939,
          1940,
          1941,
          1942,
          1943,
          1944,
          1945,
          1946,
          1947,
          1948,
          1949,
          1950,
          1951,
          1952,
          1953,
          1954,
          1955,
          1956,
          1957,
          1958,
          1959,
          1960,
          1961,
          1962,
          1963,
          1964,
          1965,
          1966,
          1967,
          1968,
          1969,
          1970,
          1971,
          1972,
          1973,
          1974,
          1975,
          1976,
          1977,
          1978,
          1979,
          1980,
          1981,
          1982,
          1983,
          1984,
          1985,
          1986,
          1987,
          1988,
          1989,
          1990,
          1991,
          1992,
          1993,
          1994,
          1995,
          1996,
          1997,
          1998,
          1999,
          2000,
          2001,
          2002,
          2003,
          2004,
          2005,
          2006,
          2007,
          2008,
          2009,
          2010,
          2011,
          2012,
          2013,
          2014,
          2015,
          2016
         ],
         "y": [
          6,
          7,
          1,
          2,
          0,
          1,
          1,
          11,
          25,
          17,
          28,
          53,
          159,
          224,
          216,
          181,
          107,
          116,
          125,
          94,
          74,
          64,
          90,
          66,
          72,
          66,
          69,
          47,
          23,
          7,
          3,
          3,
          1,
          2,
          6,
          3,
          0,
          0,
          0,
          0,
          2,
          0,
          2,
          3,
          0,
          0,
          3,
          3,
          2,
          5,
          1,
          0,
          2,
          2,
          2,
          5,
          3,
          4,
          6,
          7,
          7,
          12,
          10,
          17,
          11,
          10,
          14,
          16,
          19,
          16,
          23,
          18,
          22,
          27,
          24,
          23,
          23,
          26,
          19,
          32,
          29,
          40,
          31,
          46,
          54,
          48,
          56,
          57,
          84,
          51,
          67,
          57,
          59,
          64,
          82,
          79,
          130,
          123,
          110,
          132,
          132,
          140,
          143,
          166,
          217,
          294,
          297,
          263,
          204,
          136,
          49,
          8,
          0,
          0,
          0,
          0
         ]
        }
       ],
       "layout": {
        "height": 400,
        "legend": {
         "title": {
          "text": "Themes"
         }
        },
        "template": {
         "data": {
          "bar": [
           {
            "error_x": {
             "color": "#2a3f5f"
            },
            "error_y": {
             "color": "#2a3f5f"
            },
            "marker": {
             "line": {
              "color": "#E5ECF6",
              "width": 0.5
             },
             "pattern": {
              "fillmode": "overlay",
              "size": 10,
              "solidity": 0.2
             }
            },
            "type": "bar"
           }
          ],
          "barpolar": [
           {
            "marker": {
             "line": {
              "color": "#E5ECF6",
              "width": 0.5
             },
             "pattern": {
              "fillmode": "overlay",
              "size": 10,
              "solidity": 0.2
             }
            },
            "type": "barpolar"
           }
          ],
          "carpet": [
           {
            "aaxis": {
             "endlinecolor": "#2a3f5f",
             "gridcolor": "white",
             "linecolor": "white",
             "minorgridcolor": "white",
             "startlinecolor": "#2a3f5f"
            },
            "baxis": {
             "endlinecolor": "#2a3f5f",
             "gridcolor": "white",
             "linecolor": "white",
             "minorgridcolor": "white",
             "startlinecolor": "#2a3f5f"
            },
            "type": "carpet"
           }
          ],
          "choropleth": [
           {
            "colorbar": {
             "outlinewidth": 0,
             "ticks": ""
            },
            "type": "choropleth"
           }
          ],
          "contour": [
           {
            "colorbar": {
             "outlinewidth": 0,
             "ticks": ""
            },
            "colorscale": [
             [
              0,
              "#0d0887"
             ],
             [
              0.1111111111111111,
              "#46039f"
             ],
             [
              0.2222222222222222,
              "#7201a8"
             ],
             [
              0.3333333333333333,
              "#9c179e"
             ],
             [
              0.4444444444444444,
              "#bd3786"
             ],
             [
              0.5555555555555556,
              "#d8576b"
             ],
             [
              0.6666666666666666,
              "#ed7953"
             ],
             [
              0.7777777777777778,
              "#fb9f3a"
             ],
             [
              0.8888888888888888,
              "#fdca26"
             ],
             [
              1,
              "#f0f921"
             ]
            ],
            "type": "contour"
           }
          ],
          "contourcarpet": [
           {
            "colorbar": {
             "outlinewidth": 0,
             "ticks": ""
            },
            "type": "contourcarpet"
           }
          ],
          "heatmap": [
           {
            "colorbar": {
             "outlinewidth": 0,
             "ticks": ""
            },
            "colorscale": [
             [
              0,
              "#0d0887"
             ],
             [
              0.1111111111111111,
              "#46039f"
             ],
             [
              0.2222222222222222,
              "#7201a8"
             ],
             [
              0.3333333333333333,
              "#9c179e"
             ],
             [
              0.4444444444444444,
              "#bd3786"
             ],
             [
              0.5555555555555556,
              "#d8576b"
             ],
             [
              0.6666666666666666,
              "#ed7953"
             ],
             [
              0.7777777777777778,
              "#fb9f3a"
             ],
             [
              0.8888888888888888,
              "#fdca26"
             ],
             [
              1,
              "#f0f921"
             ]
            ],
            "type": "heatmap"
           }
          ],
          "heatmapgl": [
           {
            "colorbar": {
             "outlinewidth": 0,
             "ticks": ""
            },
            "colorscale": [
             [
              0,
              "#0d0887"
             ],
             [
              0.1111111111111111,
              "#46039f"
             ],
             [
              0.2222222222222222,
              "#7201a8"
             ],
             [
              0.3333333333333333,
              "#9c179e"
             ],
             [
              0.4444444444444444,
              "#bd3786"
             ],
             [
              0.5555555555555556,
              "#d8576b"
             ],
             [
              0.6666666666666666,
              "#ed7953"
             ],
             [
              0.7777777777777778,
              "#fb9f3a"
             ],
             [
              0.8888888888888888,
              "#fdca26"
             ],
             [
              1,
              "#f0f921"
             ]
            ],
            "type": "heatmapgl"
           }
          ],
          "histogram": [
           {
            "marker": {
             "pattern": {
              "fillmode": "overlay",
              "size": 10,
              "solidity": 0.2
             }
            },
            "type": "histogram"
           }
          ],
          "histogram2d": [
           {
            "colorbar": {
             "outlinewidth": 0,
             "ticks": ""
            },
            "colorscale": [
             [
              0,
              "#0d0887"
             ],
             [
              0.1111111111111111,
              "#46039f"
             ],
             [
              0.2222222222222222,
              "#7201a8"
             ],
             [
              0.3333333333333333,
              "#9c179e"
             ],
             [
              0.4444444444444444,
              "#bd3786"
             ],
             [
              0.5555555555555556,
              "#d8576b"
             ],
             [
              0.6666666666666666,
              "#ed7953"
             ],
             [
              0.7777777777777778,
              "#fb9f3a"
             ],
             [
              0.8888888888888888,
              "#fdca26"
             ],
             [
              1,
              "#f0f921"
             ]
            ],
            "type": "histogram2d"
           }
          ],
          "histogram2dcontour": [
           {
            "colorbar": {
             "outlinewidth": 0,
             "ticks": ""
            },
            "colorscale": [
             [
              0,
              "#0d0887"
             ],
             [
              0.1111111111111111,
              "#46039f"
             ],
             [
              0.2222222222222222,
              "#7201a8"
             ],
             [
              0.3333333333333333,
              "#9c179e"
             ],
             [
              0.4444444444444444,
              "#bd3786"
             ],
             [
              0.5555555555555556,
              "#d8576b"
             ],
             [
              0.6666666666666666,
              "#ed7953"
             ],
             [
              0.7777777777777778,
              "#fb9f3a"
             ],
             [
              0.8888888888888888,
              "#fdca26"
             ],
             [
              1,
              "#f0f921"
             ]
            ],
            "type": "histogram2dcontour"
           }
          ],
          "mesh3d": [
           {
            "colorbar": {
             "outlinewidth": 0,
             "ticks": ""
            },
            "type": "mesh3d"
           }
          ],
          "parcoords": [
           {
            "line": {
             "colorbar": {
              "outlinewidth": 0,
              "ticks": ""
             }
            },
            "type": "parcoords"
           }
          ],
          "pie": [
           {
            "automargin": true,
            "type": "pie"
           }
          ],
          "scatter": [
           {
            "fillpattern": {
             "fillmode": "overlay",
             "size": 10,
             "solidity": 0.2
            },
            "type": "scatter"
           }
          ],
          "scatter3d": [
           {
            "line": {
             "colorbar": {
              "outlinewidth": 0,
              "ticks": ""
             }
            },
            "marker": {
             "colorbar": {
              "outlinewidth": 0,
              "ticks": ""
             }
            },
            "type": "scatter3d"
           }
          ],
          "scattercarpet": [
           {
            "marker": {
             "colorbar": {
              "outlinewidth": 0,
              "ticks": ""
             }
            },
            "type": "scattercarpet"
           }
          ],
          "scattergeo": [
           {
            "marker": {
             "colorbar": {
              "outlinewidth": 0,
              "ticks": ""
             }
            },
            "type": "scattergeo"
           }
          ],
          "scattergl": [
           {
            "marker": {
             "colorbar": {
              "outlinewidth": 0,
              "ticks": ""
             }
            },
            "type": "scattergl"
           }
          ],
          "scattermapbox": [
           {
            "marker": {
             "colorbar": {
              "outlinewidth": 0,
              "ticks": ""
             }
            },
            "type": "scattermapbox"
           }
          ],
          "scatterpolar": [
           {
            "marker": {
             "colorbar": {
              "outlinewidth": 0,
              "ticks": ""
             }
            },
            "type": "scatterpolar"
           }
          ],
          "scatterpolargl": [
           {
            "marker": {
             "colorbar": {
              "outlinewidth": 0,
              "ticks": ""
             }
            },
            "type": "scatterpolargl"
           }
          ],
          "scatterternary": [
           {
            "marker": {
             "colorbar": {
              "outlinewidth": 0,
              "ticks": ""
             }
            },
            "type": "scatterternary"
           }
          ],
          "surface": [
           {
            "colorbar": {
             "outlinewidth": 0,
             "ticks": ""
            },
            "colorscale": [
             [
              0,
              "#0d0887"
             ],
             [
              0.1111111111111111,
              "#46039f"
             ],
             [
              0.2222222222222222,
              "#7201a8"
             ],
             [
              0.3333333333333333,
              "#9c179e"
             ],
             [
              0.4444444444444444,
              "#bd3786"
             ],
             [
              0.5555555555555556,
              "#d8576b"
             ],
             [
              0.6666666666666666,
              "#ed7953"
             ],
             [
              0.7777777777777778,
              "#fb9f3a"
             ],
             [
              0.8888888888888888,
              "#fdca26"
             ],
             [
              1,
              "#f0f921"
             ]
            ],
            "type": "surface"
           }
          ],
          "table": [
           {
            "cells": {
             "fill": {
              "color": "#EBF0F8"
             },
             "line": {
              "color": "white"
             }
            },
            "header": {
             "fill": {
              "color": "#C8D4E3"
             },
             "line": {
              "color": "white"
             }
            },
            "type": "table"
           }
          ]
         },
         "layout": {
          "annotationdefaults": {
           "arrowcolor": "#2a3f5f",
           "arrowhead": 0,
           "arrowwidth": 1
          },
          "autotypenumbers": "strict",
          "coloraxis": {
           "colorbar": {
            "outlinewidth": 0,
            "ticks": ""
           }
          },
          "colorscale": {
           "diverging": [
            [
             0,
             "#8e0152"
            ],
            [
             0.1,
             "#c51b7d"
            ],
            [
             0.2,
             "#de77ae"
            ],
            [
             0.3,
             "#f1b6da"
            ],
            [
             0.4,
             "#fde0ef"
            ],
            [
             0.5,
             "#f7f7f7"
            ],
            [
             0.6,
             "#e6f5d0"
            ],
            [
             0.7,
             "#b8e186"
            ],
            [
             0.8,
             "#7fbc41"
            ],
            [
             0.9,
             "#4d9221"
            ],
            [
             1,
             "#276419"
            ]
           ],
           "sequential": [
            [
             0,
             "#0d0887"
            ],
            [
             0.1111111111111111,
             "#46039f"
            ],
            [
             0.2222222222222222,
             "#7201a8"
            ],
            [
             0.3333333333333333,
             "#9c179e"
            ],
            [
             0.4444444444444444,
             "#bd3786"
            ],
            [
             0.5555555555555556,
             "#d8576b"
            ],
            [
             0.6666666666666666,
             "#ed7953"
            ],
            [
             0.7777777777777778,
             "#fb9f3a"
            ],
            [
             0.8888888888888888,
             "#fdca26"
            ],
            [
             1,
             "#f0f921"
            ]
           ],
           "sequentialminus": [
            [
             0,
             "#0d0887"
            ],
            [
             0.1111111111111111,
             "#46039f"
            ],
            [
             0.2222222222222222,
             "#7201a8"
            ],
            [
             0.3333333333333333,
             "#9c179e"
            ],
            [
             0.4444444444444444,
             "#bd3786"
            ],
            [
             0.5555555555555556,
             "#d8576b"
            ],
            [
             0.6666666666666666,
             "#ed7953"
            ],
            [
             0.7777777777777778,
             "#fb9f3a"
            ],
            [
             0.8888888888888888,
             "#fdca26"
            ],
            [
             1,
             "#f0f921"
            ]
           ]
          },
          "colorway": [
           "#636efa",
           "#EF553B",
           "#00cc96",
           "#ab63fa",
           "#FFA15A",
           "#19d3f3",
           "#FF6692",
           "#B6E880",
           "#FF97FF",
           "#FECB52"
          ],
          "font": {
           "color": "#2a3f5f"
          },
          "geo": {
           "bgcolor": "white",
           "lakecolor": "white",
           "landcolor": "#E5ECF6",
           "showlakes": true,
           "showland": true,
           "subunitcolor": "white"
          },
          "hoverlabel": {
           "align": "left"
          },
          "hovermode": "closest",
          "mapbox": {
           "style": "light"
          },
          "paper_bgcolor": "white",
          "plot_bgcolor": "#E5ECF6",
          "polar": {
           "angularaxis": {
            "gridcolor": "white",
            "linecolor": "white",
            "ticks": ""
           },
           "bgcolor": "#E5ECF6",
           "radialaxis": {
            "gridcolor": "white",
            "linecolor": "white",
            "ticks": ""
           }
          },
          "scene": {
           "xaxis": {
            "backgroundcolor": "#E5ECF6",
            "gridcolor": "white",
            "gridwidth": 2,
            "linecolor": "white",
            "showbackground": true,
            "ticks": "",
            "zerolinecolor": "white"
           },
           "yaxis": {
            "backgroundcolor": "#E5ECF6",
            "gridcolor": "white",
            "gridwidth": 2,
            "linecolor": "white",
            "showbackground": true,
            "ticks": "",
            "zerolinecolor": "white"
           },
           "zaxis": {
            "backgroundcolor": "#E5ECF6",
            "gridcolor": "white",
            "gridwidth": 2,
            "linecolor": "white",
            "showbackground": true,
            "ticks": "",
            "zerolinecolor": "white"
           }
          },
          "shapedefaults": {
           "line": {
            "color": "#2a3f5f"
           }
          },
          "ternary": {
           "aaxis": {
            "gridcolor": "white",
            "linecolor": "white",
            "ticks": ""
           },
           "baxis": {
            "gridcolor": "white",
            "linecolor": "white",
            "ticks": ""
           },
           "bgcolor": "#E5ECF6",
           "caxis": {
            "gridcolor": "white",
            "linecolor": "white",
            "ticks": ""
           }
          },
          "title": {
           "x": 0.05
          },
          "xaxis": {
           "automargin": true,
           "gridcolor": "white",
           "linecolor": "white",
           "ticks": "",
           "title": {
            "standoff": 15
           },
           "zerolinecolor": "white",
           "zerolinewidth": 2
          },
          "yaxis": {
           "automargin": true,
           "gridcolor": "white",
           "linecolor": "white",
           "ticks": "",
           "title": {
            "standoff": 15
           },
           "zerolinecolor": "white",
           "zerolinewidth": 2
          }
         }
        },
        "title": {
         "text": "Top 3 Popular Themes in Early Years",
         "x": 0.5,
         "xanchor": "center"
        },
        "width": 700,
        "xaxis": {
         "title": {
          "text": "Release Year"
         }
        },
        "yaxis": {
         "title": {
          "text": "Number of Movies"
         }
        }
       }
      }
     },
     "metadata": {},
     "output_type": "display_data"
    },
    {
     "data": {
      "application/vnd.plotly.v1+json": {
       "config": {
        "plotlyServerURL": "https://plot.ly"
       },
       "data": [
        {
         "hovertemplate": "<b>Genres:</b> drama, family drama, melodrama, crime drama, political drama, ...<br><b>Year:</b> %{x}<br><b>Number of Movies:</b> %{y}<br>",
         "line": {
          "color": "#4daf4a"
         },
         "mode": "lines",
         "name": "Drama/Mystery",
         "type": "scatter",
         "x": [
          1900,
          1901,
          1902,
          1903,
          1905,
          1906,
          1907,
          1908,
          1909,
          1910,
          1911,
          1912,
          1913,
          1914,
          1915,
          1916,
          1917,
          1918,
          1919,
          1920,
          1921,
          1922,
          1923,
          1924,
          1925,
          1926,
          1927,
          1928,
          1929,
          1930,
          1931,
          1932,
          1933,
          1934,
          1935,
          1936,
          1937,
          1938,
          1939,
          1940,
          1941,
          1942,
          1943,
          1944,
          1945,
          1946,
          1947,
          1948,
          1949,
          1950,
          1951,
          1952,
          1953,
          1954,
          1955,
          1956,
          1957,
          1958,
          1959,
          1960,
          1961,
          1962,
          1963,
          1964,
          1965,
          1966,
          1967,
          1968,
          1969,
          1970,
          1971,
          1972,
          1973,
          1974,
          1975,
          1976,
          1977,
          1978,
          1979,
          1980,
          1981,
          1982,
          1983,
          1984,
          1985,
          1986,
          1987,
          1988,
          1989,
          1990,
          1991,
          1992,
          1993,
          1994,
          1995,
          1996,
          1997,
          1998,
          1999,
          2000,
          2001,
          2002,
          2003,
          2004,
          2005,
          2006,
          2007,
          2008,
          2009,
          2010,
          2011,
          2012,
          2013,
          2014,
          2015,
          2016
         ],
         "y": [
          0,
          1,
          0,
          0,
          0,
          1,
          0,
          7,
          21,
          20,
          51,
          61,
          94,
          116,
          138,
          103,
          63,
          53,
          53,
          53,
          50,
          58,
          57,
          71,
          73,
          55,
          71,
          80,
          99,
          69,
          127,
          152,
          127,
          159,
          120,
          122,
          117,
          112,
          144,
          137,
          118,
          128,
          88,
          103,
          111,
          109,
          108,
          114,
          115,
          97,
          100,
          102,
          110,
          80,
          96,
          114,
          118,
          92,
          87,
          83,
          79,
          88,
          69,
          60,
          72,
          67,
          78,
          91,
          106,
          110,
          112,
          114,
          126,
          118,
          101,
          116,
          97,
          104,
          101,
          110,
          117,
          115,
          114,
          140,
          133,
          139,
          155,
          168,
          171,
          176,
          181,
          181,
          200,
          223,
          231,
          244,
          265,
          264,
          296,
          280,
          308,
          306,
          319,
          335,
          366,
          474,
          494,
          402,
          415,
          324,
          260,
          165,
          32,
          2,
          0,
          0
         ]
        },
        {
         "hovertemplate": "<b>Genres:</b> action, thriller, adventure, fantasy adventure, action comedy, ...<br><b>Year:</b> %{x}<br><b>Number of Movies:</b> %{y}<br>",
         "line": {
          "color": "#e41a1c"
         },
         "mode": "lines",
         "name": "Action/Adventure/Thriller",
         "type": "scatter",
         "x": [
          1900,
          1901,
          1902,
          1903,
          1905,
          1906,
          1907,
          1908,
          1909,
          1910,
          1911,
          1912,
          1913,
          1914,
          1915,
          1916,
          1917,
          1918,
          1919,
          1920,
          1921,
          1922,
          1923,
          1924,
          1925,
          1926,
          1927,
          1928,
          1929,
          1930,
          1931,
          1932,
          1933,
          1934,
          1935,
          1936,
          1937,
          1938,
          1939,
          1940,
          1941,
          1942,
          1943,
          1944,
          1945,
          1946,
          1947,
          1948,
          1949,
          1950,
          1951,
          1952,
          1953,
          1954,
          1955,
          1956,
          1957,
          1958,
          1959,
          1960,
          1961,
          1962,
          1963,
          1964,
          1965,
          1966,
          1967,
          1968,
          1969,
          1970,
          1971,
          1972,
          1973,
          1974,
          1975,
          1976,
          1977,
          1978,
          1979,
          1980,
          1981,
          1982,
          1983,
          1984,
          1985,
          1986,
          1987,
          1988,
          1989,
          1990,
          1991,
          1992,
          1993,
          1994,
          1995,
          1996,
          1997,
          1998,
          1999,
          2000,
          2001,
          2002,
          2003,
          2004,
          2005,
          2006,
          2007,
          2008,
          2009,
          2010,
          2011,
          2012,
          2013,
          2014,
          2015,
          2016
         ],
         "y": [
          0,
          0,
          0,
          2,
          0,
          0,
          0,
          1,
          3,
          5,
          11,
          14,
          28,
          29,
          29,
          20,
          38,
          30,
          48,
          71,
          41,
          29,
          38,
          28,
          35,
          36,
          38,
          31,
          29,
          50,
          48,
          66,
          65,
          74,
          92,
          105,
          101,
          84,
          108,
          117,
          103,
          138,
          121,
          116,
          119,
          79,
          80,
          92,
          94,
          105,
          110,
          104,
          111,
          101,
          94,
          101,
          79,
          87,
          77,
          47,
          53,
          56,
          48,
          54,
          68,
          75,
          72,
          74,
          73,
          71,
          85,
          89,
          96,
          112,
          83,
          88,
          73,
          81,
          71,
          92,
          79,
          86,
          77,
          97,
          135,
          133,
          158,
          141,
          148,
          183,
          149,
          145,
          177,
          193,
          184,
          187,
          196,
          218,
          212,
          212,
          211,
          236,
          231,
          250,
          275,
          316,
          336,
          345,
          319,
          267,
          210,
          144,
          60,
          1,
          2,
          2
         ]
        },
        {
         "hovertemplate": "<b>Genres:</b> comedy, romantic comedy, black comedy, slapstick, comedy-drama, ...<br><b>Year:</b> %{x}<br><b>Number of Movies:</b> %{y}<br>",
         "line": {
          "color": "#377eb8"
         },
         "mode": "lines",
         "name": "Comedy",
         "type": "scatter",
         "x": [
          1900,
          1901,
          1902,
          1903,
          1905,
          1906,
          1907,
          1908,
          1909,
          1910,
          1911,
          1912,
          1913,
          1914,
          1915,
          1916,
          1917,
          1918,
          1919,
          1920,
          1921,
          1922,
          1923,
          1924,
          1925,
          1926,
          1927,
          1928,
          1929,
          1930,
          1931,
          1932,
          1933,
          1934,
          1935,
          1936,
          1937,
          1938,
          1939,
          1940,
          1941,
          1942,
          1943,
          1944,
          1945,
          1946,
          1947,
          1948,
          1949,
          1950,
          1951,
          1952,
          1953,
          1954,
          1955,
          1956,
          1957,
          1958,
          1959,
          1960,
          1961,
          1962,
          1963,
          1964,
          1965,
          1966,
          1967,
          1968,
          1969,
          1970,
          1971,
          1972,
          1973,
          1974,
          1975,
          1976,
          1977,
          1978,
          1979,
          1980,
          1981,
          1982,
          1983,
          1984,
          1985,
          1986,
          1987,
          1988,
          1989,
          1990,
          1991,
          1992,
          1993,
          1994,
          1995,
          1996,
          1997,
          1998,
          1999,
          2000,
          2001,
          2002,
          2003,
          2004,
          2005,
          2006,
          2007,
          2008,
          2009,
          2010,
          2011,
          2012,
          2013,
          2014,
          2015,
          2016
         ],
         "y": [
          2,
          4,
          0,
          0,
          0,
          1,
          0,
          3,
          7,
          7,
          8,
          14,
          62,
          136,
          123,
          131,
          71,
          85,
          77,
          33,
          35,
          32,
          49,
          43,
          71,
          50,
          74,
          59,
          75,
          80,
          95,
          90,
          109,
          117,
          117,
          115,
          122,
          105,
          88,
          109,
          121,
          111,
          86,
          84,
          74,
          80,
          70,
          82,
          73,
          79,
          71,
          81,
          81,
          54,
          61,
          57,
          70,
          42,
          40,
          38,
          44,
          53,
          53,
          55,
          51,
          57,
          65,
          68,
          52,
          55,
          59,
          41,
          37,
          56,
          47,
          61,
          46,
          63,
          64,
          90,
          66,
          76,
          70,
          101,
          99,
          111,
          140,
          150,
          147,
          117,
          132,
          120,
          120,
          151,
          137,
          159,
          182,
          188,
          206,
          206,
          203,
          230,
          236,
          218,
          263,
          316,
          285,
          285,
          270,
          203,
          176,
          114,
          19,
          1,
          0,
          0
         ]
        }
       ],
       "layout": {
        "height": 400,
        "legend": {
         "title": {
          "text": "Themes"
         }
        },
        "template": {
         "data": {
          "bar": [
           {
            "error_x": {
             "color": "#2a3f5f"
            },
            "error_y": {
             "color": "#2a3f5f"
            },
            "marker": {
             "line": {
              "color": "#E5ECF6",
              "width": 0.5
             },
             "pattern": {
              "fillmode": "overlay",
              "size": 10,
              "solidity": 0.2
             }
            },
            "type": "bar"
           }
          ],
          "barpolar": [
           {
            "marker": {
             "line": {
              "color": "#E5ECF6",
              "width": 0.5
             },
             "pattern": {
              "fillmode": "overlay",
              "size": 10,
              "solidity": 0.2
             }
            },
            "type": "barpolar"
           }
          ],
          "carpet": [
           {
            "aaxis": {
             "endlinecolor": "#2a3f5f",
             "gridcolor": "white",
             "linecolor": "white",
             "minorgridcolor": "white",
             "startlinecolor": "#2a3f5f"
            },
            "baxis": {
             "endlinecolor": "#2a3f5f",
             "gridcolor": "white",
             "linecolor": "white",
             "minorgridcolor": "white",
             "startlinecolor": "#2a3f5f"
            },
            "type": "carpet"
           }
          ],
          "choropleth": [
           {
            "colorbar": {
             "outlinewidth": 0,
             "ticks": ""
            },
            "type": "choropleth"
           }
          ],
          "contour": [
           {
            "colorbar": {
             "outlinewidth": 0,
             "ticks": ""
            },
            "colorscale": [
             [
              0,
              "#0d0887"
             ],
             [
              0.1111111111111111,
              "#46039f"
             ],
             [
              0.2222222222222222,
              "#7201a8"
             ],
             [
              0.3333333333333333,
              "#9c179e"
             ],
             [
              0.4444444444444444,
              "#bd3786"
             ],
             [
              0.5555555555555556,
              "#d8576b"
             ],
             [
              0.6666666666666666,
              "#ed7953"
             ],
             [
              0.7777777777777778,
              "#fb9f3a"
             ],
             [
              0.8888888888888888,
              "#fdca26"
             ],
             [
              1,
              "#f0f921"
             ]
            ],
            "type": "contour"
           }
          ],
          "contourcarpet": [
           {
            "colorbar": {
             "outlinewidth": 0,
             "ticks": ""
            },
            "type": "contourcarpet"
           }
          ],
          "heatmap": [
           {
            "colorbar": {
             "outlinewidth": 0,
             "ticks": ""
            },
            "colorscale": [
             [
              0,
              "#0d0887"
             ],
             [
              0.1111111111111111,
              "#46039f"
             ],
             [
              0.2222222222222222,
              "#7201a8"
             ],
             [
              0.3333333333333333,
              "#9c179e"
             ],
             [
              0.4444444444444444,
              "#bd3786"
             ],
             [
              0.5555555555555556,
              "#d8576b"
             ],
             [
              0.6666666666666666,
              "#ed7953"
             ],
             [
              0.7777777777777778,
              "#fb9f3a"
             ],
             [
              0.8888888888888888,
              "#fdca26"
             ],
             [
              1,
              "#f0f921"
             ]
            ],
            "type": "heatmap"
           }
          ],
          "heatmapgl": [
           {
            "colorbar": {
             "outlinewidth": 0,
             "ticks": ""
            },
            "colorscale": [
             [
              0,
              "#0d0887"
             ],
             [
              0.1111111111111111,
              "#46039f"
             ],
             [
              0.2222222222222222,
              "#7201a8"
             ],
             [
              0.3333333333333333,
              "#9c179e"
             ],
             [
              0.4444444444444444,
              "#bd3786"
             ],
             [
              0.5555555555555556,
              "#d8576b"
             ],
             [
              0.6666666666666666,
              "#ed7953"
             ],
             [
              0.7777777777777778,
              "#fb9f3a"
             ],
             [
              0.8888888888888888,
              "#fdca26"
             ],
             [
              1,
              "#f0f921"
             ]
            ],
            "type": "heatmapgl"
           }
          ],
          "histogram": [
           {
            "marker": {
             "pattern": {
              "fillmode": "overlay",
              "size": 10,
              "solidity": 0.2
             }
            },
            "type": "histogram"
           }
          ],
          "histogram2d": [
           {
            "colorbar": {
             "outlinewidth": 0,
             "ticks": ""
            },
            "colorscale": [
             [
              0,
              "#0d0887"
             ],
             [
              0.1111111111111111,
              "#46039f"
             ],
             [
              0.2222222222222222,
              "#7201a8"
             ],
             [
              0.3333333333333333,
              "#9c179e"
             ],
             [
              0.4444444444444444,
              "#bd3786"
             ],
             [
              0.5555555555555556,
              "#d8576b"
             ],
             [
              0.6666666666666666,
              "#ed7953"
             ],
             [
              0.7777777777777778,
              "#fb9f3a"
             ],
             [
              0.8888888888888888,
              "#fdca26"
             ],
             [
              1,
              "#f0f921"
             ]
            ],
            "type": "histogram2d"
           }
          ],
          "histogram2dcontour": [
           {
            "colorbar": {
             "outlinewidth": 0,
             "ticks": ""
            },
            "colorscale": [
             [
              0,
              "#0d0887"
             ],
             [
              0.1111111111111111,
              "#46039f"
             ],
             [
              0.2222222222222222,
              "#7201a8"
             ],
             [
              0.3333333333333333,
              "#9c179e"
             ],
             [
              0.4444444444444444,
              "#bd3786"
             ],
             [
              0.5555555555555556,
              "#d8576b"
             ],
             [
              0.6666666666666666,
              "#ed7953"
             ],
             [
              0.7777777777777778,
              "#fb9f3a"
             ],
             [
              0.8888888888888888,
              "#fdca26"
             ],
             [
              1,
              "#f0f921"
             ]
            ],
            "type": "histogram2dcontour"
           }
          ],
          "mesh3d": [
           {
            "colorbar": {
             "outlinewidth": 0,
             "ticks": ""
            },
            "type": "mesh3d"
           }
          ],
          "parcoords": [
           {
            "line": {
             "colorbar": {
              "outlinewidth": 0,
              "ticks": ""
             }
            },
            "type": "parcoords"
           }
          ],
          "pie": [
           {
            "automargin": true,
            "type": "pie"
           }
          ],
          "scatter": [
           {
            "fillpattern": {
             "fillmode": "overlay",
             "size": 10,
             "solidity": 0.2
            },
            "type": "scatter"
           }
          ],
          "scatter3d": [
           {
            "line": {
             "colorbar": {
              "outlinewidth": 0,
              "ticks": ""
             }
            },
            "marker": {
             "colorbar": {
              "outlinewidth": 0,
              "ticks": ""
             }
            },
            "type": "scatter3d"
           }
          ],
          "scattercarpet": [
           {
            "marker": {
             "colorbar": {
              "outlinewidth": 0,
              "ticks": ""
             }
            },
            "type": "scattercarpet"
           }
          ],
          "scattergeo": [
           {
            "marker": {
             "colorbar": {
              "outlinewidth": 0,
              "ticks": ""
             }
            },
            "type": "scattergeo"
           }
          ],
          "scattergl": [
           {
            "marker": {
             "colorbar": {
              "outlinewidth": 0,
              "ticks": ""
             }
            },
            "type": "scattergl"
           }
          ],
          "scattermapbox": [
           {
            "marker": {
             "colorbar": {
              "outlinewidth": 0,
              "ticks": ""
             }
            },
            "type": "scattermapbox"
           }
          ],
          "scatterpolar": [
           {
            "marker": {
             "colorbar": {
              "outlinewidth": 0,
              "ticks": ""
             }
            },
            "type": "scatterpolar"
           }
          ],
          "scatterpolargl": [
           {
            "marker": {
             "colorbar": {
              "outlinewidth": 0,
              "ticks": ""
             }
            },
            "type": "scatterpolargl"
           }
          ],
          "scatterternary": [
           {
            "marker": {
             "colorbar": {
              "outlinewidth": 0,
              "ticks": ""
             }
            },
            "type": "scatterternary"
           }
          ],
          "surface": [
           {
            "colorbar": {
             "outlinewidth": 0,
             "ticks": ""
            },
            "colorscale": [
             [
              0,
              "#0d0887"
             ],
             [
              0.1111111111111111,
              "#46039f"
             ],
             [
              0.2222222222222222,
              "#7201a8"
             ],
             [
              0.3333333333333333,
              "#9c179e"
             ],
             [
              0.4444444444444444,
              "#bd3786"
             ],
             [
              0.5555555555555556,
              "#d8576b"
             ],
             [
              0.6666666666666666,
              "#ed7953"
             ],
             [
              0.7777777777777778,
              "#fb9f3a"
             ],
             [
              0.8888888888888888,
              "#fdca26"
             ],
             [
              1,
              "#f0f921"
             ]
            ],
            "type": "surface"
           }
          ],
          "table": [
           {
            "cells": {
             "fill": {
              "color": "#EBF0F8"
             },
             "line": {
              "color": "white"
             }
            },
            "header": {
             "fill": {
              "color": "#C8D4E3"
             },
             "line": {
              "color": "white"
             }
            },
            "type": "table"
           }
          ]
         },
         "layout": {
          "annotationdefaults": {
           "arrowcolor": "#2a3f5f",
           "arrowhead": 0,
           "arrowwidth": 1
          },
          "autotypenumbers": "strict",
          "coloraxis": {
           "colorbar": {
            "outlinewidth": 0,
            "ticks": ""
           }
          },
          "colorscale": {
           "diverging": [
            [
             0,
             "#8e0152"
            ],
            [
             0.1,
             "#c51b7d"
            ],
            [
             0.2,
             "#de77ae"
            ],
            [
             0.3,
             "#f1b6da"
            ],
            [
             0.4,
             "#fde0ef"
            ],
            [
             0.5,
             "#f7f7f7"
            ],
            [
             0.6,
             "#e6f5d0"
            ],
            [
             0.7,
             "#b8e186"
            ],
            [
             0.8,
             "#7fbc41"
            ],
            [
             0.9,
             "#4d9221"
            ],
            [
             1,
             "#276419"
            ]
           ],
           "sequential": [
            [
             0,
             "#0d0887"
            ],
            [
             0.1111111111111111,
             "#46039f"
            ],
            [
             0.2222222222222222,
             "#7201a8"
            ],
            [
             0.3333333333333333,
             "#9c179e"
            ],
            [
             0.4444444444444444,
             "#bd3786"
            ],
            [
             0.5555555555555556,
             "#d8576b"
            ],
            [
             0.6666666666666666,
             "#ed7953"
            ],
            [
             0.7777777777777778,
             "#fb9f3a"
            ],
            [
             0.8888888888888888,
             "#fdca26"
            ],
            [
             1,
             "#f0f921"
            ]
           ],
           "sequentialminus": [
            [
             0,
             "#0d0887"
            ],
            [
             0.1111111111111111,
             "#46039f"
            ],
            [
             0.2222222222222222,
             "#7201a8"
            ],
            [
             0.3333333333333333,
             "#9c179e"
            ],
            [
             0.4444444444444444,
             "#bd3786"
            ],
            [
             0.5555555555555556,
             "#d8576b"
            ],
            [
             0.6666666666666666,
             "#ed7953"
            ],
            [
             0.7777777777777778,
             "#fb9f3a"
            ],
            [
             0.8888888888888888,
             "#fdca26"
            ],
            [
             1,
             "#f0f921"
            ]
           ]
          },
          "colorway": [
           "#636efa",
           "#EF553B",
           "#00cc96",
           "#ab63fa",
           "#FFA15A",
           "#19d3f3",
           "#FF6692",
           "#B6E880",
           "#FF97FF",
           "#FECB52"
          ],
          "font": {
           "color": "#2a3f5f"
          },
          "geo": {
           "bgcolor": "white",
           "lakecolor": "white",
           "landcolor": "#E5ECF6",
           "showlakes": true,
           "showland": true,
           "subunitcolor": "white"
          },
          "hoverlabel": {
           "align": "left"
          },
          "hovermode": "closest",
          "mapbox": {
           "style": "light"
          },
          "paper_bgcolor": "white",
          "plot_bgcolor": "#E5ECF6",
          "polar": {
           "angularaxis": {
            "gridcolor": "white",
            "linecolor": "white",
            "ticks": ""
           },
           "bgcolor": "#E5ECF6",
           "radialaxis": {
            "gridcolor": "white",
            "linecolor": "white",
            "ticks": ""
           }
          },
          "scene": {
           "xaxis": {
            "backgroundcolor": "#E5ECF6",
            "gridcolor": "white",
            "gridwidth": 2,
            "linecolor": "white",
            "showbackground": true,
            "ticks": "",
            "zerolinecolor": "white"
           },
           "yaxis": {
            "backgroundcolor": "#E5ECF6",
            "gridcolor": "white",
            "gridwidth": 2,
            "linecolor": "white",
            "showbackground": true,
            "ticks": "",
            "zerolinecolor": "white"
           },
           "zaxis": {
            "backgroundcolor": "#E5ECF6",
            "gridcolor": "white",
            "gridwidth": 2,
            "linecolor": "white",
            "showbackground": true,
            "ticks": "",
            "zerolinecolor": "white"
           }
          },
          "shapedefaults": {
           "line": {
            "color": "#2a3f5f"
           }
          },
          "ternary": {
           "aaxis": {
            "gridcolor": "white",
            "linecolor": "white",
            "ticks": ""
           },
           "baxis": {
            "gridcolor": "white",
            "linecolor": "white",
            "ticks": ""
           },
           "bgcolor": "#E5ECF6",
           "caxis": {
            "gridcolor": "white",
            "linecolor": "white",
            "ticks": ""
           }
          },
          "title": {
           "x": 0.05
          },
          "xaxis": {
           "automargin": true,
           "gridcolor": "white",
           "linecolor": "white",
           "ticks": "",
           "title": {
            "standoff": 15
           },
           "zerolinecolor": "white",
           "zerolinewidth": 2
          },
          "yaxis": {
           "automargin": true,
           "gridcolor": "white",
           "linecolor": "white",
           "ticks": "",
           "title": {
            "standoff": 15
           },
           "zerolinecolor": "white",
           "zerolinewidth": 2
          }
         }
        },
        "title": {
         "text": "Top 3 Popular Themes in Recent Years",
         "x": 0.5,
         "xanchor": "center"
        },
        "width": 700,
        "xaxis": {
         "title": {
          "text": "Release Year"
         }
        },
        "yaxis": {
         "title": {
          "text": "Number of Movies"
         }
        }
       }
      }
     },
     "metadata": {},
     "output_type": "display_data"
    }
   ],
   "source": [
    "# First 3 most popular themes for the earliest years\n",
    "start_years = theme_years_counts_pivot.iloc[:10] # based on the first 10 years\n",
    "start_popular_themes = start_years.sum().nlargest(3).index\n",
    "\n",
    "# First 3 most popular themes for the most recent years\n",
    "end_years = theme_years_counts_pivot[theme_years_counts_pivot.columns.difference(['Other'])]\n",
    "end_years = end_years.iloc[-10:] # based on the last 10 years\n",
    "end_popular_themes = end_years.sum().nlargest(3).index\n",
    "\n",
    "# Function to create a plot for selected themes\n",
    "def create_theme_plot(themes, title):\n",
    "    fig = go.Figure()\n",
    "\n",
    "    for theme in themes:\n",
    "        if theme in theme_years_counts_pivot.columns:\n",
    "            # Get genres associated with the theme\n",
    "            associated_genres = theme_mapping.get(theme, [])\n",
    "            if len(associated_genres) > 5:\n",
    "                genres_text = ', '.join(associated_genres[:5]) + ', ...'  # Truncate and add ellipsis\n",
    "            else:\n",
    "                genres_text = ', '.join(associated_genres)\n",
    "            \n",
    "            fig.add_trace(go.Scatter(\n",
    "                x=theme_years_counts_pivot.index,\n",
    "                y=theme_years_counts_pivot[theme],\n",
    "                mode='lines',\n",
    "                name=theme,\n",
    "                line=dict(color=theme_colors.get(theme, 'gray')),\n",
    "                hovertemplate=f'<b>Genres:</b> {genres_text}<br>'\n",
    "                              f'<b>Year:</b> %{{x}}<br><b>Number of Movies:</b> %{{y}}<br>'\n",
    "            ))\n",
    "\n",
    "    fig.update_layout(\n",
    "        title={\n",
    "            'text': title,\n",
    "            'x': 0.5,\n",
    "            'xanchor': 'center'\n",
    "        },\n",
    "        xaxis_title='Release Year',\n",
    "        yaxis_title='Number of Movies',\n",
    "        legend_title=\"Themes\",\n",
    "        height=400,\n",
    "        width=700,\n",
    "    )\n",
    "\n",
    "    return fig\n",
    "\n",
    "# Create plots\n",
    "fig_start = create_theme_plot(start_popular_themes, \"Top 3 Popular Themes in Early Years\")\n",
    "fig_end = create_theme_plot(end_popular_themes, \"Top 3 Popular Themes in Recent Years\")\n",
    "\n",
    "# Show the plots\n",
    "fig_start.show()\n",
    "fig_end.show()\n",
    "fig_start.write_html('/Users/lilly-flore/Desktop/line_start_3.html')\n",
    "fig_end.write_html('/Users/lilly-flore/Desktop/line_end_3.html')"
   ]
  },
  {
   "cell_type": "markdown",
   "metadata": {},
   "source": [
    "#### Themes according to Periods"
   ]
  },
  {
   "cell_type": "markdown",
   "metadata": {},
   "source": [
    "   - The `movies_df_copy_exploded` DataFrame is created by exploding the `'Periods'` column. This step is necessary since a single movie can belong to multiple periods, and we want to analyze each period separately.\n",
    "\n",
    "   - We pivot the `themes_counts_periods` DataFrame using the `pivot()` method to create a table where each row represents a period, and each column represents a theme. The values in the table correspond to the count of movies for each theme and period combination.\n",
    "\n",
    "   - The periods are sorted according to a predefined order stored in `period_order_map_dict`.\n",
    "\n",
    "   - The pivot table is then normalized row-wise. For each period, the counts are divided by the sum of the counts in that row. The result is a table of percentages, where each value represents the proportion of movies for a particular theme in a given period."
   ]
  },
  {
   "cell_type": "code",
   "execution_count": 213,
   "metadata": {},
   "outputs": [
    {
     "data": {
      "text/html": [
       "<div>\n",
       "<style scoped>\n",
       "    .dataframe tbody tr th:only-of-type {\n",
       "        vertical-align: middle;\n",
       "    }\n",
       "\n",
       "    .dataframe tbody tr th {\n",
       "        vertical-align: top;\n",
       "    }\n",
       "\n",
       "    .dataframe thead th {\n",
       "        text-align: right;\n",
       "    }\n",
       "</style>\n",
       "<table border=\"1\" class=\"dataframe\">\n",
       "  <thead>\n",
       "    <tr style=\"text-align: right;\">\n",
       "      <th>Themes</th>\n",
       "      <th>Action/Adventure/Thriller</th>\n",
       "      <th>Animation/Family</th>\n",
       "      <th>Black-and-White</th>\n",
       "      <th>Comedy</th>\n",
       "      <th>Drama/Mystery</th>\n",
       "      <th>Historical/Biographical/Documentary</th>\n",
       "      <th>Horror/Crime</th>\n",
       "      <th>Independent/Experimental/LGBT</th>\n",
       "      <th>Musical</th>\n",
       "      <th>Other</th>\n",
       "      <th>Romance</th>\n",
       "      <th>Science Fiction/Fantasy</th>\n",
       "      <th>Short/Silent</th>\n",
       "    </tr>\n",
       "    <tr>\n",
       "      <th>Periods</th>\n",
       "      <th></th>\n",
       "      <th></th>\n",
       "      <th></th>\n",
       "      <th></th>\n",
       "      <th></th>\n",
       "      <th></th>\n",
       "      <th></th>\n",
       "      <th></th>\n",
       "      <th></th>\n",
       "      <th></th>\n",
       "      <th></th>\n",
       "      <th></th>\n",
       "      <th></th>\n",
       "    </tr>\n",
       "  </thead>\n",
       "  <tbody>\n",
       "    <tr>\n",
       "      <th>The Belle Époque (1900-1914)</th>\n",
       "      <td>0.038050</td>\n",
       "      <td>0.002378</td>\n",
       "      <td>0.230678</td>\n",
       "      <td>0.064209</td>\n",
       "      <td>0.152200</td>\n",
       "      <td>0.008323</td>\n",
       "      <td>0.005945</td>\n",
       "      <td>0.184899</td>\n",
       "      <td>0.000595</td>\n",
       "      <td>0.006540</td>\n",
       "      <td>0.014863</td>\n",
       "      <td>0.004756</td>\n",
       "      <td>0.286564</td>\n",
       "    </tr>\n",
       "    <tr>\n",
       "      <th>World War I (1914-1918)</th>\n",
       "      <td>0.038002</td>\n",
       "      <td>0.000784</td>\n",
       "      <td>0.239569</td>\n",
       "      <td>0.122037</td>\n",
       "      <td>0.103036</td>\n",
       "      <td>0.003134</td>\n",
       "      <td>0.005289</td>\n",
       "      <td>0.189814</td>\n",
       "      <td>0.000000</td>\n",
       "      <td>0.005681</td>\n",
       "      <td>0.011166</td>\n",
       "      <td>0.002547</td>\n",
       "      <td>0.278942</td>\n",
       "    </tr>\n",
       "    <tr>\n",
       "      <th>The Roaring Twenties (1920-1929)</th>\n",
       "      <td>0.072216</td>\n",
       "      <td>0.005203</td>\n",
       "      <td>0.203746</td>\n",
       "      <td>0.092820</td>\n",
       "      <td>0.118210</td>\n",
       "      <td>0.006243</td>\n",
       "      <td>0.016233</td>\n",
       "      <td>0.133611</td>\n",
       "      <td>0.001457</td>\n",
       "      <td>0.028512</td>\n",
       "      <td>0.038293</td>\n",
       "      <td>0.004579</td>\n",
       "      <td>0.278876</td>\n",
       "    </tr>\n",
       "    <tr>\n",
       "      <th>The Great Depression (1929-1939)</th>\n",
       "      <td>0.101693</td>\n",
       "      <td>0.030136</td>\n",
       "      <td>0.190946</td>\n",
       "      <td>0.133111</td>\n",
       "      <td>0.160169</td>\n",
       "      <td>0.013209</td>\n",
       "      <td>0.057707</td>\n",
       "      <td>0.003206</td>\n",
       "      <td>0.046550</td>\n",
       "      <td>0.100026</td>\n",
       "      <td>0.078738</td>\n",
       "      <td>0.008207</td>\n",
       "      <td>0.076302</td>\n",
       "    </tr>\n",
       "    <tr>\n",
       "      <th>World War II (1939-1945)</th>\n",
       "      <td>0.144234</td>\n",
       "      <td>0.026555</td>\n",
       "      <td>0.153874</td>\n",
       "      <td>0.120953</td>\n",
       "      <td>0.144416</td>\n",
       "      <td>0.032739</td>\n",
       "      <td>0.065478</td>\n",
       "      <td>0.001273</td>\n",
       "      <td>0.043652</td>\n",
       "      <td>0.126228</td>\n",
       "      <td>0.059476</td>\n",
       "      <td>0.014187</td>\n",
       "      <td>0.066933</td>\n",
       "    </tr>\n",
       "  </tbody>\n",
       "</table>\n",
       "</div>"
      ],
      "text/plain": [
       "Themes                            Action/Adventure/Thriller  Animation/Family  \\\n",
       "Periods                                                                         \n",
       "The Belle Époque (1900-1914)                       0.038050          0.002378   \n",
       "World War I (1914-1918)                            0.038002          0.000784   \n",
       "The Roaring Twenties (1920-1929)                   0.072216          0.005203   \n",
       "The Great Depression (1929-1939)                   0.101693          0.030136   \n",
       "World War II (1939-1945)                           0.144234          0.026555   \n",
       "\n",
       "Themes                            Black-and-White    Comedy  Drama/Mystery  \\\n",
       "Periods                                                                      \n",
       "The Belle Époque (1900-1914)             0.230678  0.064209       0.152200   \n",
       "World War I (1914-1918)                  0.239569  0.122037       0.103036   \n",
       "The Roaring Twenties (1920-1929)         0.203746  0.092820       0.118210   \n",
       "The Great Depression (1929-1939)         0.190946  0.133111       0.160169   \n",
       "World War II (1939-1945)                 0.153874  0.120953       0.144416   \n",
       "\n",
       "Themes                            Historical/Biographical/Documentary  \\\n",
       "Periods                                                                 \n",
       "The Belle Époque (1900-1914)                                 0.008323   \n",
       "World War I (1914-1918)                                      0.003134   \n",
       "The Roaring Twenties (1920-1929)                             0.006243   \n",
       "The Great Depression (1929-1939)                             0.013209   \n",
       "World War II (1939-1945)                                     0.032739   \n",
       "\n",
       "Themes                            Horror/Crime  Independent/Experimental/LGBT  \\\n",
       "Periods                                                                         \n",
       "The Belle Époque (1900-1914)          0.005945                       0.184899   \n",
       "World War I (1914-1918)               0.005289                       0.189814   \n",
       "The Roaring Twenties (1920-1929)      0.016233                       0.133611   \n",
       "The Great Depression (1929-1939)      0.057707                       0.003206   \n",
       "World War II (1939-1945)              0.065478                       0.001273   \n",
       "\n",
       "Themes                             Musical     Other   Romance  \\\n",
       "Periods                                                          \n",
       "The Belle Époque (1900-1914)      0.000595  0.006540  0.014863   \n",
       "World War I (1914-1918)           0.000000  0.005681  0.011166   \n",
       "The Roaring Twenties (1920-1929)  0.001457  0.028512  0.038293   \n",
       "The Great Depression (1929-1939)  0.046550  0.100026  0.078738   \n",
       "World War II (1939-1945)          0.043652  0.126228  0.059476   \n",
       "\n",
       "Themes                            Science Fiction/Fantasy  Short/Silent  \n",
       "Periods                                                                  \n",
       "The Belle Époque (1900-1914)                     0.004756      0.286564  \n",
       "World War I (1914-1918)                          0.002547      0.278942  \n",
       "The Roaring Twenties (1920-1929)                 0.004579      0.278876  \n",
       "The Great Depression (1929-1939)                 0.008207      0.076302  \n",
       "World War II (1939-1945)                         0.014187      0.066933  "
      ]
     },
     "execution_count": 213,
     "metadata": {},
     "output_type": "execute_result"
    }
   ],
   "source": [
    "movies_df_copy_exploded = movies_df_copy_exploded.explode('Periods')\n",
    "\n",
    "themes_counts_periods = (\n",
    "    movies_df_copy_exploded\n",
    "    .groupby(['Themes', 'Periods'])\n",
    "    .size()\n",
    "    .reset_index(name='count')\n",
    ")\n",
    "\n",
    "# Pivot the table so that each theme has its own column\n",
    "theme_periods_counts_pivot = themes_counts_periods.pivot(index='Periods', columns='Themes', values='count')\n",
    "\n",
    "sorted_periods = sorted(period_order_map_dict.keys(), key=lambda x: period_order_map_dict[x])\n",
    "\n",
    "# Reorder the index of the pivot table based on the sorted periods\n",
    "theme_periods_counts_pivot = theme_periods_counts_pivot.loc[sorted_periods]\n",
    "theme_periods_counts_pivot = theme_periods_counts_pivot.fillna(0)\n",
    "\n",
    "# Normalize the counts row-wise to calculate percentages\n",
    "normalized_theme_periods_counts = theme_periods_counts_pivot.div(theme_periods_counts_pivot.sum(axis=1), axis=0)\n",
    "\n",
    "# Display the percentage pivot table\n",
    "normalized_theme_periods_counts.head(5)"
   ]
  },
  {
   "cell_type": "markdown",
   "metadata": {},
   "source": [
    "Display the evolution of themes over the periods"
   ]
  },
  {
   "cell_type": "code",
   "execution_count": 214,
   "metadata": {},
   "outputs": [
    {
     "data": {
      "application/vnd.plotly.v1+json": {
       "config": {
        "plotlyServerURL": "https://plot.ly"
       },
       "data": [
        {
         "hovertemplate": "Year: %{x}<br>Number of Movies: %{y}<br>",
         "line": {
          "color": "#e41a1c"
         },
         "mode": "lines",
         "name": "Action/Adventure/Thriller",
         "type": "scatter",
         "x": [
          "The Belle Époque (1900-1914)",
          "World War I (1914-1918)",
          "The Roaring Twenties (1920-1929)",
          "The Great Depression (1929-1939)",
          "World War II (1939-1945)",
          "Early Cold War (1947-1960)",
          "The Civil Rights Movement (1960-1970)",
          "Late Cold War (1971-1989)",
          "End of the Cold War (1990-1991)",
          "Post-Cold War and the New World Order (1992-2001)",
          "War on Terrorism (2001-present)"
         ],
         "y": [
          0.03804994054696789,
          0.03800195886385896,
          0.07221644120707596,
          0.10169274172864837,
          0.14423426700618408,
          0.14952181012362958,
          0.1433659839715049,
          0.1422866439875758,
          0.15320719889247808,
          0.13606945540647197,
          0.12282517053728827
         ]
        },
        {
         "hovertemplate": "Year: %{x}<br>Number of Movies: %{y}<br>",
         "line": {
          "color": "#377eb8"
         },
         "mode": "lines",
         "name": "Comedy",
         "type": "scatter",
         "x": [
          "The Belle Époque (1900-1914)",
          "World War I (1914-1918)",
          "The Roaring Twenties (1920-1929)",
          "The Great Depression (1929-1939)",
          "World War II (1939-1945)",
          "Early Cold War (1947-1960)",
          "The Civil Rights Movement (1960-1970)",
          "Late Cold War (1971-1989)",
          "End of the Cold War (1990-1991)",
          "Post-Cold War and the New World Order (1992-2001)",
          "War on Terrorism (2001-present)"
         ],
         "y": [
          0.06420927467300833,
          0.12203721841332027,
          0.09281997918834548,
          0.13311105411644011,
          0.12095307384503456,
          0.10485187777000234,
          0.12310774710596616,
          0.11270522112113593,
          0.11490539916935856,
          0.1159431728492502,
          0.10803249789223576
         ]
        },
        {
         "hovertemplate": "Year: %{x}<br>Number of Movies: %{y}<br>",
         "line": {
          "color": "#4daf4a"
         },
         "mode": "lines",
         "name": "Drama/Mystery",
         "type": "scatter",
         "x": [
          "The Belle Époque (1900-1914)",
          "World War I (1914-1918)",
          "The Roaring Twenties (1920-1929)",
          "The Great Depression (1929-1939)",
          "World War II (1939-1945)",
          "Early Cold War (1947-1960)",
          "The Civil Rights Movement (1960-1970)",
          "Late Cold War (1971-1989)",
          "End of the Cold War (1990-1991)",
          "Post-Cold War and the New World Order (1992-2001)",
          "War on Terrorism (2001-present)"
         ],
         "y": [
          0.15219976218787157,
          0.10303623898139079,
          0.118210197710718,
          0.16016927417286483,
          0.14441615132775554,
          0.16515045486354094,
          0.182546749777382,
          0.17386481289750036,
          0.1647438855560683,
          0.1723756906077348,
          0.16103318770598604
         ]
        },
        {
         "hovertemplate": "Year: %{x}<br>Number of Movies: %{y}<br>",
         "line": {
          "color": "#ff7f00"
         },
         "mode": "lines",
         "name": "Romance",
         "type": "scatter",
         "x": [
          "The Belle Époque (1900-1914)",
          "World War I (1914-1918)",
          "The Roaring Twenties (1920-1929)",
          "The Great Depression (1929-1939)",
          "World War II (1939-1945)",
          "Early Cold War (1947-1960)",
          "The Civil Rights Movement (1960-1970)",
          "Late Cold War (1971-1989)",
          "End of the Cold War (1990-1991)",
          "Post-Cold War and the New World Order (1992-2001)",
          "War on Terrorism (2001-present)"
         ],
         "y": [
          0.014863258026159334,
          0.011165523996082272,
          0.038293444328824144,
          0.07873813798409848,
          0.059476173153874136,
          0.061814788896664336,
          0.057212822796081926,
          0.04555539121431741,
          0.05260729118597139,
          0.055327545382794004,
          0.05173603127155668
         ]
        },
        {
         "hovertemplate": "Year: %{x}<br>Number of Movies: %{y}<br>",
         "line": {
          "color": "#984ea3"
         },
         "mode": "lines",
         "name": "Horror/Crime",
         "type": "scatter",
         "x": [
          "The Belle Époque (1900-1914)",
          "World War I (1914-1918)",
          "The Roaring Twenties (1920-1929)",
          "The Great Depression (1929-1939)",
          "World War II (1939-1945)",
          "Early Cold War (1947-1960)",
          "The Civil Rights Movement (1960-1970)",
          "Late Cold War (1971-1989)",
          "End of the Cold War (1990-1991)",
          "Post-Cold War and the New World Order (1992-2001)",
          "War on Terrorism (2001-present)"
         ],
         "y": [
          0.005945303210463734,
          0.005288932419196866,
          0.01623309053069719,
          0.057707104385739935,
          0.06547835576573299,
          0.0721950081642174,
          0.07279608192341941,
          0.11174382487797663,
          0.11352099676972774,
          0.09913180741910024,
          0.09565417337318924
         ]
        },
        {
         "hovertemplate": "Year: %{x}<br>Number of Movies: %{y}<br>",
         "line": {
          "color": "#ffff33"
         },
         "mode": "lines",
         "name": "Science Fiction/Fantasy",
         "type": "scatter",
         "x": [
          "The Belle Époque (1900-1914)",
          "World War I (1914-1918)",
          "The Roaring Twenties (1920-1929)",
          "The Great Depression (1929-1939)",
          "World War II (1939-1945)",
          "Early Cold War (1947-1960)",
          "The Civil Rights Movement (1960-1970)",
          "Late Cold War (1971-1989)",
          "End of the Cold War (1990-1991)",
          "Post-Cold War and the New World Order (1992-2001)",
          "War on Terrorism (2001-present)"
         ],
         "y": [
          0.0047562425683709865,
          0.0025465230166503428,
          0.004578563995837669,
          0.008207232623749679,
          0.014186977082575483,
          0.029624445999533473,
          0.03695458593054319,
          0.0477000443721343,
          0.05399169358560221,
          0.04798737174427782,
          0.04579596842185943
         ]
        },
        {
         "hovertemplate": "Year: %{x}<br>Number of Movies: %{y}<br>",
         "line": {
          "color": "#a65628"
         },
         "mode": "lines",
         "name": "Animation/Family",
         "type": "scatter",
         "x": [
          "The Belle Époque (1900-1914)",
          "World War I (1914-1918)",
          "The Roaring Twenties (1920-1929)",
          "The Great Depression (1929-1939)",
          "World War II (1939-1945)",
          "Early Cold War (1947-1960)",
          "The Civil Rights Movement (1960-1970)",
          "Late Cold War (1971-1989)",
          "End of the Cold War (1990-1991)",
          "Post-Cold War and the New World Order (1992-2001)",
          "War on Terrorism (2001-present)"
         ],
         "y": [
          0.0023781212841854932,
          0.0007835455435847208,
          0.005202913631633715,
          0.030135932290330854,
          0.026555110949436158,
          0.039771401912759505,
          0.034728406055209264,
          0.03498003253956515,
          0.02861098292570374,
          0.03938437253354381,
          0.04115888710048287
         ]
        },
        {
         "hovertemplate": "Year: %{x}<br>Number of Movies: %{y}<br>",
         "line": {
          "color": "#000000"
         },
         "mode": "lines",
         "name": "Historical/Biographical/Documentary",
         "type": "scatter",
         "x": [
          "The Belle Époque (1900-1914)",
          "World War I (1914-1918)",
          "The Roaring Twenties (1920-1929)",
          "The Great Depression (1929-1939)",
          "World War II (1939-1945)",
          "Early Cold War (1947-1960)",
          "The Civil Rights Movement (1960-1970)",
          "Late Cold War (1971-1989)",
          "End of the Cold War (1990-1991)",
          "Post-Cold War and the New World Order (1992-2001)",
          "War on Terrorism (2001-present)"
         ],
         "y": [
          0.008323424494649227,
          0.0031341821743388833,
          0.006243496357960458,
          0.01320851500384714,
          0.032739177882866496,
          0.03347329134592955,
          0.048753339269813,
          0.057905635261056056,
          0.05676049838486387,
          0.061878453038674036,
          0.08956081857898368
         ]
        },
        {
         "hovertemplate": "Year: %{x}<br>Number of Movies: %{y}<br>",
         "line": {
          "color": "#999999"
         },
         "mode": "lines",
         "name": "Short/Silent",
         "type": "scatter",
         "x": [
          "The Belle Époque (1900-1914)",
          "World War I (1914-1918)",
          "The Roaring Twenties (1920-1929)",
          "The Great Depression (1929-1939)",
          "World War II (1939-1945)",
          "Early Cold War (1947-1960)",
          "The Civil Rights Movement (1960-1970)",
          "Late Cold War (1971-1989)",
          "End of the Cold War (1990-1991)",
          "Post-Cold War and the New World Order (1992-2001)",
          "War on Terrorism (2001-present)"
         ],
         "y": [
          0.28656361474435194,
          0.2789422135161606,
          0.27887617065556713,
          0.0763016157989228,
          0.06693343033830484,
          0.05586657336132494,
          0.04697239536954586,
          0.02152048513533501,
          0.018920166128287955,
          0.016890292028413575,
          0.024909940982601363
         ]
        },
        {
         "hovertemplate": "Year: %{x}<br>Number of Movies: %{y}<br>",
         "line": {
          "color": "pink"
         },
         "mode": "lines",
         "name": "Black-and-White",
         "type": "scatter",
         "x": [
          "The Belle Époque (1900-1914)",
          "World War I (1914-1918)",
          "The Roaring Twenties (1920-1929)",
          "The Great Depression (1929-1939)",
          "World War II (1939-1945)",
          "Early Cold War (1947-1960)",
          "The Civil Rights Movement (1960-1970)",
          "Late Cold War (1971-1989)",
          "End of the Cold War (1990-1991)",
          "Post-Cold War and the New World Order (1992-2001)",
          "War on Terrorism (2001-present)"
         ],
         "y": [
          0.23067776456599287,
          0.2395690499510284,
          0.20374609781477626,
          0.19094639651192613,
          0.15387413604947253,
          0.08910660135292746,
          0.026491540516473733,
          0.0022186067149829905,
          0.0013844023996308261,
          0.0026835043409629044,
          0.0007281367364145014
         ]
        },
        {
         "hovertemplate": "Year: %{x}<br>Number of Movies: %{y}<br>",
         "line": {
          "color": "#b3b3cc"
         },
         "mode": "lines",
         "name": "Independent/Experimental/LGBT",
         "type": "scatter",
         "x": [
          "The Belle Époque (1900-1914)",
          "World War I (1914-1918)",
          "The Roaring Twenties (1920-1929)",
          "The Great Depression (1929-1939)",
          "World War II (1939-1945)",
          "Early Cold War (1947-1960)",
          "The Civil Rights Movement (1960-1970)",
          "Late Cold War (1971-1989)",
          "End of the Cold War (1990-1991)",
          "Post-Cold War and the New World Order (1992-2001)",
          "War on Terrorism (2001-present)"
         ],
         "y": [
          0.1848989298454221,
          0.18981390793339864,
          0.1336108220603538,
          0.0032059502436522186,
          0.0012731902510003637,
          0.005248425472358292,
          0.029385574354407838,
          0.05043632598727999,
          0.05445316105214582,
          0.065982636148382,
          0.07852379857438492
         ]
        },
        {
         "hovertemplate": "Year: %{x}<br>Number of Movies: %{y}<br>",
         "line": {
          "color": "#c2c2f0"
         },
         "mode": "lines",
         "name": "Musical",
         "type": "scatter",
         "x": [
          "The Belle Époque (1900-1914)",
          "World War I (1914-1918)",
          "The Roaring Twenties (1920-1929)",
          "The Great Depression (1929-1939)",
          "World War II (1939-1945)",
          "Early Cold War (1947-1960)",
          "The Civil Rights Movement (1960-1970)",
          "Late Cold War (1971-1989)",
          "End of the Cold War (1990-1991)",
          "Post-Cold War and the New World Order (1992-2001)",
          "War on Terrorism (2001-present)"
         ],
         "y": [
          0.0005945303210463733,
          0,
          0.0014568158168574402,
          0.04655039753783021,
          0.04365223717715533,
          0.03673897830650805,
          0.02804986642920748,
          0.015973968347877534,
          0.010613751730503,
          0.009234411996842936,
          0.010960374032344601
         ]
        },
        {
         "hovertemplate": "Year: %{x}<br>Number of Movies: %{y}<br>",
         "line": {
          "color": "blue"
         },
         "mode": "lines",
         "name": "Other",
         "type": "scatter",
         "x": [
          "The Belle Époque (1900-1914)",
          "World War I (1914-1918)",
          "The Roaring Twenties (1920-1929)",
          "The Great Depression (1929-1939)",
          "World War II (1939-1945)",
          "Early Cold War (1947-1960)",
          "The Civil Rights Movement (1960-1970)",
          "Late Cold War (1971-1989)",
          "End of the Cold War (1990-1991)",
          "Post-Cold War and the New World Order (1992-2001)",
          "War on Terrorism (2001-present)"
         ],
         "y": [
          0.006539833531510107,
          0.0056807051909892265,
          0.028511966701352757,
          0.10002564760194922,
          0.1262277191706075,
          0.15663634243060415,
          0.16963490650044524,
          0.18310900754326284,
          0.1762805722196585,
          0.1771112865035517,
          0.16908101479267265
         ]
        }
       ],
       "layout": {
        "barmode": "stack",
        "height": 500,
        "legend": {
         "title": {
          "text": "Themes"
         }
        },
        "template": {
         "data": {
          "bar": [
           {
            "error_x": {
             "color": "#2a3f5f"
            },
            "error_y": {
             "color": "#2a3f5f"
            },
            "marker": {
             "line": {
              "color": "#E5ECF6",
              "width": 0.5
             },
             "pattern": {
              "fillmode": "overlay",
              "size": 10,
              "solidity": 0.2
             }
            },
            "type": "bar"
           }
          ],
          "barpolar": [
           {
            "marker": {
             "line": {
              "color": "#E5ECF6",
              "width": 0.5
             },
             "pattern": {
              "fillmode": "overlay",
              "size": 10,
              "solidity": 0.2
             }
            },
            "type": "barpolar"
           }
          ],
          "carpet": [
           {
            "aaxis": {
             "endlinecolor": "#2a3f5f",
             "gridcolor": "white",
             "linecolor": "white",
             "minorgridcolor": "white",
             "startlinecolor": "#2a3f5f"
            },
            "baxis": {
             "endlinecolor": "#2a3f5f",
             "gridcolor": "white",
             "linecolor": "white",
             "minorgridcolor": "white",
             "startlinecolor": "#2a3f5f"
            },
            "type": "carpet"
           }
          ],
          "choropleth": [
           {
            "colorbar": {
             "outlinewidth": 0,
             "ticks": ""
            },
            "type": "choropleth"
           }
          ],
          "contour": [
           {
            "colorbar": {
             "outlinewidth": 0,
             "ticks": ""
            },
            "colorscale": [
             [
              0,
              "#0d0887"
             ],
             [
              0.1111111111111111,
              "#46039f"
             ],
             [
              0.2222222222222222,
              "#7201a8"
             ],
             [
              0.3333333333333333,
              "#9c179e"
             ],
             [
              0.4444444444444444,
              "#bd3786"
             ],
             [
              0.5555555555555556,
              "#d8576b"
             ],
             [
              0.6666666666666666,
              "#ed7953"
             ],
             [
              0.7777777777777778,
              "#fb9f3a"
             ],
             [
              0.8888888888888888,
              "#fdca26"
             ],
             [
              1,
              "#f0f921"
             ]
            ],
            "type": "contour"
           }
          ],
          "contourcarpet": [
           {
            "colorbar": {
             "outlinewidth": 0,
             "ticks": ""
            },
            "type": "contourcarpet"
           }
          ],
          "heatmap": [
           {
            "colorbar": {
             "outlinewidth": 0,
             "ticks": ""
            },
            "colorscale": [
             [
              0,
              "#0d0887"
             ],
             [
              0.1111111111111111,
              "#46039f"
             ],
             [
              0.2222222222222222,
              "#7201a8"
             ],
             [
              0.3333333333333333,
              "#9c179e"
             ],
             [
              0.4444444444444444,
              "#bd3786"
             ],
             [
              0.5555555555555556,
              "#d8576b"
             ],
             [
              0.6666666666666666,
              "#ed7953"
             ],
             [
              0.7777777777777778,
              "#fb9f3a"
             ],
             [
              0.8888888888888888,
              "#fdca26"
             ],
             [
              1,
              "#f0f921"
             ]
            ],
            "type": "heatmap"
           }
          ],
          "heatmapgl": [
           {
            "colorbar": {
             "outlinewidth": 0,
             "ticks": ""
            },
            "colorscale": [
             [
              0,
              "#0d0887"
             ],
             [
              0.1111111111111111,
              "#46039f"
             ],
             [
              0.2222222222222222,
              "#7201a8"
             ],
             [
              0.3333333333333333,
              "#9c179e"
             ],
             [
              0.4444444444444444,
              "#bd3786"
             ],
             [
              0.5555555555555556,
              "#d8576b"
             ],
             [
              0.6666666666666666,
              "#ed7953"
             ],
             [
              0.7777777777777778,
              "#fb9f3a"
             ],
             [
              0.8888888888888888,
              "#fdca26"
             ],
             [
              1,
              "#f0f921"
             ]
            ],
            "type": "heatmapgl"
           }
          ],
          "histogram": [
           {
            "marker": {
             "pattern": {
              "fillmode": "overlay",
              "size": 10,
              "solidity": 0.2
             }
            },
            "type": "histogram"
           }
          ],
          "histogram2d": [
           {
            "colorbar": {
             "outlinewidth": 0,
             "ticks": ""
            },
            "colorscale": [
             [
              0,
              "#0d0887"
             ],
             [
              0.1111111111111111,
              "#46039f"
             ],
             [
              0.2222222222222222,
              "#7201a8"
             ],
             [
              0.3333333333333333,
              "#9c179e"
             ],
             [
              0.4444444444444444,
              "#bd3786"
             ],
             [
              0.5555555555555556,
              "#d8576b"
             ],
             [
              0.6666666666666666,
              "#ed7953"
             ],
             [
              0.7777777777777778,
              "#fb9f3a"
             ],
             [
              0.8888888888888888,
              "#fdca26"
             ],
             [
              1,
              "#f0f921"
             ]
            ],
            "type": "histogram2d"
           }
          ],
          "histogram2dcontour": [
           {
            "colorbar": {
             "outlinewidth": 0,
             "ticks": ""
            },
            "colorscale": [
             [
              0,
              "#0d0887"
             ],
             [
              0.1111111111111111,
              "#46039f"
             ],
             [
              0.2222222222222222,
              "#7201a8"
             ],
             [
              0.3333333333333333,
              "#9c179e"
             ],
             [
              0.4444444444444444,
              "#bd3786"
             ],
             [
              0.5555555555555556,
              "#d8576b"
             ],
             [
              0.6666666666666666,
              "#ed7953"
             ],
             [
              0.7777777777777778,
              "#fb9f3a"
             ],
             [
              0.8888888888888888,
              "#fdca26"
             ],
             [
              1,
              "#f0f921"
             ]
            ],
            "type": "histogram2dcontour"
           }
          ],
          "mesh3d": [
           {
            "colorbar": {
             "outlinewidth": 0,
             "ticks": ""
            },
            "type": "mesh3d"
           }
          ],
          "parcoords": [
           {
            "line": {
             "colorbar": {
              "outlinewidth": 0,
              "ticks": ""
             }
            },
            "type": "parcoords"
           }
          ],
          "pie": [
           {
            "automargin": true,
            "type": "pie"
           }
          ],
          "scatter": [
           {
            "fillpattern": {
             "fillmode": "overlay",
             "size": 10,
             "solidity": 0.2
            },
            "type": "scatter"
           }
          ],
          "scatter3d": [
           {
            "line": {
             "colorbar": {
              "outlinewidth": 0,
              "ticks": ""
             }
            },
            "marker": {
             "colorbar": {
              "outlinewidth": 0,
              "ticks": ""
             }
            },
            "type": "scatter3d"
           }
          ],
          "scattercarpet": [
           {
            "marker": {
             "colorbar": {
              "outlinewidth": 0,
              "ticks": ""
             }
            },
            "type": "scattercarpet"
           }
          ],
          "scattergeo": [
           {
            "marker": {
             "colorbar": {
              "outlinewidth": 0,
              "ticks": ""
             }
            },
            "type": "scattergeo"
           }
          ],
          "scattergl": [
           {
            "marker": {
             "colorbar": {
              "outlinewidth": 0,
              "ticks": ""
             }
            },
            "type": "scattergl"
           }
          ],
          "scattermapbox": [
           {
            "marker": {
             "colorbar": {
              "outlinewidth": 0,
              "ticks": ""
             }
            },
            "type": "scattermapbox"
           }
          ],
          "scatterpolar": [
           {
            "marker": {
             "colorbar": {
              "outlinewidth": 0,
              "ticks": ""
             }
            },
            "type": "scatterpolar"
           }
          ],
          "scatterpolargl": [
           {
            "marker": {
             "colorbar": {
              "outlinewidth": 0,
              "ticks": ""
             }
            },
            "type": "scatterpolargl"
           }
          ],
          "scatterternary": [
           {
            "marker": {
             "colorbar": {
              "outlinewidth": 0,
              "ticks": ""
             }
            },
            "type": "scatterternary"
           }
          ],
          "surface": [
           {
            "colorbar": {
             "outlinewidth": 0,
             "ticks": ""
            },
            "colorscale": [
             [
              0,
              "#0d0887"
             ],
             [
              0.1111111111111111,
              "#46039f"
             ],
             [
              0.2222222222222222,
              "#7201a8"
             ],
             [
              0.3333333333333333,
              "#9c179e"
             ],
             [
              0.4444444444444444,
              "#bd3786"
             ],
             [
              0.5555555555555556,
              "#d8576b"
             ],
             [
              0.6666666666666666,
              "#ed7953"
             ],
             [
              0.7777777777777778,
              "#fb9f3a"
             ],
             [
              0.8888888888888888,
              "#fdca26"
             ],
             [
              1,
              "#f0f921"
             ]
            ],
            "type": "surface"
           }
          ],
          "table": [
           {
            "cells": {
             "fill": {
              "color": "#EBF0F8"
             },
             "line": {
              "color": "white"
             }
            },
            "header": {
             "fill": {
              "color": "#C8D4E3"
             },
             "line": {
              "color": "white"
             }
            },
            "type": "table"
           }
          ]
         },
         "layout": {
          "annotationdefaults": {
           "arrowcolor": "#2a3f5f",
           "arrowhead": 0,
           "arrowwidth": 1
          },
          "autotypenumbers": "strict",
          "coloraxis": {
           "colorbar": {
            "outlinewidth": 0,
            "ticks": ""
           }
          },
          "colorscale": {
           "diverging": [
            [
             0,
             "#8e0152"
            ],
            [
             0.1,
             "#c51b7d"
            ],
            [
             0.2,
             "#de77ae"
            ],
            [
             0.3,
             "#f1b6da"
            ],
            [
             0.4,
             "#fde0ef"
            ],
            [
             0.5,
             "#f7f7f7"
            ],
            [
             0.6,
             "#e6f5d0"
            ],
            [
             0.7,
             "#b8e186"
            ],
            [
             0.8,
             "#7fbc41"
            ],
            [
             0.9,
             "#4d9221"
            ],
            [
             1,
             "#276419"
            ]
           ],
           "sequential": [
            [
             0,
             "#0d0887"
            ],
            [
             0.1111111111111111,
             "#46039f"
            ],
            [
             0.2222222222222222,
             "#7201a8"
            ],
            [
             0.3333333333333333,
             "#9c179e"
            ],
            [
             0.4444444444444444,
             "#bd3786"
            ],
            [
             0.5555555555555556,
             "#d8576b"
            ],
            [
             0.6666666666666666,
             "#ed7953"
            ],
            [
             0.7777777777777778,
             "#fb9f3a"
            ],
            [
             0.8888888888888888,
             "#fdca26"
            ],
            [
             1,
             "#f0f921"
            ]
           ],
           "sequentialminus": [
            [
             0,
             "#0d0887"
            ],
            [
             0.1111111111111111,
             "#46039f"
            ],
            [
             0.2222222222222222,
             "#7201a8"
            ],
            [
             0.3333333333333333,
             "#9c179e"
            ],
            [
             0.4444444444444444,
             "#bd3786"
            ],
            [
             0.5555555555555556,
             "#d8576b"
            ],
            [
             0.6666666666666666,
             "#ed7953"
            ],
            [
             0.7777777777777778,
             "#fb9f3a"
            ],
            [
             0.8888888888888888,
             "#fdca26"
            ],
            [
             1,
             "#f0f921"
            ]
           ]
          },
          "colorway": [
           "#636efa",
           "#EF553B",
           "#00cc96",
           "#ab63fa",
           "#FFA15A",
           "#19d3f3",
           "#FF6692",
           "#B6E880",
           "#FF97FF",
           "#FECB52"
          ],
          "font": {
           "color": "#2a3f5f"
          },
          "geo": {
           "bgcolor": "white",
           "lakecolor": "white",
           "landcolor": "#E5ECF6",
           "showlakes": true,
           "showland": true,
           "subunitcolor": "white"
          },
          "hoverlabel": {
           "align": "left"
          },
          "hovermode": "closest",
          "mapbox": {
           "style": "light"
          },
          "paper_bgcolor": "white",
          "plot_bgcolor": "#E5ECF6",
          "polar": {
           "angularaxis": {
            "gridcolor": "white",
            "linecolor": "white",
            "ticks": ""
           },
           "bgcolor": "#E5ECF6",
           "radialaxis": {
            "gridcolor": "white",
            "linecolor": "white",
            "ticks": ""
           }
          },
          "scene": {
           "xaxis": {
            "backgroundcolor": "#E5ECF6",
            "gridcolor": "white",
            "gridwidth": 2,
            "linecolor": "white",
            "showbackground": true,
            "ticks": "",
            "zerolinecolor": "white"
           },
           "yaxis": {
            "backgroundcolor": "#E5ECF6",
            "gridcolor": "white",
            "gridwidth": 2,
            "linecolor": "white",
            "showbackground": true,
            "ticks": "",
            "zerolinecolor": "white"
           },
           "zaxis": {
            "backgroundcolor": "#E5ECF6",
            "gridcolor": "white",
            "gridwidth": 2,
            "linecolor": "white",
            "showbackground": true,
            "ticks": "",
            "zerolinecolor": "white"
           }
          },
          "shapedefaults": {
           "line": {
            "color": "#2a3f5f"
           }
          },
          "ternary": {
           "aaxis": {
            "gridcolor": "white",
            "linecolor": "white",
            "ticks": ""
           },
           "baxis": {
            "gridcolor": "white",
            "linecolor": "white",
            "ticks": ""
           },
           "bgcolor": "#E5ECF6",
           "caxis": {
            "gridcolor": "white",
            "linecolor": "white",
            "ticks": ""
           }
          },
          "title": {
           "x": 0.05
          },
          "xaxis": {
           "automargin": true,
           "gridcolor": "white",
           "linecolor": "white",
           "ticks": "",
           "title": {
            "standoff": 15
           },
           "zerolinecolor": "white",
           "zerolinewidth": 2
          },
          "yaxis": {
           "automargin": true,
           "gridcolor": "white",
           "linecolor": "white",
           "ticks": "",
           "title": {
            "standoff": 15
           },
           "zerolinecolor": "white",
           "zerolinewidth": 2
          }
         }
        },
        "title": {
         "text": "Evolution of Movie Themes Over the Periods",
         "x": 0.5,
         "xanchor": "right"
        },
        "updatemenus": [
         {
          "buttons": [
           {
            "args": [],
            "label": "Select Theme"
           },
           {
            "args": [
             {
              "visible": [
               true,
               false,
               false,
               false,
               false,
               false,
               false,
               false,
               false,
               false,
               false,
               false,
               false
              ]
             },
             {
              "title": "Evolution of Action/Adventure/Thriller Movies Over the Periods"
             }
            ],
            "label": "Action/Adventure/Thriller",
            "method": "update"
           },
           {
            "args": [
             {
              "visible": [
               false,
               true,
               false,
               false,
               false,
               false,
               false,
               false,
               false,
               false,
               false,
               false,
               false
              ]
             },
             {
              "title": "Evolution of Comedy Movies Over the Periods"
             }
            ],
            "label": "Comedy",
            "method": "update"
           },
           {
            "args": [
             {
              "visible": [
               false,
               false,
               true,
               false,
               false,
               false,
               false,
               false,
               false,
               false,
               false,
               false,
               false
              ]
             },
             {
              "title": "Evolution of Drama/Mystery Movies Over the Periods"
             }
            ],
            "label": "Drama/Mystery",
            "method": "update"
           },
           {
            "args": [
             {
              "visible": [
               false,
               false,
               false,
               true,
               false,
               false,
               false,
               false,
               false,
               false,
               false,
               false,
               false
              ]
             },
             {
              "title": "Evolution of Romance Movies Over the Periods"
             }
            ],
            "label": "Romance",
            "method": "update"
           },
           {
            "args": [
             {
              "visible": [
               false,
               false,
               false,
               false,
               true,
               false,
               false,
               false,
               false,
               false,
               false,
               false,
               false
              ]
             },
             {
              "title": "Evolution of Horror/Crime Movies Over the Periods"
             }
            ],
            "label": "Horror/Crime",
            "method": "update"
           },
           {
            "args": [
             {
              "visible": [
               false,
               false,
               false,
               false,
               false,
               true,
               false,
               false,
               false,
               false,
               false,
               false,
               false
              ]
             },
             {
              "title": "Evolution of Science Fiction/Fantasy Movies Over the Periods"
             }
            ],
            "label": "Science Fiction/Fantasy",
            "method": "update"
           },
           {
            "args": [
             {
              "visible": [
               false,
               false,
               false,
               false,
               false,
               false,
               true,
               false,
               false,
               false,
               false,
               false,
               false
              ]
             },
             {
              "title": "Evolution of Animation/Family Movies Over the Periods"
             }
            ],
            "label": "Animation/Family",
            "method": "update"
           },
           {
            "args": [
             {
              "visible": [
               false,
               false,
               false,
               false,
               false,
               false,
               false,
               true,
               false,
               false,
               false,
               false,
               false
              ]
             },
             {
              "title": "Evolution of Historical/Biographical/Documentary Movies Over the Periods"
             }
            ],
            "label": "Historical/Biographical/Documentary",
            "method": "update"
           },
           {
            "args": [
             {
              "visible": [
               false,
               false,
               false,
               false,
               false,
               false,
               false,
               false,
               true,
               false,
               false,
               false,
               false
              ]
             },
             {
              "title": "Evolution of Short/Silent Movies Over the Periods"
             }
            ],
            "label": "Short/Silent",
            "method": "update"
           },
           {
            "args": [
             {
              "visible": [
               false,
               false,
               false,
               false,
               false,
               false,
               false,
               false,
               false,
               true,
               false,
               false,
               false
              ]
             },
             {
              "title": "Evolution of Black-and-White Movies Over the Periods"
             }
            ],
            "label": "Black-and-White",
            "method": "update"
           },
           {
            "args": [
             {
              "visible": [
               false,
               false,
               false,
               false,
               false,
               false,
               false,
               false,
               false,
               false,
               true,
               false,
               false
              ]
             },
             {
              "title": "Evolution of Independent/Experimental/LGBT Movies Over the Periods"
             }
            ],
            "label": "Independent/Experimental/LGBT",
            "method": "update"
           },
           {
            "args": [
             {
              "visible": [
               false,
               false,
               false,
               false,
               false,
               false,
               false,
               false,
               false,
               false,
               false,
               true,
               false
              ]
             },
             {
              "title": "Evolution of Musical Movies Over the Periods"
             }
            ],
            "label": "Musical",
            "method": "update"
           },
           {
            "args": [
             {
              "visible": [
               false,
               false,
               false,
               false,
               false,
               false,
               false,
               false,
               false,
               false,
               false,
               false,
               true
              ]
             },
             {
              "title": "Evolution of Other Movies Over the Periods"
             }
            ],
            "label": "Other",
            "method": "update"
           }
          ],
          "type": "dropdown",
          "x": 1.214,
          "xanchor": "center",
          "y": 1.2,
          "yanchor": "top"
         },
         {
          "buttons": [
           {
            "args": [
             {
              "visible": [
               true,
               true,
               true,
               true,
               true,
               true,
               true,
               true,
               true,
               true,
               true,
               true,
               true
              ]
             },
             {
              "title": "Evolution of Movie Themes Over the Periods"
             }
            ],
            "label": "Show All",
            "method": "update"
           }
          ],
          "type": "buttons",
          "x": 1.005,
          "xanchor": "left",
          "y": 1.3,
          "yanchor": "middle"
         }
        ],
        "width": 1000,
        "xaxis": {
         "title": {
          "text": "Release Year"
         }
        },
        "yaxis": {
         "title": {
          "text": "Number of Movies"
         }
        }
       }
      }
     },
     "metadata": {},
     "output_type": "display_data"
    }
   ],
   "source": [
    "# Create an empty figure\n",
    "fig = go.Figure()\n",
    "\n",
    "# Add each theme as a trace\n",
    "for theme in themes:\n",
    "    if theme in normalized_theme_periods_counts.columns:\n",
    "        fig.add_trace(go.Scatter(\n",
    "            x=normalized_theme_periods_counts.index,  # x-axis is the release year\n",
    "            y=normalized_theme_periods_counts[theme],  # y-axis is the number of movies for each theme\n",
    "            mode='lines',  # Use lines for the plot\n",
    "            name=theme,  # Set the theme name for the legend\n",
    "            line=dict(color=theme_colors.get(theme, 'gray')),  # Use color mapping for each theme\n",
    "            hovertemplate='Year: %{x}<br>Number of Movies: %{y}<br>'  # Custom hover text\n",
    "        ))\n",
    "\n",
    "# Add buttons for hide/show functionality\n",
    "visibility = [[True if i == idx else False for i in range(len(themes))]\n",
    "              for idx in range(len(themes))]\n",
    "\n",
    "# Define \"Select Theme\" button\n",
    "select_theme_button = dict(\n",
    "    label=\"Select Theme\",  # Displayed as a label in the dropdown\n",
    "    method=None,  # Non-interactive option\n",
    "    args=[]  # No action associated with this\n",
    ")\n",
    "\n",
    "theme_buttons = [\n",
    "    dict(\n",
    "        label=theme,\n",
    "        method=\"update\",\n",
    "        args=[\n",
    "            {\"visible\": vis},  # Update visibility\n",
    "            {\"title\": f\"Evolution of {theme} Movies Over the Periods\"}  # Update title\n",
    "        ]\n",
    "    )\n",
    "    for theme, vis in zip(themes, visibility)\n",
    "]\n",
    "\n",
    "\n",
    "# Combine \"Select Theme\" and theme-specific buttons\n",
    "buttons = [select_theme_button] + theme_buttons\n",
    "\n",
    "# Dropdown menu for individual themes\n",
    "dropdown_menu = dict(\n",
    "    type=\"dropdown\",\n",
    "    buttons=buttons,\n",
    "    x=1.214,\n",
    "    xanchor=\"center\",\n",
    "    y=1.2,\n",
    "    yanchor=\"top\",\n",
    ")\n",
    "\n",
    "# Button for \"Show All\" placed on the side\n",
    "side_button = dict(\n",
    "    type=\"buttons\",\n",
    "    buttons=[\n",
    "        dict(\n",
    "            label=\"Show All\",\n",
    "            method=\"update\",\n",
    "            args=[\n",
    "                {\"visible\": [True] * len(themes)},\n",
    "                {\"title\": \"Evolution of Movie Themes Over the Periods\"}\n",
    "            ]\n",
    "        )\n",
    "    ],\n",
    "    x=1.005,  # Adjust position to place on the side\n",
    "    xanchor=\"left\",\n",
    "    y=1.3,\n",
    "    yanchor=\"middle\",\n",
    ")\n",
    "\n",
    "# Update layout\n",
    "fig.update_layout(\n",
    "    updatemenus=[dropdown_menu, side_button],\n",
    "    title={\n",
    "        'text': 'Evolution of Movie Themes Over the Periods',\n",
    "        'x': 0.5,  # Center the title\n",
    "        'xanchor': 'right'\n",
    "    },\n",
    "    title_x=0.5,\n",
    "    barmode='stack',\n",
    "    xaxis_title='Release Year',\n",
    "    yaxis_title='Number of Movies',\n",
    "    legend_title=\"Themes\",\n",
    "    height=500,\n",
    "    width=1000,\n",
    ")\n",
    "\n",
    "# Show the interactive plot\n",
    "fig.show()\n",
    "fig.write_html('/Users/lilly-flore/Desktop/line_theme_period.html')"
   ]
  },
  {
   "cell_type": "markdown",
   "metadata": {},
   "source": [
    "Interactive stacked bar plot that shows the evolution of movie themes over different periods. It allows users to toggle the visibility of individual themes through a dropdown menu or show all themes at once with a \"Show All\" button. Each theme is represented by a separate trace, and the plot displays the proportion of movies for each theme per period, with the option to hover over bars to view detailed values."
   ]
  },
  {
   "cell_type": "code",
   "execution_count": null,
   "metadata": {},
   "outputs": [
    {
     "data": {
      "application/vnd.plotly.v1+json": {
       "config": {
        "plotlyServerURL": "https://plot.ly"
       },
       "data": [
        {
         "hovertemplate": "Period: %{x}<br>Theme proportion: %{y}<br>",
         "marker": {
          "color": "#e41a1c"
         },
         "name": "Action/Adventure/Thriller",
         "type": "bar",
         "x": [
          "The Belle Époque (1900-1914)",
          "World War I (1914-1918)",
          "The Roaring Twenties (1920-1929)",
          "The Great Depression (1929-1939)",
          "World War II (1939-1945)",
          "Early Cold War (1947-1960)",
          "The Civil Rights Movement (1960-1970)",
          "Late Cold War (1971-1989)",
          "End of the Cold War (1990-1991)",
          "Post-Cold War and the New World Order (1992-2001)",
          "War on Terrorism (2001-present)"
         ],
         "y": [
          0.03804994054696789,
          0.03800195886385896,
          0.07221644120707596,
          0.10169274172864837,
          0.14423426700618408,
          0.14952181012362958,
          0.1433659839715049,
          0.1422866439875758,
          0.15320719889247808,
          0.13606945540647197,
          0.12282517053728827
         ]
        },
        {
         "hovertemplate": "Period: %{x}<br>Theme proportion: %{y}<br>",
         "marker": {
          "color": "#a65628"
         },
         "name": "Animation/Family",
         "type": "bar",
         "x": [
          "The Belle Époque (1900-1914)",
          "World War I (1914-1918)",
          "The Roaring Twenties (1920-1929)",
          "The Great Depression (1929-1939)",
          "World War II (1939-1945)",
          "Early Cold War (1947-1960)",
          "The Civil Rights Movement (1960-1970)",
          "Late Cold War (1971-1989)",
          "End of the Cold War (1990-1991)",
          "Post-Cold War and the New World Order (1992-2001)",
          "War on Terrorism (2001-present)"
         ],
         "y": [
          0.0023781212841854932,
          0.0007835455435847208,
          0.005202913631633715,
          0.030135932290330854,
          0.026555110949436158,
          0.039771401912759505,
          0.034728406055209264,
          0.03498003253956515,
          0.02861098292570374,
          0.03938437253354381,
          0.04115888710048287
         ]
        },
        {
         "hovertemplate": "Period: %{x}<br>Theme proportion: %{y}<br>",
         "marker": {
          "color": "pink"
         },
         "name": "Black-and-White",
         "type": "bar",
         "x": [
          "The Belle Époque (1900-1914)",
          "World War I (1914-1918)",
          "The Roaring Twenties (1920-1929)",
          "The Great Depression (1929-1939)",
          "World War II (1939-1945)",
          "Early Cold War (1947-1960)",
          "The Civil Rights Movement (1960-1970)",
          "Late Cold War (1971-1989)",
          "End of the Cold War (1990-1991)",
          "Post-Cold War and the New World Order (1992-2001)",
          "War on Terrorism (2001-present)"
         ],
         "y": [
          0.23067776456599287,
          0.2395690499510284,
          0.20374609781477626,
          0.19094639651192613,
          0.15387413604947253,
          0.08910660135292746,
          0.026491540516473733,
          0.0022186067149829905,
          0.0013844023996308261,
          0.0026835043409629044,
          0.0007281367364145014
         ]
        },
        {
         "hovertemplate": "Period: %{x}<br>Theme proportion: %{y}<br>",
         "marker": {
          "color": "#377eb8"
         },
         "name": "Comedy",
         "type": "bar",
         "x": [
          "The Belle Époque (1900-1914)",
          "World War I (1914-1918)",
          "The Roaring Twenties (1920-1929)",
          "The Great Depression (1929-1939)",
          "World War II (1939-1945)",
          "Early Cold War (1947-1960)",
          "The Civil Rights Movement (1960-1970)",
          "Late Cold War (1971-1989)",
          "End of the Cold War (1990-1991)",
          "Post-Cold War and the New World Order (1992-2001)",
          "War on Terrorism (2001-present)"
         ],
         "y": [
          0.06420927467300833,
          0.12203721841332027,
          0.09281997918834548,
          0.13311105411644011,
          0.12095307384503456,
          0.10485187777000234,
          0.12310774710596616,
          0.11270522112113593,
          0.11490539916935856,
          0.1159431728492502,
          0.10803249789223576
         ]
        },
        {
         "hovertemplate": "Period: %{x}<br>Theme proportion: %{y}<br>",
         "marker": {
          "color": "#4daf4a"
         },
         "name": "Drama/Mystery",
         "type": "bar",
         "x": [
          "The Belle Époque (1900-1914)",
          "World War I (1914-1918)",
          "The Roaring Twenties (1920-1929)",
          "The Great Depression (1929-1939)",
          "World War II (1939-1945)",
          "Early Cold War (1947-1960)",
          "The Civil Rights Movement (1960-1970)",
          "Late Cold War (1971-1989)",
          "End of the Cold War (1990-1991)",
          "Post-Cold War and the New World Order (1992-2001)",
          "War on Terrorism (2001-present)"
         ],
         "y": [
          0.15219976218787157,
          0.10303623898139079,
          0.118210197710718,
          0.16016927417286483,
          0.14441615132775554,
          0.16515045486354094,
          0.182546749777382,
          0.17386481289750036,
          0.1647438855560683,
          0.1723756906077348,
          0.16103318770598604
         ]
        },
        {
         "hovertemplate": "Period: %{x}<br>Theme proportion: %{y}<br>",
         "marker": {
          "color": "#000000"
         },
         "name": "Historical/Biographical/Documentary",
         "type": "bar",
         "x": [
          "The Belle Époque (1900-1914)",
          "World War I (1914-1918)",
          "The Roaring Twenties (1920-1929)",
          "The Great Depression (1929-1939)",
          "World War II (1939-1945)",
          "Early Cold War (1947-1960)",
          "The Civil Rights Movement (1960-1970)",
          "Late Cold War (1971-1989)",
          "End of the Cold War (1990-1991)",
          "Post-Cold War and the New World Order (1992-2001)",
          "War on Terrorism (2001-present)"
         ],
         "y": [
          0.008323424494649227,
          0.0031341821743388833,
          0.006243496357960458,
          0.01320851500384714,
          0.032739177882866496,
          0.03347329134592955,
          0.048753339269813,
          0.057905635261056056,
          0.05676049838486387,
          0.061878453038674036,
          0.08956081857898368
         ]
        },
        {
         "hovertemplate": "Period: %{x}<br>Theme proportion: %{y}<br>",
         "marker": {
          "color": "#984ea3"
         },
         "name": "Horror/Crime",
         "type": "bar",
         "x": [
          "The Belle Époque (1900-1914)",
          "World War I (1914-1918)",
          "The Roaring Twenties (1920-1929)",
          "The Great Depression (1929-1939)",
          "World War II (1939-1945)",
          "Early Cold War (1947-1960)",
          "The Civil Rights Movement (1960-1970)",
          "Late Cold War (1971-1989)",
          "End of the Cold War (1990-1991)",
          "Post-Cold War and the New World Order (1992-2001)",
          "War on Terrorism (2001-present)"
         ],
         "y": [
          0.005945303210463734,
          0.005288932419196866,
          0.01623309053069719,
          0.057707104385739935,
          0.06547835576573299,
          0.0721950081642174,
          0.07279608192341941,
          0.11174382487797663,
          0.11352099676972774,
          0.09913180741910024,
          0.09565417337318924
         ]
        },
        {
         "hovertemplate": "Period: %{x}<br>Theme proportion: %{y}<br>",
         "marker": {
          "color": "#b3b3cc"
         },
         "name": "Independent/Experimental/LGBT",
         "type": "bar",
         "x": [
          "The Belle Époque (1900-1914)",
          "World War I (1914-1918)",
          "The Roaring Twenties (1920-1929)",
          "The Great Depression (1929-1939)",
          "World War II (1939-1945)",
          "Early Cold War (1947-1960)",
          "The Civil Rights Movement (1960-1970)",
          "Late Cold War (1971-1989)",
          "End of the Cold War (1990-1991)",
          "Post-Cold War and the New World Order (1992-2001)",
          "War on Terrorism (2001-present)"
         ],
         "y": [
          0.1848989298454221,
          0.18981390793339864,
          0.1336108220603538,
          0.0032059502436522186,
          0.0012731902510003637,
          0.005248425472358292,
          0.029385574354407838,
          0.05043632598727999,
          0.05445316105214582,
          0.065982636148382,
          0.07852379857438492
         ]
        },
        {
         "hovertemplate": "Period: %{x}<br>Theme proportion: %{y}<br>",
         "marker": {
          "color": "#c2c2f0"
         },
         "name": "Musical",
         "type": "bar",
         "x": [
          "The Belle Époque (1900-1914)",
          "World War I (1914-1918)",
          "The Roaring Twenties (1920-1929)",
          "The Great Depression (1929-1939)",
          "World War II (1939-1945)",
          "Early Cold War (1947-1960)",
          "The Civil Rights Movement (1960-1970)",
          "Late Cold War (1971-1989)",
          "End of the Cold War (1990-1991)",
          "Post-Cold War and the New World Order (1992-2001)",
          "War on Terrorism (2001-present)"
         ],
         "y": [
          0.0005945303210463733,
          0,
          0.0014568158168574402,
          0.04655039753783021,
          0.04365223717715533,
          0.03673897830650805,
          0.02804986642920748,
          0.015973968347877534,
          0.010613751730503,
          0.009234411996842936,
          0.010960374032344601
         ]
        },
        {
         "hovertemplate": "Period: %{x}<br>Theme proportion: %{y}<br>",
         "marker": {
          "color": "blue"
         },
         "name": "Other",
         "type": "bar",
         "x": [
          "The Belle Époque (1900-1914)",
          "World War I (1914-1918)",
          "The Roaring Twenties (1920-1929)",
          "The Great Depression (1929-1939)",
          "World War II (1939-1945)",
          "Early Cold War (1947-1960)",
          "The Civil Rights Movement (1960-1970)",
          "Late Cold War (1971-1989)",
          "End of the Cold War (1990-1991)",
          "Post-Cold War and the New World Order (1992-2001)",
          "War on Terrorism (2001-present)"
         ],
         "y": [
          0.006539833531510107,
          0.0056807051909892265,
          0.028511966701352757,
          0.10002564760194922,
          0.1262277191706075,
          0.15663634243060415,
          0.16963490650044524,
          0.18310900754326284,
          0.1762805722196585,
          0.1771112865035517,
          0.16908101479267265
         ]
        },
        {
         "hovertemplate": "Period: %{x}<br>Theme proportion: %{y}<br>",
         "marker": {
          "color": "#ff7f00"
         },
         "name": "Romance",
         "type": "bar",
         "x": [
          "The Belle Époque (1900-1914)",
          "World War I (1914-1918)",
          "The Roaring Twenties (1920-1929)",
          "The Great Depression (1929-1939)",
          "World War II (1939-1945)",
          "Early Cold War (1947-1960)",
          "The Civil Rights Movement (1960-1970)",
          "Late Cold War (1971-1989)",
          "End of the Cold War (1990-1991)",
          "Post-Cold War and the New World Order (1992-2001)",
          "War on Terrorism (2001-present)"
         ],
         "y": [
          0.014863258026159334,
          0.011165523996082272,
          0.038293444328824144,
          0.07873813798409848,
          0.059476173153874136,
          0.061814788896664336,
          0.057212822796081926,
          0.04555539121431741,
          0.05260729118597139,
          0.055327545382794004,
          0.05173603127155668
         ]
        },
        {
         "hovertemplate": "Period: %{x}<br>Theme proportion: %{y}<br>",
         "marker": {
          "color": "#ffff33"
         },
         "name": "Science Fiction/Fantasy",
         "type": "bar",
         "x": [
          "The Belle Époque (1900-1914)",
          "World War I (1914-1918)",
          "The Roaring Twenties (1920-1929)",
          "The Great Depression (1929-1939)",
          "World War II (1939-1945)",
          "Early Cold War (1947-1960)",
          "The Civil Rights Movement (1960-1970)",
          "Late Cold War (1971-1989)",
          "End of the Cold War (1990-1991)",
          "Post-Cold War and the New World Order (1992-2001)",
          "War on Terrorism (2001-present)"
         ],
         "y": [
          0.0047562425683709865,
          0.0025465230166503428,
          0.004578563995837669,
          0.008207232623749679,
          0.014186977082575483,
          0.029624445999533473,
          0.03695458593054319,
          0.0477000443721343,
          0.05399169358560221,
          0.04798737174427782,
          0.04579596842185943
         ]
        },
        {
         "hovertemplate": "Period: %{x}<br>Theme proportion: %{y}<br>",
         "marker": {
          "color": "#999999"
         },
         "name": "Short/Silent",
         "type": "bar",
         "x": [
          "The Belle Époque (1900-1914)",
          "World War I (1914-1918)",
          "The Roaring Twenties (1920-1929)",
          "The Great Depression (1929-1939)",
          "World War II (1939-1945)",
          "Early Cold War (1947-1960)",
          "The Civil Rights Movement (1960-1970)",
          "Late Cold War (1971-1989)",
          "End of the Cold War (1990-1991)",
          "Post-Cold War and the New World Order (1992-2001)",
          "War on Terrorism (2001-present)"
         ],
         "y": [
          0.28656361474435194,
          0.2789422135161606,
          0.27887617065556713,
          0.0763016157989228,
          0.06693343033830484,
          0.05586657336132494,
          0.04697239536954586,
          0.02152048513533501,
          0.018920166128287955,
          0.016890292028413575,
          0.024909940982601363
         ]
        }
       ],
       "layout": {
        "barmode": "stack",
        "height": 500,
        "legend": {
         "title": {
          "text": "Themes"
         }
        },
        "template": {
         "data": {
          "bar": [
           {
            "error_x": {
             "color": "#2a3f5f"
            },
            "error_y": {
             "color": "#2a3f5f"
            },
            "marker": {
             "line": {
              "color": "#E5ECF6",
              "width": 0.5
             },
             "pattern": {
              "fillmode": "overlay",
              "size": 10,
              "solidity": 0.2
             }
            },
            "type": "bar"
           }
          ],
          "barpolar": [
           {
            "marker": {
             "line": {
              "color": "#E5ECF6",
              "width": 0.5
             },
             "pattern": {
              "fillmode": "overlay",
              "size": 10,
              "solidity": 0.2
             }
            },
            "type": "barpolar"
           }
          ],
          "carpet": [
           {
            "aaxis": {
             "endlinecolor": "#2a3f5f",
             "gridcolor": "white",
             "linecolor": "white",
             "minorgridcolor": "white",
             "startlinecolor": "#2a3f5f"
            },
            "baxis": {
             "endlinecolor": "#2a3f5f",
             "gridcolor": "white",
             "linecolor": "white",
             "minorgridcolor": "white",
             "startlinecolor": "#2a3f5f"
            },
            "type": "carpet"
           }
          ],
          "choropleth": [
           {
            "colorbar": {
             "outlinewidth": 0,
             "ticks": ""
            },
            "type": "choropleth"
           }
          ],
          "contour": [
           {
            "colorbar": {
             "outlinewidth": 0,
             "ticks": ""
            },
            "colorscale": [
             [
              0,
              "#0d0887"
             ],
             [
              0.1111111111111111,
              "#46039f"
             ],
             [
              0.2222222222222222,
              "#7201a8"
             ],
             [
              0.3333333333333333,
              "#9c179e"
             ],
             [
              0.4444444444444444,
              "#bd3786"
             ],
             [
              0.5555555555555556,
              "#d8576b"
             ],
             [
              0.6666666666666666,
              "#ed7953"
             ],
             [
              0.7777777777777778,
              "#fb9f3a"
             ],
             [
              0.8888888888888888,
              "#fdca26"
             ],
             [
              1,
              "#f0f921"
             ]
            ],
            "type": "contour"
           }
          ],
          "contourcarpet": [
           {
            "colorbar": {
             "outlinewidth": 0,
             "ticks": ""
            },
            "type": "contourcarpet"
           }
          ],
          "heatmap": [
           {
            "colorbar": {
             "outlinewidth": 0,
             "ticks": ""
            },
            "colorscale": [
             [
              0,
              "#0d0887"
             ],
             [
              0.1111111111111111,
              "#46039f"
             ],
             [
              0.2222222222222222,
              "#7201a8"
             ],
             [
              0.3333333333333333,
              "#9c179e"
             ],
             [
              0.4444444444444444,
              "#bd3786"
             ],
             [
              0.5555555555555556,
              "#d8576b"
             ],
             [
              0.6666666666666666,
              "#ed7953"
             ],
             [
              0.7777777777777778,
              "#fb9f3a"
             ],
             [
              0.8888888888888888,
              "#fdca26"
             ],
             [
              1,
              "#f0f921"
             ]
            ],
            "type": "heatmap"
           }
          ],
          "heatmapgl": [
           {
            "colorbar": {
             "outlinewidth": 0,
             "ticks": ""
            },
            "colorscale": [
             [
              0,
              "#0d0887"
             ],
             [
              0.1111111111111111,
              "#46039f"
             ],
             [
              0.2222222222222222,
              "#7201a8"
             ],
             [
              0.3333333333333333,
              "#9c179e"
             ],
             [
              0.4444444444444444,
              "#bd3786"
             ],
             [
              0.5555555555555556,
              "#d8576b"
             ],
             [
              0.6666666666666666,
              "#ed7953"
             ],
             [
              0.7777777777777778,
              "#fb9f3a"
             ],
             [
              0.8888888888888888,
              "#fdca26"
             ],
             [
              1,
              "#f0f921"
             ]
            ],
            "type": "heatmapgl"
           }
          ],
          "histogram": [
           {
            "marker": {
             "pattern": {
              "fillmode": "overlay",
              "size": 10,
              "solidity": 0.2
             }
            },
            "type": "histogram"
           }
          ],
          "histogram2d": [
           {
            "colorbar": {
             "outlinewidth": 0,
             "ticks": ""
            },
            "colorscale": [
             [
              0,
              "#0d0887"
             ],
             [
              0.1111111111111111,
              "#46039f"
             ],
             [
              0.2222222222222222,
              "#7201a8"
             ],
             [
              0.3333333333333333,
              "#9c179e"
             ],
             [
              0.4444444444444444,
              "#bd3786"
             ],
             [
              0.5555555555555556,
              "#d8576b"
             ],
             [
              0.6666666666666666,
              "#ed7953"
             ],
             [
              0.7777777777777778,
              "#fb9f3a"
             ],
             [
              0.8888888888888888,
              "#fdca26"
             ],
             [
              1,
              "#f0f921"
             ]
            ],
            "type": "histogram2d"
           }
          ],
          "histogram2dcontour": [
           {
            "colorbar": {
             "outlinewidth": 0,
             "ticks": ""
            },
            "colorscale": [
             [
              0,
              "#0d0887"
             ],
             [
              0.1111111111111111,
              "#46039f"
             ],
             [
              0.2222222222222222,
              "#7201a8"
             ],
             [
              0.3333333333333333,
              "#9c179e"
             ],
             [
              0.4444444444444444,
              "#bd3786"
             ],
             [
              0.5555555555555556,
              "#d8576b"
             ],
             [
              0.6666666666666666,
              "#ed7953"
             ],
             [
              0.7777777777777778,
              "#fb9f3a"
             ],
             [
              0.8888888888888888,
              "#fdca26"
             ],
             [
              1,
              "#f0f921"
             ]
            ],
            "type": "histogram2dcontour"
           }
          ],
          "mesh3d": [
           {
            "colorbar": {
             "outlinewidth": 0,
             "ticks": ""
            },
            "type": "mesh3d"
           }
          ],
          "parcoords": [
           {
            "line": {
             "colorbar": {
              "outlinewidth": 0,
              "ticks": ""
             }
            },
            "type": "parcoords"
           }
          ],
          "pie": [
           {
            "automargin": true,
            "type": "pie"
           }
          ],
          "scatter": [
           {
            "fillpattern": {
             "fillmode": "overlay",
             "size": 10,
             "solidity": 0.2
            },
            "type": "scatter"
           }
          ],
          "scatter3d": [
           {
            "line": {
             "colorbar": {
              "outlinewidth": 0,
              "ticks": ""
             }
            },
            "marker": {
             "colorbar": {
              "outlinewidth": 0,
              "ticks": ""
             }
            },
            "type": "scatter3d"
           }
          ],
          "scattercarpet": [
           {
            "marker": {
             "colorbar": {
              "outlinewidth": 0,
              "ticks": ""
             }
            },
            "type": "scattercarpet"
           }
          ],
          "scattergeo": [
           {
            "marker": {
             "colorbar": {
              "outlinewidth": 0,
              "ticks": ""
             }
            },
            "type": "scattergeo"
           }
          ],
          "scattergl": [
           {
            "marker": {
             "colorbar": {
              "outlinewidth": 0,
              "ticks": ""
             }
            },
            "type": "scattergl"
           }
          ],
          "scattermapbox": [
           {
            "marker": {
             "colorbar": {
              "outlinewidth": 0,
              "ticks": ""
             }
            },
            "type": "scattermapbox"
           }
          ],
          "scatterpolar": [
           {
            "marker": {
             "colorbar": {
              "outlinewidth": 0,
              "ticks": ""
             }
            },
            "type": "scatterpolar"
           }
          ],
          "scatterpolargl": [
           {
            "marker": {
             "colorbar": {
              "outlinewidth": 0,
              "ticks": ""
             }
            },
            "type": "scatterpolargl"
           }
          ],
          "scatterternary": [
           {
            "marker": {
             "colorbar": {
              "outlinewidth": 0,
              "ticks": ""
             }
            },
            "type": "scatterternary"
           }
          ],
          "surface": [
           {
            "colorbar": {
             "outlinewidth": 0,
             "ticks": ""
            },
            "colorscale": [
             [
              0,
              "#0d0887"
             ],
             [
              0.1111111111111111,
              "#46039f"
             ],
             [
              0.2222222222222222,
              "#7201a8"
             ],
             [
              0.3333333333333333,
              "#9c179e"
             ],
             [
              0.4444444444444444,
              "#bd3786"
             ],
             [
              0.5555555555555556,
              "#d8576b"
             ],
             [
              0.6666666666666666,
              "#ed7953"
             ],
             [
              0.7777777777777778,
              "#fb9f3a"
             ],
             [
              0.8888888888888888,
              "#fdca26"
             ],
             [
              1,
              "#f0f921"
             ]
            ],
            "type": "surface"
           }
          ],
          "table": [
           {
            "cells": {
             "fill": {
              "color": "#EBF0F8"
             },
             "line": {
              "color": "white"
             }
            },
            "header": {
             "fill": {
              "color": "#C8D4E3"
             },
             "line": {
              "color": "white"
             }
            },
            "type": "table"
           }
          ]
         },
         "layout": {
          "annotationdefaults": {
           "arrowcolor": "#2a3f5f",
           "arrowhead": 0,
           "arrowwidth": 1
          },
          "autotypenumbers": "strict",
          "coloraxis": {
           "colorbar": {
            "outlinewidth": 0,
            "ticks": ""
           }
          },
          "colorscale": {
           "diverging": [
            [
             0,
             "#8e0152"
            ],
            [
             0.1,
             "#c51b7d"
            ],
            [
             0.2,
             "#de77ae"
            ],
            [
             0.3,
             "#f1b6da"
            ],
            [
             0.4,
             "#fde0ef"
            ],
            [
             0.5,
             "#f7f7f7"
            ],
            [
             0.6,
             "#e6f5d0"
            ],
            [
             0.7,
             "#b8e186"
            ],
            [
             0.8,
             "#7fbc41"
            ],
            [
             0.9,
             "#4d9221"
            ],
            [
             1,
             "#276419"
            ]
           ],
           "sequential": [
            [
             0,
             "#0d0887"
            ],
            [
             0.1111111111111111,
             "#46039f"
            ],
            [
             0.2222222222222222,
             "#7201a8"
            ],
            [
             0.3333333333333333,
             "#9c179e"
            ],
            [
             0.4444444444444444,
             "#bd3786"
            ],
            [
             0.5555555555555556,
             "#d8576b"
            ],
            [
             0.6666666666666666,
             "#ed7953"
            ],
            [
             0.7777777777777778,
             "#fb9f3a"
            ],
            [
             0.8888888888888888,
             "#fdca26"
            ],
            [
             1,
             "#f0f921"
            ]
           ],
           "sequentialminus": [
            [
             0,
             "#0d0887"
            ],
            [
             0.1111111111111111,
             "#46039f"
            ],
            [
             0.2222222222222222,
             "#7201a8"
            ],
            [
             0.3333333333333333,
             "#9c179e"
            ],
            [
             0.4444444444444444,
             "#bd3786"
            ],
            [
             0.5555555555555556,
             "#d8576b"
            ],
            [
             0.6666666666666666,
             "#ed7953"
            ],
            [
             0.7777777777777778,
             "#fb9f3a"
            ],
            [
             0.8888888888888888,
             "#fdca26"
            ],
            [
             1,
             "#f0f921"
            ]
           ]
          },
          "colorway": [
           "#636efa",
           "#EF553B",
           "#00cc96",
           "#ab63fa",
           "#FFA15A",
           "#19d3f3",
           "#FF6692",
           "#B6E880",
           "#FF97FF",
           "#FECB52"
          ],
          "font": {
           "color": "#2a3f5f"
          },
          "geo": {
           "bgcolor": "white",
           "lakecolor": "white",
           "landcolor": "#E5ECF6",
           "showlakes": true,
           "showland": true,
           "subunitcolor": "white"
          },
          "hoverlabel": {
           "align": "left"
          },
          "hovermode": "closest",
          "mapbox": {
           "style": "light"
          },
          "paper_bgcolor": "white",
          "plot_bgcolor": "#E5ECF6",
          "polar": {
           "angularaxis": {
            "gridcolor": "white",
            "linecolor": "white",
            "ticks": ""
           },
           "bgcolor": "#E5ECF6",
           "radialaxis": {
            "gridcolor": "white",
            "linecolor": "white",
            "ticks": ""
           }
          },
          "scene": {
           "xaxis": {
            "backgroundcolor": "#E5ECF6",
            "gridcolor": "white",
            "gridwidth": 2,
            "linecolor": "white",
            "showbackground": true,
            "ticks": "",
            "zerolinecolor": "white"
           },
           "yaxis": {
            "backgroundcolor": "#E5ECF6",
            "gridcolor": "white",
            "gridwidth": 2,
            "linecolor": "white",
            "showbackground": true,
            "ticks": "",
            "zerolinecolor": "white"
           },
           "zaxis": {
            "backgroundcolor": "#E5ECF6",
            "gridcolor": "white",
            "gridwidth": 2,
            "linecolor": "white",
            "showbackground": true,
            "ticks": "",
            "zerolinecolor": "white"
           }
          },
          "shapedefaults": {
           "line": {
            "color": "#2a3f5f"
           }
          },
          "ternary": {
           "aaxis": {
            "gridcolor": "white",
            "linecolor": "white",
            "ticks": ""
           },
           "baxis": {
            "gridcolor": "white",
            "linecolor": "white",
            "ticks": ""
           },
           "bgcolor": "#E5ECF6",
           "caxis": {
            "gridcolor": "white",
            "linecolor": "white",
            "ticks": ""
           }
          },
          "title": {
           "x": 0.05
          },
          "xaxis": {
           "automargin": true,
           "gridcolor": "white",
           "linecolor": "white",
           "ticks": "",
           "title": {
            "standoff": 15
           },
           "zerolinecolor": "white",
           "zerolinewidth": 2
          },
          "yaxis": {
           "automargin": true,
           "gridcolor": "white",
           "linecolor": "white",
           "ticks": "",
           "title": {
            "standoff": 15
           },
           "zerolinecolor": "white",
           "zerolinewidth": 2
          }
         }
        },
        "title": {
         "text": "Evolution of Movie Themes Over the Periods",
         "x": 0.5,
         "xanchor": "right"
        },
        "updatemenus": [
         {
          "buttons": [
           {
            "args": [],
            "label": "Select Theme"
           },
           {
            "args": [
             {
              "visible": [
               true,
               false,
               false,
               false,
               false,
               false,
               false,
               false,
               false,
               false,
               false,
               false,
               false
              ]
             },
             {
              "title": "Evolution of Action/Adventure/Thriller Movies Over the Periods"
             }
            ],
            "label": "Action/Adventure/Thriller",
            "method": "update"
           },
           {
            "args": [
             {
              "visible": [
               false,
               true,
               false,
               false,
               false,
               false,
               false,
               false,
               false,
               false,
               false,
               false,
               false
              ]
             },
             {
              "title": "Evolution of Comedy Movies Over the Periods"
             }
            ],
            "label": "Comedy",
            "method": "update"
           },
           {
            "args": [
             {
              "visible": [
               false,
               false,
               true,
               false,
               false,
               false,
               false,
               false,
               false,
               false,
               false,
               false,
               false
              ]
             },
             {
              "title": "Evolution of Drama/Mystery Movies Over the Periods"
             }
            ],
            "label": "Drama/Mystery",
            "method": "update"
           },
           {
            "args": [
             {
              "visible": [
               false,
               false,
               false,
               true,
               false,
               false,
               false,
               false,
               false,
               false,
               false,
               false,
               false
              ]
             },
             {
              "title": "Evolution of Romance Movies Over the Periods"
             }
            ],
            "label": "Romance",
            "method": "update"
           },
           {
            "args": [
             {
              "visible": [
               false,
               false,
               false,
               false,
               true,
               false,
               false,
               false,
               false,
               false,
               false,
               false,
               false
              ]
             },
             {
              "title": "Evolution of Horror/Crime Movies Over the Periods"
             }
            ],
            "label": "Horror/Crime",
            "method": "update"
           },
           {
            "args": [
             {
              "visible": [
               false,
               false,
               false,
               false,
               false,
               true,
               false,
               false,
               false,
               false,
               false,
               false,
               false
              ]
             },
             {
              "title": "Evolution of Science Fiction/Fantasy Movies Over the Periods"
             }
            ],
            "label": "Science Fiction/Fantasy",
            "method": "update"
           },
           {
            "args": [
             {
              "visible": [
               false,
               false,
               false,
               false,
               false,
               false,
               true,
               false,
               false,
               false,
               false,
               false,
               false
              ]
             },
             {
              "title": "Evolution of Animation/Family Movies Over the Periods"
             }
            ],
            "label": "Animation/Family",
            "method": "update"
           },
           {
            "args": [
             {
              "visible": [
               false,
               false,
               false,
               false,
               false,
               false,
               false,
               true,
               false,
               false,
               false,
               false,
               false
              ]
             },
             {
              "title": "Evolution of Historical/Biographical/Documentary Movies Over the Periods"
             }
            ],
            "label": "Historical/Biographical/Documentary",
            "method": "update"
           },
           {
            "args": [
             {
              "visible": [
               false,
               false,
               false,
               false,
               false,
               false,
               false,
               false,
               true,
               false,
               false,
               false,
               false
              ]
             },
             {
              "title": "Evolution of Short/Silent Movies Over the Periods"
             }
            ],
            "label": "Short/Silent",
            "method": "update"
           },
           {
            "args": [
             {
              "visible": [
               false,
               false,
               false,
               false,
               false,
               false,
               false,
               false,
               false,
               true,
               false,
               false,
               false
              ]
             },
             {
              "title": "Evolution of Black-and-White Movies Over the Periods"
             }
            ],
            "label": "Black-and-White",
            "method": "update"
           },
           {
            "args": [
             {
              "visible": [
               false,
               false,
               false,
               false,
               false,
               false,
               false,
               false,
               false,
               false,
               true,
               false,
               false
              ]
             },
             {
              "title": "Evolution of Independent/Experimental/LGBT Movies Over the Periods"
             }
            ],
            "label": "Independent/Experimental/LGBT",
            "method": "update"
           },
           {
            "args": [
             {
              "visible": [
               false,
               false,
               false,
               false,
               false,
               false,
               false,
               false,
               false,
               false,
               false,
               true,
               false
              ]
             },
             {
              "title": "Evolution of Musical Movies Over the Periods"
             }
            ],
            "label": "Musical",
            "method": "update"
           },
           {
            "args": [
             {
              "visible": [
               false,
               false,
               false,
               false,
               false,
               false,
               false,
               false,
               false,
               false,
               false,
               false,
               true
              ]
             },
             {
              "title": "Evolution of Other Movies Over the Periods"
             }
            ],
            "label": "Other",
            "method": "update"
           }
          ],
          "type": "dropdown",
          "x": 1.214,
          "xanchor": "center",
          "y": 1.2,
          "yanchor": "top"
         },
         {
          "buttons": [
           {
            "args": [
             {
              "visible": [
               true,
               true,
               true,
               true,
               true,
               true,
               true,
               true,
               true,
               true,
               true,
               true,
               true
              ]
             },
             {
              "title": "Evolution of Movie Themes Over the Periods"
             }
            ],
            "label": "Show All",
            "method": "update"
           }
          ],
          "type": "buttons",
          "x": 1.005,
          "xanchor": "left",
          "y": 1.3,
          "yanchor": "middle"
         }
        ],
        "width": 1000,
        "xaxis": {
         "title": {
          "text": "Period"
         }
        },
        "yaxis": {
         "title": {
          "text": "Proportion of Movies"
         }
        }
       }
      }
     },
     "metadata": {},
     "output_type": "display_data"
    }
   ],
   "source": [
    "# Create an empty figure\n",
    "fig = go.Figure()\n",
    "\n",
    "# Add each theme as a trace\n",
    "for theme in normalized_theme_periods_counts.columns:\n",
    "    fig.add_trace(go.Bar(\n",
    "        x=normalized_theme_periods_counts.index,\n",
    "        y=normalized_theme_periods_counts[theme],\n",
    "        name=theme, \n",
    "        marker_color=theme_colors.get(theme, 'gray'),\n",
    "        hovertemplate='Period: %{x}<br>' + 'Theme proportion: %{y}<br>',\n",
    "    ))\n",
    "\n",
    "# Add buttons for hide/show functionality\n",
    "visibility = [[True if i == idx else False for i in range(len(themes))]\n",
    "              for idx in range(len(themes))]\n",
    "\n",
    "# Define \"Select Theme\" button\n",
    "select_theme_button = dict(\n",
    "    label=\"Select Theme\",\n",
    "    method=None,\n",
    "    args=[]\n",
    ")\n",
    "\n",
    "theme_buttons = [\n",
    "    dict(\n",
    "        label=theme,\n",
    "        method=\"update\",\n",
    "        args=[\n",
    "            {\"visible\": vis},  # Update visibility\n",
    "            {\"title\": f\"Evolution of {theme} Movies Over the Periods\"}  # Update title\n",
    "        ]\n",
    "    )\n",
    "    for theme, vis in zip(themes, visibility)\n",
    "]\n",
    "\n",
    "\n",
    "# Combine \"Select Theme\" and theme-specific buttons\n",
    "buttons = [select_theme_button] + theme_buttons\n",
    "\n",
    "# Dropdown menu for individual themes\n",
    "dropdown_menu = dict(\n",
    "    type=\"dropdown\",\n",
    "    buttons=buttons,\n",
    "    x=1.214,\n",
    "    xanchor=\"center\",\n",
    "    y=1.2,\n",
    "    yanchor=\"top\",\n",
    ")\n",
    "\n",
    "# Button for \"Show All\" placed on the side\n",
    "side_button = dict(\n",
    "    type=\"buttons\",\n",
    "    buttons=[\n",
    "        dict(\n",
    "            label=\"Show All\",\n",
    "            method=\"update\",\n",
    "            args=[\n",
    "                {\"visible\": [True] * len(themes)},\n",
    "                {\"title\": \"Evolution of Movie Themes Over the Periods\"}\n",
    "            ]\n",
    "        )\n",
    "    ],\n",
    "    x=1.005,  # Adjust position to place on the side\n",
    "    xanchor=\"left\",\n",
    "    y=1.3,\n",
    "    yanchor=\"middle\",\n",
    ")\n",
    "\n",
    "fig.update_layout(\n",
    "    updatemenus=[dropdown_menu, side_button],\n",
    "    title={\n",
    "        'text': 'Evolution of Movie Themes Over the Periods',\n",
    "        'x': 0.5,\n",
    "        'xanchor': 'right'\n",
    "    },\n",
    "    barmode='stack',\n",
    "    xaxis_title=\"Period\",\n",
    "    yaxis_title=\"Proportion of Movies\",\n",
    "    legend_title=\"Themes\",\n",
    "    height=500,\n",
    "    width=1000,\n",
    ")\n",
    "\n",
    "fig.show()\n",
    "fig.write_html('/Users/lilly-flore/Desktop/bar_theme_period.html')"
   ]
  },
  {
   "cell_type": "markdown",
   "metadata": {},
   "source": [
    "This interactive heatmap visualizes correlations between periods, highlighting the top 3 themes contributing to each relationship through hover text."
   ]
  },
  {
   "cell_type": "code",
   "execution_count": null,
   "metadata": {},
   "outputs": [
    {
     "data": {
      "application/vnd.plotly.v1+json": {
       "config": {
        "plotlyServerURL": "https://plot.ly"
       },
       "data": [
        {
         "colorbar": {
          "title": {
           "text": "Correlation"
          }
         },
         "colorscale": [
          [
           0,
           "#440154"
          ],
          [
           0.1111111111111111,
           "#482878"
          ],
          [
           0.2222222222222222,
           "#3e4989"
          ],
          [
           0.3333333333333333,
           "#31688e"
          ],
          [
           0.4444444444444444,
           "#26828e"
          ],
          [
           0.5555555555555556,
           "#1f9e89"
          ],
          [
           0.6666666666666666,
           "#35b779"
          ],
          [
           0.7777777777777778,
           "#6ece58"
          ],
          [
           0.8888888888888888,
           "#b5de2b"
          ],
          [
           1,
           "#fde725"
          ]
         ],
         "hoverinfo": "text",
         "text": [
          [
           "Top 3 themes: Animation/Family, Action/Adventure/Thriller, Black-and-White",
           "Top 3 themes: Animation/Family, Action/Adventure/Thriller, Black-and-White",
           "Top 3 themes: Animation/Family, Action/Adventure/Thriller, Black-and-White",
           "Top 3 themes: Animation/Family, Action/Adventure/Thriller, Black-and-White",
           "Top 3 themes: Animation/Family, Action/Adventure/Thriller, Black-and-White",
           "Top 3 themes: Animation/Family, Action/Adventure/Thriller, Black-and-White",
           "Top 3 themes: Animation/Family, Action/Adventure/Thriller, Black-and-White",
           "Top 3 themes: Animation/Family, Action/Adventure/Thriller, Black-and-White",
           "Top 3 themes: Animation/Family, Action/Adventure/Thriller, Black-and-White",
           "Top 3 themes: Animation/Family, Action/Adventure/Thriller, Black-and-White",
           "Top 3 themes: Animation/Family, Action/Adventure/Thriller, Black-and-White"
          ],
          [
           "Top 3 themes: Animation/Family, Action/Adventure/Thriller, Black-and-White",
           "Top 3 themes: Animation/Family, Action/Adventure/Thriller, Black-and-White",
           "Top 3 themes: Animation/Family, Action/Adventure/Thriller, Black-and-White",
           "Top 3 themes: Animation/Family, Action/Adventure/Thriller, Black-and-White",
           "Top 3 themes: Animation/Family, Action/Adventure/Thriller, Black-and-White",
           "Top 3 themes: Animation/Family, Action/Adventure/Thriller, Black-and-White",
           "Top 3 themes: Animation/Family, Action/Adventure/Thriller, Black-and-White",
           "Top 3 themes: Animation/Family, Action/Adventure/Thriller, Black-and-White",
           "Top 3 themes: Animation/Family, Action/Adventure/Thriller, Black-and-White",
           "Top 3 themes: Animation/Family, Action/Adventure/Thriller, Black-and-White",
           "Top 3 themes: Animation/Family, Action/Adventure/Thriller, Black-and-White"
          ],
          [
           "Top 3 themes: Romance, Musical, Independent/Experimental/LGBT",
           "Top 3 themes: Romance, Musical, Independent/Experimental/LGBT",
           "Top 3 themes: Romance, Musical, Independent/Experimental/LGBT",
           "Top 3 themes: Romance, Musical, Independent/Experimental/LGBT",
           "Top 3 themes: Romance, Musical, Independent/Experimental/LGBT",
           "Top 3 themes: Romance, Musical, Independent/Experimental/LGBT",
           "Top 3 themes: Romance, Musical, Independent/Experimental/LGBT",
           "Top 3 themes: Romance, Musical, Independent/Experimental/LGBT",
           "Top 3 themes: Romance, Musical, Independent/Experimental/LGBT",
           "Top 3 themes: Romance, Musical, Independent/Experimental/LGBT",
           "Top 3 themes: Romance, Musical, Independent/Experimental/LGBT"
          ],
          [
           "Top 3 themes: Action/Adventure/Thriller, Black-and-White, Historical/Biographical/Documentary",
           "Top 3 themes: Action/Adventure/Thriller, Black-and-White, Historical/Biographical/Documentary",
           "Top 3 themes: Action/Adventure/Thriller, Black-and-White, Historical/Biographical/Documentary",
           "Top 3 themes: Action/Adventure/Thriller, Black-and-White, Historical/Biographical/Documentary",
           "Top 3 themes: Action/Adventure/Thriller, Black-and-White, Historical/Biographical/Documentary",
           "Top 3 themes: Action/Adventure/Thriller, Black-and-White, Historical/Biographical/Documentary",
           "Top 3 themes: Action/Adventure/Thriller, Black-and-White, Historical/Biographical/Documentary",
           "Top 3 themes: Action/Adventure/Thriller, Black-and-White, Historical/Biographical/Documentary",
           "Top 3 themes: Action/Adventure/Thriller, Black-and-White, Historical/Biographical/Documentary",
           "Top 3 themes: Action/Adventure/Thriller, Black-and-White, Historical/Biographical/Documentary",
           "Top 3 themes: Action/Adventure/Thriller, Black-and-White, Historical/Biographical/Documentary"
          ],
          [
           "Top 3 themes: Animation/Family, Black-and-White, Drama/Mystery",
           "Top 3 themes: Animation/Family, Black-and-White, Drama/Mystery",
           "Top 3 themes: Animation/Family, Black-and-White, Drama/Mystery",
           "Top 3 themes: Animation/Family, Black-and-White, Drama/Mystery",
           "Top 3 themes: Animation/Family, Black-and-White, Drama/Mystery",
           "Top 3 themes: Animation/Family, Black-and-White, Drama/Mystery",
           "Top 3 themes: Animation/Family, Black-and-White, Drama/Mystery",
           "Top 3 themes: Animation/Family, Black-and-White, Drama/Mystery",
           "Top 3 themes: Animation/Family, Black-and-White, Drama/Mystery",
           "Top 3 themes: Animation/Family, Black-and-White, Drama/Mystery",
           "Top 3 themes: Animation/Family, Black-and-White, Drama/Mystery"
          ],
          [
           "Top 3 themes: Animation/Family, Black-and-White, Action/Adventure/Thriller",
           "Top 3 themes: Animation/Family, Black-and-White, Action/Adventure/Thriller",
           "Top 3 themes: Animation/Family, Black-and-White, Action/Adventure/Thriller",
           "Top 3 themes: Animation/Family, Black-and-White, Action/Adventure/Thriller",
           "Top 3 themes: Animation/Family, Black-and-White, Action/Adventure/Thriller",
           "Top 3 themes: Animation/Family, Black-and-White, Action/Adventure/Thriller",
           "Top 3 themes: Animation/Family, Black-and-White, Action/Adventure/Thriller",
           "Top 3 themes: Animation/Family, Black-and-White, Action/Adventure/Thriller",
           "Top 3 themes: Animation/Family, Black-and-White, Action/Adventure/Thriller",
           "Top 3 themes: Animation/Family, Black-and-White, Action/Adventure/Thriller",
           "Top 3 themes: Animation/Family, Black-and-White, Action/Adventure/Thriller"
          ],
          [
           "Top 3 themes: Animation/Family, Action/Adventure/Thriller, Black-and-White",
           "Top 3 themes: Animation/Family, Action/Adventure/Thriller, Black-and-White",
           "Top 3 themes: Animation/Family, Action/Adventure/Thriller, Black-and-White",
           "Top 3 themes: Animation/Family, Action/Adventure/Thriller, Black-and-White",
           "Top 3 themes: Animation/Family, Action/Adventure/Thriller, Black-and-White",
           "Top 3 themes: Animation/Family, Action/Adventure/Thriller, Black-and-White",
           "Top 3 themes: Animation/Family, Action/Adventure/Thriller, Black-and-White",
           "Top 3 themes: Animation/Family, Action/Adventure/Thriller, Black-and-White",
           "Top 3 themes: Animation/Family, Action/Adventure/Thriller, Black-and-White",
           "Top 3 themes: Animation/Family, Action/Adventure/Thriller, Black-and-White",
           "Top 3 themes: Animation/Family, Action/Adventure/Thriller, Black-and-White"
          ],
          [
           "Top 3 themes: Drama/Mystery, Comedy, Historical/Biographical/Documentary",
           "Top 3 themes: Drama/Mystery, Comedy, Historical/Biographical/Documentary",
           "Top 3 themes: Drama/Mystery, Comedy, Historical/Biographical/Documentary",
           "Top 3 themes: Drama/Mystery, Comedy, Historical/Biographical/Documentary",
           "Top 3 themes: Drama/Mystery, Comedy, Historical/Biographical/Documentary",
           "Top 3 themes: Drama/Mystery, Comedy, Historical/Biographical/Documentary",
           "Top 3 themes: Drama/Mystery, Comedy, Historical/Biographical/Documentary",
           "Top 3 themes: Drama/Mystery, Comedy, Historical/Biographical/Documentary",
           "Top 3 themes: Drama/Mystery, Comedy, Historical/Biographical/Documentary",
           "Top 3 themes: Drama/Mystery, Comedy, Historical/Biographical/Documentary",
           "Top 3 themes: Drama/Mystery, Comedy, Historical/Biographical/Documentary"
          ],
          [
           "Top 3 themes: Animation/Family, Action/Adventure/Thriller, Black-and-White",
           "Top 3 themes: Animation/Family, Action/Adventure/Thriller, Black-and-White",
           "Top 3 themes: Animation/Family, Action/Adventure/Thriller, Black-and-White",
           "Top 3 themes: Animation/Family, Action/Adventure/Thriller, Black-and-White",
           "Top 3 themes: Animation/Family, Action/Adventure/Thriller, Black-and-White",
           "Top 3 themes: Animation/Family, Action/Adventure/Thriller, Black-and-White",
           "Top 3 themes: Animation/Family, Action/Adventure/Thriller, Black-and-White",
           "Top 3 themes: Animation/Family, Action/Adventure/Thriller, Black-and-White",
           "Top 3 themes: Animation/Family, Action/Adventure/Thriller, Black-and-White",
           "Top 3 themes: Animation/Family, Action/Adventure/Thriller, Black-and-White",
           "Top 3 themes: Animation/Family, Action/Adventure/Thriller, Black-and-White"
          ],
          [
           "Top 3 themes: Animation/Family, Action/Adventure/Thriller, Black-and-White",
           "Top 3 themes: Animation/Family, Action/Adventure/Thriller, Black-and-White",
           "Top 3 themes: Animation/Family, Action/Adventure/Thriller, Black-and-White",
           "Top 3 themes: Animation/Family, Action/Adventure/Thriller, Black-and-White",
           "Top 3 themes: Animation/Family, Action/Adventure/Thriller, Black-and-White",
           "Top 3 themes: Animation/Family, Action/Adventure/Thriller, Black-and-White",
           "Top 3 themes: Animation/Family, Action/Adventure/Thriller, Black-and-White",
           "Top 3 themes: Animation/Family, Action/Adventure/Thriller, Black-and-White",
           "Top 3 themes: Animation/Family, Action/Adventure/Thriller, Black-and-White",
           "Top 3 themes: Animation/Family, Action/Adventure/Thriller, Black-and-White",
           "Top 3 themes: Animation/Family, Action/Adventure/Thriller, Black-and-White"
          ],
          [
           "Top 3 themes: Animation/Family, Action/Adventure/Thriller, Black-and-White",
           "Top 3 themes: Animation/Family, Action/Adventure/Thriller, Black-and-White",
           "Top 3 themes: Animation/Family, Action/Adventure/Thriller, Black-and-White",
           "Top 3 themes: Animation/Family, Action/Adventure/Thriller, Black-and-White",
           "Top 3 themes: Animation/Family, Action/Adventure/Thriller, Black-and-White",
           "Top 3 themes: Animation/Family, Action/Adventure/Thriller, Black-and-White",
           "Top 3 themes: Animation/Family, Action/Adventure/Thriller, Black-and-White",
           "Top 3 themes: Animation/Family, Action/Adventure/Thriller, Black-and-White",
           "Top 3 themes: Animation/Family, Action/Adventure/Thriller, Black-and-White",
           "Top 3 themes: Animation/Family, Action/Adventure/Thriller, Black-and-White",
           "Top 3 themes: Animation/Family, Action/Adventure/Thriller, Black-and-White"
          ]
         ],
         "type": "heatmap",
         "x": [
          "The Belle Époque (1900-1914)",
          "World War I (1914-1918)",
          "The Roaring Twenties (1920-1929)",
          "The Great Depression (1929-1939)",
          "World War II (1939-1945)",
          "Early Cold War (1947-1960)",
          "The Civil Rights Movement (1960-1970)",
          "Late Cold War (1971-1989)",
          "End of the Cold War (1990-1991)",
          "Post-Cold War and the New World Order (1992-2001)",
          "War on Terrorism (2001-present)"
         ],
         "y": [
          "The Belle Époque (1900-1914)",
          "World War I (1914-1918)",
          "The Roaring Twenties (1920-1929)",
          "The Great Depression (1929-1939)",
          "World War II (1939-1945)",
          "Early Cold War (1947-1960)",
          "The Civil Rights Movement (1960-1970)",
          "Late Cold War (1971-1989)",
          "End of the Cold War (1990-1991)",
          "Post-Cold War and the New World Order (1992-2001)",
          "War on Terrorism (2001-present)"
         ],
         "z": [
          [
           1,
           0.9754439259998289,
           0.9741991222430146,
           0.40298149095930164,
           0.24073445284843387,
           0.01692697969974312,
           -0.11182508490878938,
           -0.25099112781125676,
           -0.26529172976757237,
           -0.23932873227078497,
           -0.23730629343561327
          ],
          [
           0.9754439259998289,
           1,
           0.9720825759633749,
           0.4086424791516165,
           0.24269304429086633,
           -0.02088999013205981,
           -0.15049909977433715,
           -0.289415914957389,
           -0.2958392139898248,
           -0.2744711850562457,
           -0.27612185577229553
          ],
          [
           0.9741991222430146,
           0.9720825759633749,
           1,
           0.47797447123612546,
           0.3434103757134961,
           0.11242918395334106,
           -0.0376284554445041,
           -0.20282704531950765,
           -0.20953784703478537,
           -0.20045830243198967,
           -0.21422231354977486
          ],
          [
           0.40298149095930164,
           0.4086424791516165,
           0.47797447123612546,
           1,
           0.9358072830756796,
           0.7569107243646768,
           0.519291218401609,
           0.3225701210044094,
           0.30483164723996903,
           0.3020905078304114,
           0.20511690055169535
          ],
          [
           0.24073445284843387,
           0.24269304429086633,
           0.3434103757134961,
           0.9358072830756796,
           1,
           0.9055818277364243,
           0.7054777907032499,
           0.5443390679504336,
           0.5356453238598629,
           0.5120201084369338,
           0.42333495644256713
          ],
          [
           0.01692697969974312,
           -0.02088999013205981,
           0.11242918395334106,
           0.7569107243646768,
           0.9055818277364243,
           1,
           0.9220960277039228,
           0.8172605721471558,
           0.8044590470440137,
           0.7889040819143506,
           0.7104329847106355
          ],
          [
           -0.11182508490878938,
           -0.15049909977433715,
           -0.0376284554445041,
           0.519291218401609,
           0.7054777907032499,
           0.9220960277039228,
           1,
           0.953596657886728,
           0.942136945254139,
           0.9451829623285778,
           0.9024483442795523
          ],
          [
           -0.25099112781125676,
           -0.289415914957389,
           -0.20282704531950765,
           0.3225701210044094,
           0.5443390679504336,
           0.8172605721471558,
           0.953596657886728,
           1,
           0.9950331688654888,
           0.9926373653586283,
           0.9701422486370568
          ],
          [
           -0.26529172976757237,
           -0.2958392139898248,
           -0.20953784703478537,
           0.30483164723996903,
           0.5356453238598629,
           0.8044590470440137,
           0.942136945254139,
           0.9950331688654888,
           1,
           0.990073888595883,
           0.9649951265476301
          ],
          [
           -0.23932873227078497,
           -0.2744711850562457,
           -0.20045830243198967,
           0.3020905078304114,
           0.5120201084369338,
           0.7889040819143506,
           0.9451829623285778,
           0.9926373653586283,
           0.990073888595883,
           1,
           0.9844837941911416
          ],
          [
           -0.23730629343561327,
           -0.27612185577229553,
           -0.21422231354977486,
           0.20511690055169535,
           0.42333495644256713,
           0.7104329847106355,
           0.9024483442795523,
           0.9701422486370568,
           0.9649951265476301,
           0.9844837941911416,
           1
          ]
         ]
        }
       ],
       "layout": {
        "height": 800,
        "template": {
         "data": {
          "bar": [
           {
            "error_x": {
             "color": "#2a3f5f"
            },
            "error_y": {
             "color": "#2a3f5f"
            },
            "marker": {
             "line": {
              "color": "#E5ECF6",
              "width": 0.5
             },
             "pattern": {
              "fillmode": "overlay",
              "size": 10,
              "solidity": 0.2
             }
            },
            "type": "bar"
           }
          ],
          "barpolar": [
           {
            "marker": {
             "line": {
              "color": "#E5ECF6",
              "width": 0.5
             },
             "pattern": {
              "fillmode": "overlay",
              "size": 10,
              "solidity": 0.2
             }
            },
            "type": "barpolar"
           }
          ],
          "carpet": [
           {
            "aaxis": {
             "endlinecolor": "#2a3f5f",
             "gridcolor": "white",
             "linecolor": "white",
             "minorgridcolor": "white",
             "startlinecolor": "#2a3f5f"
            },
            "baxis": {
             "endlinecolor": "#2a3f5f",
             "gridcolor": "white",
             "linecolor": "white",
             "minorgridcolor": "white",
             "startlinecolor": "#2a3f5f"
            },
            "type": "carpet"
           }
          ],
          "choropleth": [
           {
            "colorbar": {
             "outlinewidth": 0,
             "ticks": ""
            },
            "type": "choropleth"
           }
          ],
          "contour": [
           {
            "colorbar": {
             "outlinewidth": 0,
             "ticks": ""
            },
            "colorscale": [
             [
              0,
              "#0d0887"
             ],
             [
              0.1111111111111111,
              "#46039f"
             ],
             [
              0.2222222222222222,
              "#7201a8"
             ],
             [
              0.3333333333333333,
              "#9c179e"
             ],
             [
              0.4444444444444444,
              "#bd3786"
             ],
             [
              0.5555555555555556,
              "#d8576b"
             ],
             [
              0.6666666666666666,
              "#ed7953"
             ],
             [
              0.7777777777777778,
              "#fb9f3a"
             ],
             [
              0.8888888888888888,
              "#fdca26"
             ],
             [
              1,
              "#f0f921"
             ]
            ],
            "type": "contour"
           }
          ],
          "contourcarpet": [
           {
            "colorbar": {
             "outlinewidth": 0,
             "ticks": ""
            },
            "type": "contourcarpet"
           }
          ],
          "heatmap": [
           {
            "colorbar": {
             "outlinewidth": 0,
             "ticks": ""
            },
            "colorscale": [
             [
              0,
              "#0d0887"
             ],
             [
              0.1111111111111111,
              "#46039f"
             ],
             [
              0.2222222222222222,
              "#7201a8"
             ],
             [
              0.3333333333333333,
              "#9c179e"
             ],
             [
              0.4444444444444444,
              "#bd3786"
             ],
             [
              0.5555555555555556,
              "#d8576b"
             ],
             [
              0.6666666666666666,
              "#ed7953"
             ],
             [
              0.7777777777777778,
              "#fb9f3a"
             ],
             [
              0.8888888888888888,
              "#fdca26"
             ],
             [
              1,
              "#f0f921"
             ]
            ],
            "type": "heatmap"
           }
          ],
          "heatmapgl": [
           {
            "colorbar": {
             "outlinewidth": 0,
             "ticks": ""
            },
            "colorscale": [
             [
              0,
              "#0d0887"
             ],
             [
              0.1111111111111111,
              "#46039f"
             ],
             [
              0.2222222222222222,
              "#7201a8"
             ],
             [
              0.3333333333333333,
              "#9c179e"
             ],
             [
              0.4444444444444444,
              "#bd3786"
             ],
             [
              0.5555555555555556,
              "#d8576b"
             ],
             [
              0.6666666666666666,
              "#ed7953"
             ],
             [
              0.7777777777777778,
              "#fb9f3a"
             ],
             [
              0.8888888888888888,
              "#fdca26"
             ],
             [
              1,
              "#f0f921"
             ]
            ],
            "type": "heatmapgl"
           }
          ],
          "histogram": [
           {
            "marker": {
             "pattern": {
              "fillmode": "overlay",
              "size": 10,
              "solidity": 0.2
             }
            },
            "type": "histogram"
           }
          ],
          "histogram2d": [
           {
            "colorbar": {
             "outlinewidth": 0,
             "ticks": ""
            },
            "colorscale": [
             [
              0,
              "#0d0887"
             ],
             [
              0.1111111111111111,
              "#46039f"
             ],
             [
              0.2222222222222222,
              "#7201a8"
             ],
             [
              0.3333333333333333,
              "#9c179e"
             ],
             [
              0.4444444444444444,
              "#bd3786"
             ],
             [
              0.5555555555555556,
              "#d8576b"
             ],
             [
              0.6666666666666666,
              "#ed7953"
             ],
             [
              0.7777777777777778,
              "#fb9f3a"
             ],
             [
              0.8888888888888888,
              "#fdca26"
             ],
             [
              1,
              "#f0f921"
             ]
            ],
            "type": "histogram2d"
           }
          ],
          "histogram2dcontour": [
           {
            "colorbar": {
             "outlinewidth": 0,
             "ticks": ""
            },
            "colorscale": [
             [
              0,
              "#0d0887"
             ],
             [
              0.1111111111111111,
              "#46039f"
             ],
             [
              0.2222222222222222,
              "#7201a8"
             ],
             [
              0.3333333333333333,
              "#9c179e"
             ],
             [
              0.4444444444444444,
              "#bd3786"
             ],
             [
              0.5555555555555556,
              "#d8576b"
             ],
             [
              0.6666666666666666,
              "#ed7953"
             ],
             [
              0.7777777777777778,
              "#fb9f3a"
             ],
             [
              0.8888888888888888,
              "#fdca26"
             ],
             [
              1,
              "#f0f921"
             ]
            ],
            "type": "histogram2dcontour"
           }
          ],
          "mesh3d": [
           {
            "colorbar": {
             "outlinewidth": 0,
             "ticks": ""
            },
            "type": "mesh3d"
           }
          ],
          "parcoords": [
           {
            "line": {
             "colorbar": {
              "outlinewidth": 0,
              "ticks": ""
             }
            },
            "type": "parcoords"
           }
          ],
          "pie": [
           {
            "automargin": true,
            "type": "pie"
           }
          ],
          "scatter": [
           {
            "fillpattern": {
             "fillmode": "overlay",
             "size": 10,
             "solidity": 0.2
            },
            "type": "scatter"
           }
          ],
          "scatter3d": [
           {
            "line": {
             "colorbar": {
              "outlinewidth": 0,
              "ticks": ""
             }
            },
            "marker": {
             "colorbar": {
              "outlinewidth": 0,
              "ticks": ""
             }
            },
            "type": "scatter3d"
           }
          ],
          "scattercarpet": [
           {
            "marker": {
             "colorbar": {
              "outlinewidth": 0,
              "ticks": ""
             }
            },
            "type": "scattercarpet"
           }
          ],
          "scattergeo": [
           {
            "marker": {
             "colorbar": {
              "outlinewidth": 0,
              "ticks": ""
             }
            },
            "type": "scattergeo"
           }
          ],
          "scattergl": [
           {
            "marker": {
             "colorbar": {
              "outlinewidth": 0,
              "ticks": ""
             }
            },
            "type": "scattergl"
           }
          ],
          "scattermapbox": [
           {
            "marker": {
             "colorbar": {
              "outlinewidth": 0,
              "ticks": ""
             }
            },
            "type": "scattermapbox"
           }
          ],
          "scatterpolar": [
           {
            "marker": {
             "colorbar": {
              "outlinewidth": 0,
              "ticks": ""
             }
            },
            "type": "scatterpolar"
           }
          ],
          "scatterpolargl": [
           {
            "marker": {
             "colorbar": {
              "outlinewidth": 0,
              "ticks": ""
             }
            },
            "type": "scatterpolargl"
           }
          ],
          "scatterternary": [
           {
            "marker": {
             "colorbar": {
              "outlinewidth": 0,
              "ticks": ""
             }
            },
            "type": "scatterternary"
           }
          ],
          "surface": [
           {
            "colorbar": {
             "outlinewidth": 0,
             "ticks": ""
            },
            "colorscale": [
             [
              0,
              "#0d0887"
             ],
             [
              0.1111111111111111,
              "#46039f"
             ],
             [
              0.2222222222222222,
              "#7201a8"
             ],
             [
              0.3333333333333333,
              "#9c179e"
             ],
             [
              0.4444444444444444,
              "#bd3786"
             ],
             [
              0.5555555555555556,
              "#d8576b"
             ],
             [
              0.6666666666666666,
              "#ed7953"
             ],
             [
              0.7777777777777778,
              "#fb9f3a"
             ],
             [
              0.8888888888888888,
              "#fdca26"
             ],
             [
              1,
              "#f0f921"
             ]
            ],
            "type": "surface"
           }
          ],
          "table": [
           {
            "cells": {
             "fill": {
              "color": "#EBF0F8"
             },
             "line": {
              "color": "white"
             }
            },
            "header": {
             "fill": {
              "color": "#C8D4E3"
             },
             "line": {
              "color": "white"
             }
            },
            "type": "table"
           }
          ]
         },
         "layout": {
          "annotationdefaults": {
           "arrowcolor": "#2a3f5f",
           "arrowhead": 0,
           "arrowwidth": 1
          },
          "autotypenumbers": "strict",
          "coloraxis": {
           "colorbar": {
            "outlinewidth": 0,
            "ticks": ""
           }
          },
          "colorscale": {
           "diverging": [
            [
             0,
             "#8e0152"
            ],
            [
             0.1,
             "#c51b7d"
            ],
            [
             0.2,
             "#de77ae"
            ],
            [
             0.3,
             "#f1b6da"
            ],
            [
             0.4,
             "#fde0ef"
            ],
            [
             0.5,
             "#f7f7f7"
            ],
            [
             0.6,
             "#e6f5d0"
            ],
            [
             0.7,
             "#b8e186"
            ],
            [
             0.8,
             "#7fbc41"
            ],
            [
             0.9,
             "#4d9221"
            ],
            [
             1,
             "#276419"
            ]
           ],
           "sequential": [
            [
             0,
             "#0d0887"
            ],
            [
             0.1111111111111111,
             "#46039f"
            ],
            [
             0.2222222222222222,
             "#7201a8"
            ],
            [
             0.3333333333333333,
             "#9c179e"
            ],
            [
             0.4444444444444444,
             "#bd3786"
            ],
            [
             0.5555555555555556,
             "#d8576b"
            ],
            [
             0.6666666666666666,
             "#ed7953"
            ],
            [
             0.7777777777777778,
             "#fb9f3a"
            ],
            [
             0.8888888888888888,
             "#fdca26"
            ],
            [
             1,
             "#f0f921"
            ]
           ],
           "sequentialminus": [
            [
             0,
             "#0d0887"
            ],
            [
             0.1111111111111111,
             "#46039f"
            ],
            [
             0.2222222222222222,
             "#7201a8"
            ],
            [
             0.3333333333333333,
             "#9c179e"
            ],
            [
             0.4444444444444444,
             "#bd3786"
            ],
            [
             0.5555555555555556,
             "#d8576b"
            ],
            [
             0.6666666666666666,
             "#ed7953"
            ],
            [
             0.7777777777777778,
             "#fb9f3a"
            ],
            [
             0.8888888888888888,
             "#fdca26"
            ],
            [
             1,
             "#f0f921"
            ]
           ]
          },
          "colorway": [
           "#636efa",
           "#EF553B",
           "#00cc96",
           "#ab63fa",
           "#FFA15A",
           "#19d3f3",
           "#FF6692",
           "#B6E880",
           "#FF97FF",
           "#FECB52"
          ],
          "font": {
           "color": "#2a3f5f"
          },
          "geo": {
           "bgcolor": "white",
           "lakecolor": "white",
           "landcolor": "#E5ECF6",
           "showlakes": true,
           "showland": true,
           "subunitcolor": "white"
          },
          "hoverlabel": {
           "align": "left"
          },
          "hovermode": "closest",
          "mapbox": {
           "style": "light"
          },
          "paper_bgcolor": "white",
          "plot_bgcolor": "#E5ECF6",
          "polar": {
           "angularaxis": {
            "gridcolor": "white",
            "linecolor": "white",
            "ticks": ""
           },
           "bgcolor": "#E5ECF6",
           "radialaxis": {
            "gridcolor": "white",
            "linecolor": "white",
            "ticks": ""
           }
          },
          "scene": {
           "xaxis": {
            "backgroundcolor": "#E5ECF6",
            "gridcolor": "white",
            "gridwidth": 2,
            "linecolor": "white",
            "showbackground": true,
            "ticks": "",
            "zerolinecolor": "white"
           },
           "yaxis": {
            "backgroundcolor": "#E5ECF6",
            "gridcolor": "white",
            "gridwidth": 2,
            "linecolor": "white",
            "showbackground": true,
            "ticks": "",
            "zerolinecolor": "white"
           },
           "zaxis": {
            "backgroundcolor": "#E5ECF6",
            "gridcolor": "white",
            "gridwidth": 2,
            "linecolor": "white",
            "showbackground": true,
            "ticks": "",
            "zerolinecolor": "white"
           }
          },
          "shapedefaults": {
           "line": {
            "color": "#2a3f5f"
           }
          },
          "ternary": {
           "aaxis": {
            "gridcolor": "white",
            "linecolor": "white",
            "ticks": ""
           },
           "baxis": {
            "gridcolor": "white",
            "linecolor": "white",
            "ticks": ""
           },
           "bgcolor": "#E5ECF6",
           "caxis": {
            "gridcolor": "white",
            "linecolor": "white",
            "ticks": ""
           }
          },
          "title": {
           "x": 0.05
          },
          "xaxis": {
           "automargin": true,
           "gridcolor": "white",
           "linecolor": "white",
           "ticks": "",
           "title": {
            "standoff": 15
           },
           "zerolinecolor": "white",
           "zerolinewidth": 2
          },
          "yaxis": {
           "automargin": true,
           "gridcolor": "white",
           "linecolor": "white",
           "ticks": "",
           "title": {
            "standoff": 15
           },
           "zerolinecolor": "white",
           "zerolinewidth": 2
          }
         }
        },
        "title": {
         "text": "Interactive Correlation Matrix Between Periods",
         "x": 0.5,
         "xanchor": "center"
        },
        "width": 1000,
        "xaxis": {
         "tickangle": 45
        }
       }
      }
     },
     "metadata": {},
     "output_type": "display_data"
    }
   ],
   "source": [
    "# Transpose the normalized theme periods counts\n",
    "periods_themes = normalized_theme_periods_counts.T\n",
    "# Calculate the correlation matrix\n",
    "correlation_matrix = periods_themes.corr()\n",
    "\n",
    "# Generate hover text for each cell in the heatmap\n",
    "hover_text = []\n",
    "for i in range(len(correlation_matrix)):\n",
    "    hover_row = []\n",
    "    for j in range(len(correlation_matrix.columns)):\n",
    "        top_themes = theme_periods_counts_pivot.columns[periods_themes.iloc[i].argsort()[:3]]  \n",
    "        hover_row.append(f\"Top 3 themes: {', '.join(top_themes)}\")\n",
    "    hover_text.append(hover_row)\n",
    "\n",
    "# Create the heatmap\n",
    "fig = go.Figure(data=go.Heatmap(\n",
    "    z=correlation_matrix.values,\n",
    "    x=correlation_matrix.columns,\n",
    "    y=correlation_matrix.index,\n",
    "    colorscale='Viridis',\n",
    "    text=hover_text, \n",
    "    hoverinfo='text', \n",
    "    colorbar=dict(title=\"Correlation\")\n",
    "))\n",
    "\n",
    "# Update layout for better visualization\n",
    "fig.update_layout(\n",
    "    title={\n",
    "        'text': \"Interactive Correlation Matrix Between Periods\",\n",
    "        'x': 0.5,\n",
    "        'xanchor': 'center'\n",
    "    },\n",
    "    height=800,\n",
    "    width=1000,\n",
    "    xaxis_tickangle=45, \n",
    ")\n",
    "\n",
    "# Display the figure\n",
    "fig.show()\n",
    "fig.write_html('/Users/lilly-flore/Desktop/period_corr_matrix.html')\n"
   ]
  }
 ],
 "metadata": {
  "kernelspec": {
   "display_name": "ada",
   "language": "python",
   "name": "python3"
  },
  "language_info": {
   "codemirror_mode": {
    "name": "ipython",
    "version": 3
   },
   "file_extension": ".py",
   "mimetype": "text/x-python",
   "name": "python",
   "nbconvert_exporter": "python",
   "pygments_lexer": "ipython3",
   "version": "3.11.9"
  }
 },
 "nbformat": 4,
 "nbformat_minor": 2
}
